{
 "cells": [
  {
   "cell_type": "markdown",
   "id": "5c2dde7b",
   "metadata": {},
   "source": [
    "### import"
   ]
  },
  {
   "cell_type": "code",
   "execution_count": 1,
   "id": "2e2a9a09",
   "metadata": {},
   "outputs": [],
   "source": [
    "%load_ext autoreload\n",
    "%autoreload 2"
   ]
  },
  {
   "cell_type": "code",
   "execution_count": 2,
   "id": "d5a1d273",
   "metadata": {},
   "outputs": [
    {
     "name": "stdout",
     "output_type": "stream",
     "text": [
      "/home/ct-admin/Documents/Langgraph/00_AudioProject/02_Call_Center_AI_Agent\n"
     ]
    }
   ],
   "source": [
    "import os, sys\n",
    "from dotenv import load_dotenv, find_dotenv\n",
    "\n",
    "current_dir = os.getcwd()\n",
    "parent_dir = os.path.dirname(current_dir)\n",
    "sys.path.append(parent_dir)\n",
    "\n",
    "\n",
    "_ = load_dotenv(find_dotenv())\n",
    "\n",
    "# print(os.environ.get('OPENAI_API_KEY'))\n",
    "print(parent_dir)"
   ]
  },
  {
   "cell_type": "code",
   "execution_count": 13,
   "id": "0c46eb0c",
   "metadata": {},
   "outputs": [],
   "source": [
    "from langgraph.prebuilt import create_react_agent\n",
    "from langchain.chat_models import init_chat_model\n",
    "from langchain_core.messages import HumanMessage\n",
    "from langchain_ollama import ChatOllama\n",
    "from langgraph.checkpoint.memory import MemorySaver\n",
    "\n",
    "import uuid\n",
    "model = init_chat_model(\"ollama:qwen2.5:7b-instruct\")\n",
    "checkpointer = MemorySaver()\n",
    "agent = create_react_agent(\n",
    "    model,\n",
    "    tools=[],\n",
    "    prompt = \"you are Trung.\",\n",
    "    checkpointer=checkpointer\n",
    ")\n",
    "thread_id = str(uuid.uuid4())\n",
    "\n",
    "# Create configuration with memory checkpointer (based on your project pattern)\n",
    "config = {\n",
    "    'configurable': {\n",
    "        'thread_id': thread_id\n",
    "    }\n",
    "}\n",
    "\n",
    "# Create the state dictionary that LangGraph react agents expect\n"
   ]
  },
  {
   "cell_type": "code",
   "execution_count": 14,
   "id": "cf7adef9",
   "metadata": {},
   "outputs": [
    {
     "name": "stderr",
     "output_type": "stream",
     "text": [
      "2025-06-13 20:54:37,692 - INFO - HTTP Request: POST http://127.0.0.1:11434/api/chat \"HTTP/1.1 200 OK\"\n"
     ]
    },
    {
     "data": {
      "text/plain": [
       "\"Hello Khoa! It's nice to meet you. How can I assist you today? Whether you have questions about history or need some guidance on a topic related to my expertise as King Trung, feel free to ask.\""
      ]
     },
     "execution_count": 14,
     "metadata": {},
     "output_type": "execute_result"
    }
   ],
   "source": [
    "state = {\n",
    "    \"messages\": [HumanMessage(content=\"hello, I am Khoa\")]\n",
    "}\n",
    "\n",
    "agent.invoke(state, config=config)[\"messages\"][-1].content\n"
   ]
  },
  {
   "cell_type": "code",
   "execution_count": 15,
   "id": "c03da408",
   "metadata": {},
   "outputs": [
    {
     "name": "stderr",
     "output_type": "stream",
     "text": [
      "2025-06-13 20:54:39,733 - INFO - HTTP Request: POST http://127.0.0.1:11434/api/chat \"HTTP/1.1 200 OK\"\n"
     ]
    },
    {
     "data": {
      "text/plain": [
       "\"Your name is Khoa. How can I assist you further with that information, Khoa? Do you have any specific questions or topics you'd like to discuss?\""
      ]
     },
     "execution_count": 15,
     "metadata": {},
     "output_type": "execute_result"
    }
   ],
   "source": [
    "state = {\n",
    "    \"messages\": [HumanMessage(content=\"What is my name\")]\n",
    "}\n",
    "\n",
    "agent.invoke(state, config=config)[\"messages\"][-1].content\n"
   ]
  }
 ],
 "metadata": {
  "kernelspec": {
   "display_name": "llm_cv2",
   "language": "python",
   "name": "python3"
  },
  "language_info": {
   "codemirror_mode": {
    "name": "ipython",
    "version": 3
   },
   "file_extension": ".py",
   "mimetype": "text/x-python",
   "name": "python",
   "nbconvert_exporter": "python",
   "pygments_lexer": "ipython3",
   "version": "3.12.11"
  }
 },
 "nbformat": 4,
 "nbformat_minor": 5
}
