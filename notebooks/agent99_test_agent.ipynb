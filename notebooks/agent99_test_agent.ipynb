{
 "cells": [
  {
   "cell_type": "markdown",
   "metadata": {},
   "source": [
    "## Test Agent\n"
   ]
  },
  {
   "cell_type": "markdown",
   "metadata": {},
   "source": [
    "### Module Import and Auto-Reload"
   ]
  },
  {
   "cell_type": "code",
   "execution_count": 1,
   "metadata": {},
   "outputs": [],
   "source": [
    "# Make sure autoreload is properly set up for auto reload the module if changes\n",
    "%load_ext autoreload\n",
    "%autoreload 2"
   ]
  },
  {
   "cell_type": "code",
   "execution_count": 2,
   "metadata": {},
   "outputs": [],
   "source": [
    "import os, sys\n",
    "from dotenv import load_dotenv, find_dotenv\n",
    "\n",
    "current_dir = os.getcwd()\n",
    "parent_dir = os.path.dirname(current_dir)\n",
    "sys.path.append(parent_dir)\n",
    "\n",
    "\n",
    "_ = load_dotenv(find_dotenv())\n",
    "\n",
    "# print(os.environ.get('OPENAI_API_KEY'))"
   ]
  },
  {
   "cell_type": "markdown",
   "metadata": {},
   "source": [
    "### Phoenix for tracing LLM"
   ]
  },
  {
   "cell_type": "code",
   "execution_count": 3,
   "metadata": {},
   "outputs": [],
   "source": [
    "# from phoenix.otel import register\n",
    "\n",
    "# os.environ['PHOENIX_COLLECTOR_ENDPOINT'] = \"http://localhost:6006\"\n",
    "\n",
    "# trace_provider =  register(\n",
    "#     project_name=\"AgentWithToolsAndMemory\",\n",
    "#     auto_instrument=True\n",
    "\n",
    "# )"
   ]
  },
  {
   "cell_type": "markdown",
   "metadata": {},
   "source": [
    "<!-- Username\n",
    "Vehicle registration\n",
    "Vehicle Make\n",
    "Vehicle Model\n",
    "Vehicle colour\n",
    "Email address\n",
    "Full ID/Passport number (Can be confirmed on its own)\n",
    "\n",
    "--Date of birth\n",
    "--VIN Number\n",
    "--Residential Address\n",
    "--Contact Number -->\n"
   ]
  },
  {
   "cell_type": "markdown",
   "metadata": {},
   "source": [
    "### Agent Loading"
   ]
  },
  {
   "cell_type": "code",
   "execution_count": 3,
   "metadata": {},
   "outputs": [
    {
     "name": "stderr",
     "output_type": "stream",
     "text": [
      "2025-04-17 13:24:27,618 - INFO - NumExpr defaulting to 16 threads.\n",
      "2025-04-17 13:24:27,986 - INFO - HTTP Request: GET https://api.gradio.app/gradio-messaging/en \"HTTP/1.1 200 OK\"\n"
     ]
    }
   ],
   "source": [
    "from langchain_ollama import ChatOllama\n",
    "from langchain_core.tools import tool\n",
    "from langgraph.checkpoint.memory import MemorySaver\n",
    "from src.Agents.custom_agent import SimpleAgent\n",
    "\n",
    "# Define a simple tool\n",
    "@tool\n",
    "def perform_calculation(expression: str) -> str:\n",
    "    \"\"\"Useful for when you need to do simple calculations.\"\"\"\n",
    "    try:\n",
    "        # Evaluate the mathematical expression\n",
    "        # Note: This is safe for simple calculations but would need\n",
    "        # additional validation for production environments\n",
    "        return str(eval(expression))\n",
    "    except Exception as e:\n",
    "        return f\"Error calculating: {str(e)}\"\n",
    "\n",
    "# Create an LLM\n",
    "llm = ChatOllama(model=\"qwen2.5:7b-instruct\", temperature=0)\n",
    "\n",
    "# Create your agent with checkpointing\n",
    "memory_checkpointer = MemorySaver()\n",
    "agent = SimpleAgent(\n",
    "    llm=llm,\n",
    "    tools=[perform_calculation],\n",
    "    system_prompt=\"You are a helpful assistant. If you dont know just say I dont know, dont make up the answer\",\n",
    "    checkpointer=memory_checkpointer\n",
    ")\n",
    "\n"
   ]
  },
  {
   "cell_type": "code",
   "execution_count": 4,
   "metadata": {},
   "outputs": [
    {
     "data": {
      "image/png": "[encoded data removed]",
      "text/plain": [
       "<IPython.core.display.Image object>"
      ]
     },
     "metadata": {},
     "output_type": "display_data"
    }
   ],
   "source": [
    "from src.Agents.custom_agent import SimpleAgent\n",
    "from langchain_core.messages import HumanMessage\n",
    "from IPython.display import Image, display\n",
    "\n",
    "try:\n",
    "    display(Image(agent.graph.get_graph().draw_mermaid_png()))\n",
    "except Exception:\n",
    "    # This requires some extra dependencies and is optional\n",
    "    pass"
   ]
  },
  {
   "cell_type": "code",
   "execution_count": 38,
   "metadata": {},
   "outputs": [
    {
     "name": "stderr",
     "output_type": "stream",
     "text": [
      "2025-04-17 13:02:32,106 - INFO - HTTP Request: POST http://127.0.0.1:11434/api/chat \"HTTP/1.1 200 OK\"\n"
     ]
    },
    {
     "name": "stdout",
     "output_type": "stream",
     "text": [
      "Nice to meet you, Trung! How can I assist you today?\n"
     ]
    },
    {
     "name": "stderr",
     "output_type": "stream",
     "text": [
      "2025-04-17 13:02:32,490 - INFO - HTTP Request: POST http://127.0.0.1:11434/api/chat \"HTTP/1.1 200 OK\"\n"
     ]
    },
    {
     "name": "stdout",
     "output_type": "stream",
     "text": [
      "Sure, how can I assist you with New York, Trung? Do you need information about a specific place or something else?\n",
      "1:tell me 2^2\n"
     ]
    },
    {
     "name": "stderr",
     "output_type": "stream",
     "text": [
      "2025-04-17 13:02:32,777 - INFO - HTTP Request: POST http://127.0.0.1:11434/api/chat \"HTTP/1.1 200 OK\"\n"
     ]
    },
    {
     "name": "stdout",
     "output_type": "stream",
     "text": [
      "2:\n",
      "3:4\n"
     ]
    },
    {
     "name": "stderr",
     "output_type": "stream",
     "text": [
      "2025-04-17 13:02:33,012 - INFO - HTTP Request: POST http://127.0.0.1:11434/api/chat \"HTTP/1.1 200 OK\"\n"
     ]
    },
    {
     "name": "stdout",
     "output_type": "stream",
     "text": [
      "4:The result of 2^2 is 4.\n"
     ]
    }
   ],
   "source": [
    "# Use your agent with persistence\n",
    "response = agent.invoke(\"I am Trung\", thread_id=\"weather-thread-1\")\n",
    "print(response[\"messages\"][-1].content)\n",
    "\n",
    "# Continue the conversation in the same thread\n",
    "follow_up = agent.invoke(\"How about in New York?\", thread_id=\"weather-thread-1\")\n",
    "print(follow_up[\"messages\"][-1].content)\n",
    "\n",
    "# Stream responses\n",
    "i=0\n",
    "for step in agent.stream(\"tell me 2^2\", thread_id=\"weather-thread-2\"):\n",
    "    i += 1\n",
    "    print(f\"{i}:{step['messages'][-1].content}\")"
   ]
  },
  {
   "cell_type": "code",
   "execution_count": null,
   "metadata": {},
   "outputs": [],
   "source": [
    "# print(agent.workflow.get_state(agent.config).values['messages'][-6].content)"
   ]
  },
  {
   "cell_type": "code",
   "execution_count": 7,
   "metadata": {},
   "outputs": [
    {
     "name": "stderr",
     "output_type": "stream",
     "text": [
      "2025-04-23 16:51:21,324 - INFO - Workflow graph built successfully\n",
      "2025-04-23 16:51:21,324 - INFO - Initializing BasicAgent:\n",
      "2025-04-23 16:51:21,325 - INFO -   - Tools: 0\n",
      "2025-04-23 16:51:21,325 - INFO -   - Context window size: 20\n",
      "2025-04-23 16:51:21,325 - INFO -   - Prompt type: RunnableCallable\n",
      "2025-04-23 16:51:21,327 - INFO - Workflow graph built successfully\n",
      "2025-04-23 16:51:21,327 - INFO - Initializing BasicAgent:\n",
      "2025-04-23 16:51:21,327 - INFO -   - Tools: 0\n",
      "2025-04-23 16:51:21,328 - INFO -   - Context window size: 20\n",
      "2025-04-23 16:51:21,328 - INFO -   - Prompt type: RunnableCallable\n"
     ]
    }
   ],
   "source": [
    "from langchain_core.prompts import ChatPromptTemplate, MessagesPlaceholder\n",
    "from src.Agents.agent00_basic_agent import BasicAgent, BasicAgentState\n",
    "from IPython.display import Image, display\n",
    "\n",
    "from langchain_ollama import ChatOllama\n",
    "\n",
    "llm = ChatOllama(model=\"qwen2.5:7b-instruct\", temperature=0, num_ctx=8192)\n",
    "llm = ChatOllama(model=\"cogito:latest\", temperature=0, num_ctx=8192)\n",
    "\n",
    "\n",
    "########################################################################\n",
    "chat_bot = BasicAgent(\n",
    "    model=llm,\n",
    "    prompt=\"You are a customer support agent for an airline.\"\n",
    ")\n",
    "graph_chatbot=chat_bot.workflow\n",
    "\n",
    "########################################################################\n",
    "system_prompt_template = \"\"\"You are a customer of an airline company. \\\n",
    "You are interacting with a user who is a customer support person. \\\n",
    "\n",
    "{instructions}\n",
    "\n",
    "When you are finished with the conversation, respond with a single word 'FINISHED'\"\"\"\n",
    "\n",
    "prompt = ChatPromptTemplate.from_messages(\n",
    "    [\n",
    "        (\"system\", system_prompt_template),\n",
    "        MessagesPlaceholder(variable_name=\"messages\"),\n",
    "    ]\n",
    ")\n",
    "instructions = \"\"\"Your name is Harrison. You are trying to get a refund for the trip you took to Alaska. \\\n",
    "You want them to give you ALL the money back. \\\n",
    "This trip happened 5 years ago.\"\"\"\n",
    "\n",
    "prompt = prompt.partial(name=\"Harrison\", instructions=instructions)\n",
    "simulated_user = BasicAgent(\n",
    "    model=llm,\n",
    "    prompt=prompt\n",
    ")\n",
    "graph_user=simulated_user.workflow\n",
    "\n",
    "########################################################################\n",
    "from langchain_core.messages import AIMessage, HumanMessage\n",
    "from langgraph.graph import END, StateGraph, START\n",
    "\n",
    "class AgentStage(BasicAgentState):\n",
    "    pass\n",
    "\n",
    "def chat_bot_node(state:AgentStage):\n",
    "    messages = state.get(\"messages\",[])\n",
    "    response = chat_bot.invoke(messages)\n",
    "    return {\"messages\": [AIMessage(content=response.content)]}\n",
    "\n",
    "def _swap_roles(messages):\n",
    "    new_messages = []\n",
    "    for m in messages:\n",
    "        if isinstance(m, AIMessage):\n",
    "            new_messages.append(HumanMessage(content=m.content))\n",
    "        else:\n",
    "            new_messages.append(AIMessage(content=m.content))\n",
    "    return new_messages\n",
    "\n",
    "def simulated_user_node(state:AgentStage):\n",
    "    messages = state.get(\"messages\",[])\n",
    "    # Swap roles of messages\n",
    "    new_messages = _swap_roles(messages)\n",
    "    # Call the simulated user\n",
    "    response = simulated_user.invoke({\"messages\": new_messages})\n",
    "    # This response is an AI message - we need to flip this to be a human message\n",
    "    return {\"messages\": [HumanMessage(content=response.content)]}\n",
    "\n",
    "def should_continue(state:AgentStage):\n",
    "    messages = state[\"messages\"]\n",
    "    if len(messages) > 6:\n",
    "        return \"end\"\n",
    "    elif messages[-1].content == \"FINISHED\":\n",
    "        return \"end\"\n",
    "    else:\n",
    "        return \"continue\"\n",
    "\n",
    "graph_builder = StateGraph(AgentStage)\n",
    "graph_builder.add_node(\"user\", simulated_user_node)\n",
    "graph_builder.add_node(\"chat_bot\", chat_bot_node)\n",
    "# Every response from  your chat bot will automatically go to the\n",
    "# simulated user\n",
    "graph_builder.add_edge(\"chat_bot\", \"user\")\n",
    "graph_builder.add_conditional_edges(\n",
    "    \"user\",\n",
    "    should_continue,\n",
    "    # If the finish criteria are met, we will stop the simulation,\n",
    "    # otherwise, the virtual user's message will be sent to your chat bot\n",
    "    {\n",
    "        \"end\": END,\n",
    "        \"continue\": \"chat_bot\",\n",
    "    },\n",
    ")\n",
    "# The input will first go to your chat bot\n",
    "graph_builder.add_edge(START, \"chat_bot\")\n",
    "simulation = graph_builder.compile()\n",
    "\n",
    "\n",
    "# display(Image(simulation.get_graph().draw_mermaid_png()))"
   ]
  },
  {
   "cell_type": "code",
   "execution_count": 16,
   "metadata": {},
   "outputs": [
    {
     "name": "stderr",
     "output_type": "stream",
     "text": [
      "2025-04-23 16:59:02,356 - INFO - Final prompt to LLM:\n",
      "2025-04-23 16:59:02,356 - INFO - system: You are a customer of an airline company. You are interacting with a user who is a customer support ...\n",
      "2025-04-23 16:59:02,356 - INFO - ai: hello\n",
      "2025-04-23 16:59:02,357 - INFO - human: i need help\n",
      "2025-04-23 16:59:02,400 - INFO - HTTP Request: POST http://127.0.0.1:11434/api/chat \"HTTP/1.1 200 OK\"\n"
     ]
    },
    {
     "data": {
      "text/plain": [
       "{'messages': [AIMessage(content='hello', additional_kwargs={}, response_metadata={}, id='73dcac24-622b-47f7-b82d-e2a4a89d8fff'),\n",
       "  HumanMessage(content='i need help', additional_kwargs={}, response_metadata={}, id='f71eb273-39c7-4161-b4b4-22846f207072'),\n",
       "  AIMessage(content=\"Hi! I'm Harrison and I need assistance with my refund request for a trip to Alaska that took place 5 years ago. Can you help me get all of my money back?\", additional_kwargs={}, response_metadata={'model': 'cogito:latest', 'created_at': '2025-04-23T08:59:02.761227006Z', 'done': True, 'done_reason': 'stop', 'total_duration': 402728993, 'load_duration': 14342781, 'prompt_eval_count': 103, 'prompt_eval_duration': 13716792, 'eval_count': 38, 'eval_duration': 373994678, 'message': Message(role='assistant', content='', images=None, tool_calls=None)}, id='run-4ff01153-aec8-4b33-8276-47113658f7e0-0', usage_metadata={'input_tokens': 103, 'output_tokens': 38, 'total_tokens': 141})],\n",
       " 'system_prompt': \"You are a customer of an airline company. You are interacting with a user who is a customer support person. \\nYour name is Harrison. You are trying to get a refund for the trip you took to Alaska. You want them to give you ALL the money back. This trip happened 5 years ago.\\n\\nWhen you are finished with the conversation, respond with a single word 'FINISHED'\"}"
      ]
     },
     "execution_count": 16,
     "metadata": {},
     "output_type": "execute_result"
    }
   ],
   "source": [
    "messages = [AIMessage(\"hello\"), HumanMessage(\"i need help\")]\n",
    "# messages =[]\n",
    "# chat_bot.workflow.invoke({'messages':messages})\n",
    "simulated_user.workflow.invoke({'messages':messages})"
   ]
  }
 ],
 "metadata": {
  "kernelspec": {
   "display_name": "llm_cv2",
   "language": "python",
   "name": "python3"
  },
  "language_info": {
   "codemirror_mode": {
    "name": "ipython",
    "version": 3
   },
   "file_extension": ".py",
   "mimetype": "text/x-python",
   "name": "python",
   "nbconvert_exporter": "python",
   "pygments_lexer": "ipython3",
   "version": "3.12.11"
  }
 },
 "nbformat": 4,
 "nbformat_minor": 2
}
