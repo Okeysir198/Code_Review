{
 "cells": [
  {
   "cell_type": "markdown",
   "id": "e42dabe7",
   "metadata": {},
   "source": [
    "## Import"
   ]
  },
  {
   "cell_type": "code",
   "execution_count": 1,
   "id": "3dd83d79",
   "metadata": {},
   "outputs": [],
   "source": [
    "%load_ext autoreload\n",
    "%autoreload 2"
   ]
  },
  {
   "cell_type": "code",
   "execution_count": 2,
   "id": "8d45d052",
   "metadata": {},
   "outputs": [],
   "source": [
    "import os, sys\n",
    "from dotenv import load_dotenv, find_dotenv\n",
    "\n",
    "\n",
    "sys.path.append(\"../..\")\n",
    "_ = load_dotenv(find_dotenv())\n",
    "\n",
    "# print(os.environ.get('OPENAI_API_KEY'))"
   ]
  },
  {
   "cell_type": "markdown",
   "id": "a5d532e2",
   "metadata": {},
   "source": [
    "## Graph"
   ]
  },
  {
   "cell_type": "code",
   "execution_count": 3,
   "id": "a1a4099f",
   "metadata": {},
   "outputs": [],
   "source": [
    "# from src.Agents.agent00_basic_agent import BasicAgent\n",
    "# from langchain_ollama import ChatOllama\n",
    "from langgraph.prebuilt import create_react_agent\n",
    "from langchain.chat_models import init_chat_model\n",
    "from langchain_tavily import TavilySearch  # type: ignore[import-not-found]\n",
    "from langgraph.checkpoint.memory import MemorySaver\n",
    "\n",
    "prompt =\"you are helpful AI assisstant, answer in 20 words\"\n",
    "search = TavilySearch(max_results=2)\n",
    "tools =[search]\n",
    "model = init_chat_model(\"ollama:qwen2.5:14b-instruct\", temperature=0)#, num_ctx=8192)\n",
    "checkpointer = MemorySaver()\n",
    "\n",
    "graph = create_react_agent(\n",
    "    model=model,\n",
    "    tools=tools,\n",
    "    prompt=prompt,\n",
    "    checkpointer=checkpointer\n",
    ")\n",
    "\n",
    "# graph = BasicAgent(\n",
    "#     model=model,\n",
    "#     tools=tools,\n",
    "#     prompt=prompt\n",
    "# ).workflow\n",
    "\n",
    "config = { \"configurable\": {\"thread_id\": \"1\"} }"
   ]
  },
  {
   "cell_type": "code",
   "execution_count": null,
   "id": "a3c41080",
   "metadata": {},
   "outputs": [],
   "source": [
    "# Invoke the agent\n",
    "\n",
    "response = graph.invoke({\n",
    "        \"messages\": [\n",
    "        # {\"role\": \"user\", \"content\": \"What's the weather in San Francisco?\"},\n",
    "        {\"role\": \"user\", \"content\": \"tell me about yourself\"}\n",
    "        ]},\n",
    "        config=config\n",
    "    )\n",
    "for message in response[\"messages\"]:\n",
    "    message.pretty_print()"
   ]
  },
  {
   "cell_type": "code",
   "execution_count": null,
   "id": "cbbad386",
   "metadata": {},
   "outputs": [],
   "source": [
    "response = graph.invoke({\n",
    "        \"messages\": [\n",
    "        # {\"role\": \"user\", \"content\": \"What's the weather in San Francisco?\"},\n",
    "        {\"role\": \"user\", \"content\": \"what did i ask you\"}\n",
    "        ]},\n",
    "        config=config\n",
    "    )\n",
    "for message in response[\"messages\"]:\n",
    "    message.pretty_print()"
   ]
  },
  {
   "cell_type": "markdown",
   "id": "b559d72c",
   "metadata": {},
   "source": [
    "## VoiceInteractionHandler"
   ]
  },
  {
   "cell_type": "code",
   "execution_count": 4,
   "id": "b2a2093e",
   "metadata": {},
   "outputs": [
    {
     "name": "stderr",
     "output_type": "stream",
     "text": [
      "2025-05-22 14:07:23,999 - INFO - Note: NumExpr detected 32 cores but \"NUMEXPR_MAX_THREADS\" not set, so enforcing safe limit of 16.\n",
      "2025-05-22 14:07:23,999 - INFO - NumExpr defaulting to 16 threads.\n",
      "2025-05-22 14:07:25,389 - INFO - PyTorch version 2.7.0+cu128 available.\n",
      "2025-05-22 14:07:27,037 - INFO - Database connection established successfully\n",
      "2025-05-22 14:07:27,109 - INFO - Creating whisper-large-v3-turbo STT model with config: {'checkpoint': 'whisper-large-v3-turbo', 'model_folder_path': '/home/ct-admin/Documents/Langgraph/HF_models/', 'batch_size': 8, 'cuda_device_id': 1, 'chunk_length_s': 30, 'compute_type': 'float16', 'beam_size': 4, 'show_logs': True}\n",
      "2025-05-22 14:07:27,111 - INFO - Loading STT model from /home/ct-admin/Documents/Langgraph/HF_models/whisper-large-v3-turbo on cuda:1\n"
     ]
    },
    {
     "name": "stdout",
     "output_type": "stream",
     "text": [
      "Device set to use cuda:1\n"
     ]
    },
    {
     "name": "stderr",
     "output_type": "stream",
     "text": [
      "Device set to use cuda:1\n",
      "2025-05-22 14:07:28,205 - INFO - STT model whisper-large-v3-turbo loaded successfully\n",
      "2025-05-22 14:07:28,206 - INFO - Creating kokorov2 TTS model with config: {'voice': 'am_michael', 'speed': 1.35, 'language': 'a', 'use_gpu': True, 'fallback_to_cpu': True, 'sample_rate': 24000, 'preload_voices': ['af_heart'], 'show_logs': True}\n",
      "2025-05-22 14:07:28,206 - INFO - Initializing Kokoro TTS model V2 with settings: voice=am_michael, speed=1.35, use_gpu=True\n",
      "2025-05-22 14:07:28,206 - INFO - Using device: cuda\n"
     ]
    },
    {
     "name": "stdout",
     "output_type": "stream",
     "text": [
      "WARNING: Defaulting repo_id to hexgrad/Kokoro-82M. Pass repo_id='hexgrad/Kokoro-82M' to suppress this warning.\n",
      "WARNING: Defaulting repo_id to hexgrad/Kokoro-82M. Pass repo_id='hexgrad/Kokoro-82M' to suppress this warning.\n",
      "WARNING: Defaulting repo_id to hexgrad/Kokoro-82M. Pass repo_id='hexgrad/Kokoro-82M' to suppress this warning.\n"
     ]
    },
    {
     "name": "stderr",
     "output_type": "stream",
     "text": [
      "2025-05-22 14:07:30,889 - INFO - VoiceInteractionHandler initialized\n"
     ]
    }
   ],
   "source": [
    "from src.VoiceHandler.voice_handler import VoiceInteractionHandler\n",
    "\n",
    "test_config = {\n",
    "    \"stt\": {\n",
    "        \"model_name\": \"whisper-large-v3-turbo\",\n",
    "        \"whisper-large-v3-turbo\": {\n",
    "            \"checkpoint\": \"whisper-large-v3-turbo\",\n",
    "            \"model_folder_path\": \"/home/ct-admin/Documents/Langgraph/HF_models/\",\n",
    "            \"batch_size\": 8,\n",
    "            \"cuda_device_id\": 1,\n",
    "            \"chunk_length_s\": 30,\n",
    "            \"compute_type\": \"float16\",\n",
    "            \"beam_size\": 4\n",
    "        }\n",
    "    },\n",
    "    \"tts\": {\n",
    "        \"model_name\": \"kokorov2\",\n",
    "        \"kokorov2\": {\n",
    "            \"voice\": \"am_michael\",  # af_bella, af_heart, am_fenrir, am_michael\n",
    "            \"speed\": 1.35,\n",
    "            \"language\": \"a\",  # 'a' for US English, 'b' for UK English\n",
    "            \"use_gpu\": True,\n",
    "            \"fallback_to_cpu\": True,\n",
    "            \"sample_rate\": 24000,\n",
    "            \"preload_voices\": [\"af_heart\"],  # Preload common voices\n",
    "            \"custom_pronunciations\": {\n",
    "                \"kokoro\": {\"a\": \"kˈOkəɹO\", \"b\": \"kˈQkəɹQ\"},\n",
    "                \"cartrack\": {\"a\": \"kˈɑɹtɹæk\", \"b\": \"kˈɑːtɹæk\"}\n",
    "            }\n",
    "        },\n",
    "    },\n",
    "    \"configurable\": {\n",
    "        \"enable_stt_model\": True,\n",
    "        \"enable_tts_model\": True\n",
    "    }\n",
    "}\n",
    "\n",
    "handler = VoiceInteractionHandler(test_config)\n"
   ]
  },
  {
   "cell_type": "code",
   "execution_count": 8,
   "id": "3fdcef4c",
   "metadata": {},
   "outputs": [
    {
     "name": "stderr",
     "output_type": "stream",
     "text": [
      "2025-05-22 14:09:37,578 - INFO - Starting workflow stream for message: 'tell me weather at Ho Chiminh CIty?'\n",
      "2025-05-22 14:09:37,580 - INFO - ==================================================\n",
      "2025-05-22 14:09:37,580 - INFO - Event 1: \n",
      " {'messages': [HumanMessage(content='tell me weather at Ho Chiminh CIty?', additional_kwargs={}, response_metadata={}, id='c8e0ffc7-37ee-422b-bf05-31ef2e13e62f'), AIMessage(content='', additional_kwargs={}, response_metadata={'model': 'qwen2.5:14b-instruct', 'created_at': '2025-05-22T06:07:33.979908723Z', 'done': True, 'done_reason': 'stop', 'total_duration': 259483789, 'load_duration': 8214976, 'prompt_eval_count': 960, 'prompt_eval_duration': 7298331, 'eval_count': 27, 'eval_duration': 240213003, 'model_name': 'qwen2.5:14b-instruct'}, id='run--cb66bfda-4265-437b-81d4-b5197edb30fb-0', tool_calls=[{'name': 'tavily_search', 'args': {'query': 'weather in Ho Chi Minh City'}, 'id': '4c64a00d-248a-4010-aaef-fa6c3bb92d53', 'type': 'tool_call'}], usage_metadata={'input_tokens': 960, 'output_tokens': 27, 'total_tokens': 987}), ToolMessage(content='{\"query\": \"weather in Ho Chi Minh City\", \"follow_up_questions\": null, \"answer\": null, \"images\": [], \"results\": [{\"title\": \"Weather in Ho Chi Minh City, Vietnam\", \"url\": \"https://www.weatherapi.com/\", \"content\": \"{\\'location\\': {\\'name\\': \\'Ho Chi Minh City\\', \\'region\\': \\'\\', \\'country\\': \\'Vietnam\\', \\'lat\\': 10.75, \\'lon\\': 106.6667, \\'tz_id\\': \\'Asia/Ho_Chi_Minh\\', \\'localtime_epoch\\': 1747893149, \\'localtime\\': \\'2025-05-22 12:52\\'}, \\'current\\': {\\'last_updated_epoch\\': 1747892700, \\'last_updated\\': \\'2025-05-22 12:45\\', \\'temp_c\\': 33.3, \\'temp_f\\': 91.9, \\'is_day\\': 1, \\'condition\\': {\\'text\\': \\'Partly cloudy\\', \\'icon\\': \\'//cdn.weatherapi.com/weather/64x64/day/116.png\\', \\'code\\': 1003}, \\'wind_mph\\': 2.7, \\'wind_kph\\': 4.3, \\'wind_degree\\': 208, \\'wind_dir\\': \\'SSW\\', \\'pressure_mb\\': 1006.0, \\'pressure_in\\': 29.71, \\'precip_mm\\': 0.0, \\'precip_in\\': 0.0, \\'humidity\\': 63, \\'cloud\\': 75, \\'feelslike_c\\': 44.5, \\'feelslike_f\\': 112.0, \\'windchill_c\\': 29.0, \\'windchill_f\\': 84.1, \\'heatindex_c\\': 33.0, \\'heatindex_f\\': 91.3, \\'dewpoint_c\\': 23.3, \\'dewpoint_f\\': 73.9, \\'vis_km\\': 10.0, \\'vis_miles\\': 6.0, \\'uv\\': 9.9, \\'gust_mph\\': 3.3, \\'gust_kph\\': 5.4}}\", \"score\": 0.974716, \"raw_content\": null}, {\"title\": \"Ho Chi Minh City, Ho Chi Minh City - weather forecast for 22 May 2025\", \"url\": \"https://wisemeteo.com/en/country/vietnam/region/ho-chi-minh-city/city/ho-chi-minh-city/date/05-22\", \"content\": \"Ho Chi Minh City, Ho Chi Minh City - weather outlook for 22 May 2025. Detailed forecasts with updates on temperature, precipitation, wind, and humidity\", \"score\": 0.94761914, \"raw_content\": null}], \"response_time\": 0.64}', name='tavily_search', id='575ff660-7d4f-4722-8bcf-ef24756c768a', tool_call_id='4c64a00d-248a-4010-aaef-fa6c3bb92d53'), AIMessage(content='The current weather in Ho Chi Minh City is partly cloudy with a temperature of 33°C (91.9°F) and humidity at 63%. The wind speed is 2.7 mph from the SSW direction.', additional_kwargs={}, response_metadata={'model': 'qwen2.5:14b-instruct', 'created_at': '2025-05-22T06:07:36.31425599Z', 'done': True, 'done_reason': 'stop', 'total_duration': 609473202, 'load_duration': 17221693, 'prompt_eval_count': 1671, 'prompt_eval_duration': 117813099, 'eval_count': 49, 'eval_duration': 457724122, 'model_name': 'qwen2.5:14b-instruct'}, id='run--c4f63e4a-5c8e-44e6-90c2-3635ee16a36d-0', usage_metadata={'input_tokens': 1671, 'output_tokens': 49, 'total_tokens': 1720}), HumanMessage(content='tell me weather at Ho Chiminh CIty?', additional_kwargs={}, response_metadata={}, id='d4aff203-3c60-4a53-b86b-60036f930589'), AIMessage(content='The current weather in Ho Chi Minh City is partly cloudy with a temperature of 33°C (91.9°F) and humidity at 63%. The wind speed is 2.7 mph from the SSW direction.', additional_kwargs={}, response_metadata={'model': 'qwen2.5:14b-instruct', 'created_at': '2025-05-22T06:08:24.345851176Z', 'done': True, 'done_reason': 'stop', 'total_duration': 501275800, 'load_duration': 7143521, 'prompt_eval_count': 1739, 'prompt_eval_duration': 26910555, 'eval_count': 49, 'eval_duration': 444174002, 'model_name': 'qwen2.5:14b-instruct'}, id='run--ce84cf6a-f318-4e44-be81-722106c1b5f9-0', usage_metadata={'input_tokens': 1739, 'output_tokens': 49, 'total_tokens': 1788}), HumanMessage(content='tell me weather at Ho Chiminh CIty?', additional_kwargs={}, response_metadata={}, id='07f9edce-198e-4ae6-915a-865b7b7d2af9'), AIMessage(content='The current weather in Ho Chi Minh City is partly cloudy with a temperature of 33°C (91.9°F) and humidity at 63%. The wind speed is 2.7 mph from the SSW direction.', additional_kwargs={}, response_metadata={'model': 'qwen2.5:14b-instruct', 'created_at': '2025-05-22T06:08:58.093621459Z', 'done': True, 'done_reason': 'stop', 'total_duration': 519264528, 'load_duration': 8089833, 'prompt_eval_count': 1807, 'prompt_eval_duration': 27981534, 'eval_count': 49, 'eval_duration': 448708231, 'model_name': 'qwen2.5:14b-instruct'}, id='run--a4670d09-94af-479a-8297-725cb1208d41-0', usage_metadata={'input_tokens': 1807, 'output_tokens': 49, 'total_tokens': 1856}), HumanMessage(content='tell me weather at Ho Chiminh CIty?', additional_kwargs={}, response_metadata={}, id='750d0945-6cc4-4518-8e40-ff256a5ac1bb')]}\n"
     ]
    },
    {
     "name": "stderr",
     "output_type": "stream",
     "text": [
      "2025-05-22 14:09:38,120 - INFO - HTTP Request: POST http://127.0.0.1:11434/api/chat \"HTTP/1.1 200 OK\"\n",
      "2025-05-22 14:09:38,122 - INFO - ==================================================\n",
      "2025-05-22 14:09:38,122 - INFO - Event 2: \n",
      " {'messages': [HumanMessage(content='tell me weather at Ho Chiminh CIty?', additional_kwargs={}, response_metadata={}, id='c8e0ffc7-37ee-422b-bf05-31ef2e13e62f'), AIMessage(content='', additional_kwargs={}, response_metadata={'model': 'qwen2.5:14b-instruct', 'created_at': '2025-05-22T06:07:33.979908723Z', 'done': True, 'done_reason': 'stop', 'total_duration': 259483789, 'load_duration': 8214976, 'prompt_eval_count': 960, 'prompt_eval_duration': 7298331, 'eval_count': 27, 'eval_duration': 240213003, 'model_name': 'qwen2.5:14b-instruct'}, id='run--cb66bfda-4265-437b-81d4-b5197edb30fb-0', tool_calls=[{'name': 'tavily_search', 'args': {'query': 'weather in Ho Chi Minh City'}, 'id': '4c64a00d-248a-4010-aaef-fa6c3bb92d53', 'type': 'tool_call'}], usage_metadata={'input_tokens': 960, 'output_tokens': 27, 'total_tokens': 987}), ToolMessage(content='{\"query\": \"weather in Ho Chi Minh City\", \"follow_up_questions\": null, \"answer\": null, \"images\": [], \"results\": [{\"title\": \"Weather in Ho Chi Minh City, Vietnam\", \"url\": \"https://www.weatherapi.com/\", \"content\": \"{\\'location\\': {\\'name\\': \\'Ho Chi Minh City\\', \\'region\\': \\'\\', \\'country\\': \\'Vietnam\\', \\'lat\\': 10.75, \\'lon\\': 106.6667, \\'tz_id\\': \\'Asia/Ho_Chi_Minh\\', \\'localtime_epoch\\': 1747893149, \\'localtime\\': \\'2025-05-22 12:52\\'}, \\'current\\': {\\'last_updated_epoch\\': 1747892700, \\'last_updated\\': \\'2025-05-22 12:45\\', \\'temp_c\\': 33.3, \\'temp_f\\': 91.9, \\'is_day\\': 1, \\'condition\\': {\\'text\\': \\'Partly cloudy\\', \\'icon\\': \\'//cdn.weatherapi.com/weather/64x64/day/116.png\\', \\'code\\': 1003}, \\'wind_mph\\': 2.7, \\'wind_kph\\': 4.3, \\'wind_degree\\': 208, \\'wind_dir\\': \\'SSW\\', \\'pressure_mb\\': 1006.0, \\'pressure_in\\': 29.71, \\'precip_mm\\': 0.0, \\'precip_in\\': 0.0, \\'humidity\\': 63, \\'cloud\\': 75, \\'feelslike_c\\': 44.5, \\'feelslike_f\\': 112.0, \\'windchill_c\\': 29.0, \\'windchill_f\\': 84.1, \\'heatindex_c\\': 33.0, \\'heatindex_f\\': 91.3, \\'dewpoint_c\\': 23.3, \\'dewpoint_f\\': 73.9, \\'vis_km\\': 10.0, \\'vis_miles\\': 6.0, \\'uv\\': 9.9, \\'gust_mph\\': 3.3, \\'gust_kph\\': 5.4}}\", \"score\": 0.974716, \"raw_content\": null}, {\"title\": \"Ho Chi Minh City, Ho Chi Minh City - weather forecast for 22 May 2025\", \"url\": \"https://wisemeteo.com/en/country/vietnam/region/ho-chi-minh-city/city/ho-chi-minh-city/date/05-22\", \"content\": \"Ho Chi Minh City, Ho Chi Minh City - weather outlook for 22 May 2025. Detailed forecasts with updates on temperature, precipitation, wind, and humidity\", \"score\": 0.94761914, \"raw_content\": null}], \"response_time\": 0.64}', name='tavily_search', id='575ff660-7d4f-4722-8bcf-ef24756c768a', tool_call_id='4c64a00d-248a-4010-aaef-fa6c3bb92d53'), AIMessage(content='The current weather in Ho Chi Minh City is partly cloudy with a temperature of 33°C (91.9°F) and humidity at 63%. The wind speed is 2.7 mph from the SSW direction.', additional_kwargs={}, response_metadata={'model': 'qwen2.5:14b-instruct', 'created_at': '2025-05-22T06:07:36.31425599Z', 'done': True, 'done_reason': 'stop', 'total_duration': 609473202, 'load_duration': 17221693, 'prompt_eval_count': 1671, 'prompt_eval_duration': 117813099, 'eval_count': 49, 'eval_duration': 457724122, 'model_name': 'qwen2.5:14b-instruct'}, id='run--c4f63e4a-5c8e-44e6-90c2-3635ee16a36d-0', usage_metadata={'input_tokens': 1671, 'output_tokens': 49, 'total_tokens': 1720}), HumanMessage(content='tell me weather at Ho Chiminh CIty?', additional_kwargs={}, response_metadata={}, id='d4aff203-3c60-4a53-b86b-60036f930589'), AIMessage(content='The current weather in Ho Chi Minh City is partly cloudy with a temperature of 33°C (91.9°F) and humidity at 63%. The wind speed is 2.7 mph from the SSW direction.', additional_kwargs={}, response_metadata={'model': 'qwen2.5:14b-instruct', 'created_at': '2025-05-22T06:08:24.345851176Z', 'done': True, 'done_reason': 'stop', 'total_duration': 501275800, 'load_duration': 7143521, 'prompt_eval_count': 1739, 'prompt_eval_duration': 26910555, 'eval_count': 49, 'eval_duration': 444174002, 'model_name': 'qwen2.5:14b-instruct'}, id='run--ce84cf6a-f318-4e44-be81-722106c1b5f9-0', usage_metadata={'input_tokens': 1739, 'output_tokens': 49, 'total_tokens': 1788}), HumanMessage(content='tell me weather at Ho Chiminh CIty?', additional_kwargs={}, response_metadata={}, id='07f9edce-198e-4ae6-915a-865b7b7d2af9'), AIMessage(content='The current weather in Ho Chi Minh City is partly cloudy with a temperature of 33°C (91.9°F) and humidity at 63%. The wind speed is 2.7 mph from the SSW direction.', additional_kwargs={}, response_metadata={'model': 'qwen2.5:14b-instruct', 'created_at': '2025-05-22T06:08:58.093621459Z', 'done': True, 'done_reason': 'stop', 'total_duration': 519264528, 'load_duration': 8089833, 'prompt_eval_count': 1807, 'prompt_eval_duration': 27981534, 'eval_count': 49, 'eval_duration': 448708231, 'model_name': 'qwen2.5:14b-instruct'}, id='run--a4670d09-94af-479a-8297-725cb1208d41-0', usage_metadata={'input_tokens': 1807, 'output_tokens': 49, 'total_tokens': 1856}), HumanMessage(content='tell me weather at Ho Chiminh CIty?', additional_kwargs={}, response_metadata={}, id='750d0945-6cc4-4518-8e40-ff256a5ac1bb'), AIMessage(content=\"Currently, in Ho Chi Minh City, it's partly cloudy with a temperature of 33°C (91.9°F) and humidity at 63%. Wind speed is 2.7 mph from the SSW direction.\", additional_kwargs={}, response_metadata={'model': 'qwen2.5:14b-instruct', 'created_at': '2025-05-22T06:09:38.120452032Z', 'done': True, 'done_reason': 'stop', 'total_duration': 538662792, 'load_duration': 7531138, 'prompt_eval_count': 1875, 'prompt_eval_duration': 34224305, 'eval_count': 49, 'eval_duration': 449277170, 'model_name': 'qwen2.5:14b-instruct'}, id='run--3e11f841-411e-4ce0-a1b4-02fe2c9544dc-0', usage_metadata={'input_tokens': 1875, 'output_tokens': 49, 'total_tokens': 1924})]}\n",
      "2025-05-22 14:09:38,122 - INFO - Workflow stream completed with 2 events\n",
      "2025-05-22 14:09:38,123 - INFO - Final result contains 10 messages\n"
     ]
    },
    {
     "data": {
      "text/plain": [
       "{'messages': [HumanMessage(content='tell me weather at Ho Chiminh CIty?', additional_kwargs={}, response_metadata={}, id='c8e0ffc7-37ee-422b-bf05-31ef2e13e62f'),\n",
       "  AIMessage(content='', additional_kwargs={}, response_metadata={'model': 'qwen2.5:14b-instruct', 'created_at': '2025-05-22T06:07:33.979908723Z', 'done': True, 'done_reason': 'stop', 'total_duration': 259483789, 'load_duration': 8214976, 'prompt_eval_count': 960, 'prompt_eval_duration': 7298331, 'eval_count': 27, 'eval_duration': 240213003, 'model_name': 'qwen2.5:14b-instruct'}, id='run--cb66bfda-4265-437b-81d4-b5197edb30fb-0', tool_calls=[{'name': 'tavily_search', 'args': {'query': 'weather in Ho Chi Minh City'}, 'id': '4c64a00d-248a-4010-aaef-fa6c3bb92d53', 'type': 'tool_call'}], usage_metadata={'input_tokens': 960, 'output_tokens': 27, 'total_tokens': 987}),\n",
       "  ToolMessage(content='{\"query\": \"weather in Ho Chi Minh City\", \"follow_up_questions\": null, \"answer\": null, \"images\": [], \"results\": [{\"title\": \"Weather in Ho Chi Minh City, Vietnam\", \"url\": \"https://www.weatherapi.com/\", \"content\": \"{\\'location\\': {\\'name\\': \\'Ho Chi Minh City\\', \\'region\\': \\'\\', \\'country\\': \\'Vietnam\\', \\'lat\\': 10.75, \\'lon\\': 106.6667, \\'tz_id\\': \\'Asia/Ho_Chi_Minh\\', \\'localtime_epoch\\': 1747893149, \\'localtime\\': \\'2025-05-22 12:52\\'}, \\'current\\': {\\'last_updated_epoch\\': 1747892700, \\'last_updated\\': \\'2025-05-22 12:45\\', \\'temp_c\\': 33.3, \\'temp_f\\': 91.9, \\'is_day\\': 1, \\'condition\\': {\\'text\\': \\'Partly cloudy\\', \\'icon\\': \\'//cdn.weatherapi.com/weather/64x64/day/116.png\\', \\'code\\': 1003}, \\'wind_mph\\': 2.7, \\'wind_kph\\': 4.3, \\'wind_degree\\': 208, \\'wind_dir\\': \\'SSW\\', \\'pressure_mb\\': 1006.0, \\'pressure_in\\': 29.71, \\'precip_mm\\': 0.0, \\'precip_in\\': 0.0, \\'humidity\\': 63, \\'cloud\\': 75, \\'feelslike_c\\': 44.5, \\'feelslike_f\\': 112.0, \\'windchill_c\\': 29.0, \\'windchill_f\\': 84.1, \\'heatindex_c\\': 33.0, \\'heatindex_f\\': 91.3, \\'dewpoint_c\\': 23.3, \\'dewpoint_f\\': 73.9, \\'vis_km\\': 10.0, \\'vis_miles\\': 6.0, \\'uv\\': 9.9, \\'gust_mph\\': 3.3, \\'gust_kph\\': 5.4}}\", \"score\": 0.974716, \"raw_content\": null}, {\"title\": \"Ho Chi Minh City, Ho Chi Minh City - weather forecast for 22 May 2025\", \"url\": \"https://wisemeteo.com/en/country/vietnam/region/ho-chi-minh-city/city/ho-chi-minh-city/date/05-22\", \"content\": \"Ho Chi Minh City, Ho Chi Minh City - weather outlook for 22 May 2025. Detailed forecasts with updates on temperature, precipitation, wind, and humidity\", \"score\": 0.94761914, \"raw_content\": null}], \"response_time\": 0.64}', name='tavily_search', id='575ff660-7d4f-4722-8bcf-ef24756c768a', tool_call_id='4c64a00d-248a-4010-aaef-fa6c3bb92d53'),\n",
       "  AIMessage(content='The current weather in Ho Chi Minh City is partly cloudy with a temperature of 33°C (91.9°F) and humidity at 63%. The wind speed is 2.7 mph from the SSW direction.', additional_kwargs={}, response_metadata={'model': 'qwen2.5:14b-instruct', 'created_at': '2025-05-22T06:07:36.31425599Z', 'done': True, 'done_reason': 'stop', 'total_duration': 609473202, 'load_duration': 17221693, 'prompt_eval_count': 1671, 'prompt_eval_duration': 117813099, 'eval_count': 49, 'eval_duration': 457724122, 'model_name': 'qwen2.5:14b-instruct'}, id='run--c4f63e4a-5c8e-44e6-90c2-3635ee16a36d-0', usage_metadata={'input_tokens': 1671, 'output_tokens': 49, 'total_tokens': 1720}),\n",
       "  HumanMessage(content='tell me weather at Ho Chiminh CIty?', additional_kwargs={}, response_metadata={}, id='d4aff203-3c60-4a53-b86b-60036f930589'),\n",
       "  AIMessage(content='The current weather in Ho Chi Minh City is partly cloudy with a temperature of 33°C (91.9°F) and humidity at 63%. The wind speed is 2.7 mph from the SSW direction.', additional_kwargs={}, response_metadata={'model': 'qwen2.5:14b-instruct', 'created_at': '2025-05-22T06:08:24.345851176Z', 'done': True, 'done_reason': 'stop', 'total_duration': 501275800, 'load_duration': 7143521, 'prompt_eval_count': 1739, 'prompt_eval_duration': 26910555, 'eval_count': 49, 'eval_duration': 444174002, 'model_name': 'qwen2.5:14b-instruct'}, id='run--ce84cf6a-f318-4e44-be81-722106c1b5f9-0', usage_metadata={'input_tokens': 1739, 'output_tokens': 49, 'total_tokens': 1788}),\n",
       "  HumanMessage(content='tell me weather at Ho Chiminh CIty?', additional_kwargs={}, response_metadata={}, id='07f9edce-198e-4ae6-915a-865b7b7d2af9'),\n",
       "  AIMessage(content='The current weather in Ho Chi Minh City is partly cloudy with a temperature of 33°C (91.9°F) and humidity at 63%. The wind speed is 2.7 mph from the SSW direction.', additional_kwargs={}, response_metadata={'model': 'qwen2.5:14b-instruct', 'created_at': '2025-05-22T06:08:58.093621459Z', 'done': True, 'done_reason': 'stop', 'total_duration': 519264528, 'load_duration': 8089833, 'prompt_eval_count': 1807, 'prompt_eval_duration': 27981534, 'eval_count': 49, 'eval_duration': 448708231, 'model_name': 'qwen2.5:14b-instruct'}, id='run--a4670d09-94af-479a-8297-725cb1208d41-0', usage_metadata={'input_tokens': 1807, 'output_tokens': 49, 'total_tokens': 1856}),\n",
       "  HumanMessage(content='tell me weather at Ho Chiminh CIty?', additional_kwargs={}, response_metadata={}, id='750d0945-6cc4-4518-8e40-ff256a5ac1bb'),\n",
       "  AIMessage(content=\"Currently, in Ho Chi Minh City, it's partly cloudy with a temperature of 33°C (91.9°F) and humidity at 63%. Wind speed is 2.7 mph from the SSW direction.\", additional_kwargs={}, response_metadata={'model': 'qwen2.5:14b-instruct', 'created_at': '2025-05-22T06:09:38.120452032Z', 'done': True, 'done_reason': 'stop', 'total_duration': 538662792, 'load_duration': 7531138, 'prompt_eval_count': 1875, 'prompt_eval_duration': 34224305, 'eval_count': 49, 'eval_duration': 449277170, 'model_name': 'qwen2.5:14b-instruct'}, id='run--3e11f841-411e-4ce0-a1b4-02fe2c9544dc-0', usage_metadata={'input_tokens': 1875, 'output_tokens': 49, 'total_tokens': 1924})]}"
      ]
     },
     "execution_count": 8,
     "metadata": {},
     "output_type": "execute_result"
    }
   ],
   "source": [
    "workflow_result  = handler.process_message(\"tell me weather at Ho Chiminh CIty?\", graph)\n",
    "workflow_result"
   ]
  },
  {
   "cell_type": "code",
   "execution_count": 10,
   "id": "a32de2f0",
   "metadata": {},
   "outputs": [
    {
     "name": "stderr",
     "output_type": "stream",
     "text": [
      "2025-05-22 14:10:32,353 - INFO - Searching through 10 messages for AI response\n",
      "2025-05-22 14:10:32,353 - INFO - Found AI message with content length: 153\n"
     ]
    },
    {
     "data": {
      "text/plain": [
       "\"Currently, in Ho Chi Minh City, it's partly cloudy with a temperature of 33°C (91.9°F) and humidity at 63%. Wind speed is 2.7 mph from the SSW direction.\""
      ]
     },
     "execution_count": 10,
     "metadata": {},
     "output_type": "execute_result"
    }
   ],
   "source": [
    "ai_response = handler._extract_last_ai_message(workflow_result)\n",
    "ai_response"
   ]
  },
  {
   "cell_type": "code",
   "execution_count": 11,
   "id": "f469fb7a",
   "metadata": {},
   "outputs": [
    {
     "data": {
      "text/plain": [
       "10"
      ]
     },
     "execution_count": 11,
     "metadata": {},
     "output_type": "execute_result"
    }
   ],
   "source": [
    "all_messages = workflow_result.get(\"messages\", [])\n",
    "len(all_messages)\n",
    "\n"
   ]
  },
  {
   "cell_type": "code",
   "execution_count": null,
   "id": "db5a7b69",
   "metadata": {},
   "outputs": [],
   "source": []
  },
  {
   "cell_type": "code",
   "execution_count": null,
   "id": "84992b5f",
   "metadata": {},
   "outputs": [],
   "source": []
  },
  {
   "cell_type": "code",
   "execution_count": null,
   "id": "b0d72457",
   "metadata": {},
   "outputs": [],
   "source": []
  },
  {
   "cell_type": "code",
   "execution_count": null,
   "id": "ac6a6e8d",
   "metadata": {},
   "outputs": [],
   "source": []
  },
  {
   "cell_type": "code",
   "execution_count": null,
   "id": "2cd89066",
   "metadata": {},
   "outputs": [],
   "source": []
  },
  {
   "cell_type": "code",
   "execution_count": null,
   "id": "41fdccd2",
   "metadata": {},
   "outputs": [],
   "source": []
  },
  {
   "cell_type": "code",
   "execution_count": null,
   "id": "9714b163",
   "metadata": {},
   "outputs": [],
   "source": []
  },
  {
   "cell_type": "code",
   "execution_count": null,
   "id": "d2b1f577",
   "metadata": {},
   "outputs": [],
   "source": []
  },
  {
   "cell_type": "code",
   "execution_count": null,
   "id": "50cad83e",
   "metadata": {},
   "outputs": [],
   "source": []
  }
 ],
 "metadata": {
  "kernelspec": {
   "display_name": "llm_cv",
   "language": "python",
   "name": "python3"
  },
  "language_info": {
   "codemirror_mode": {
    "name": "ipython",
    "version": 3
   },
   "file_extension": ".py",
   "mimetype": "text/x-python",
   "name": "python",
   "nbconvert_exporter": "python",
   "pygments_lexer": "ipython3",
   "version": "3.11.11"
  }
 },
 "nbformat": 4,
 "nbformat_minor": 5
}
