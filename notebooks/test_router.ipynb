{
 "cells": [
  {
   "cell_type": "code",
   "execution_count": 1,
   "id": "496bb271",
   "metadata": {},
   "outputs": [],
   "source": [
    "# Make sure autoreload is properly set up for auto reload the module if changes\n",
    "%load_ext autoreload\n",
    "%autoreload 2"
   ]
  },
  {
   "cell_type": "code",
   "execution_count": 2,
   "id": "6a7a16ec",
   "metadata": {},
   "outputs": [
    {
     "name": "stdout",
     "output_type": "stream",
     "text": [
      "/home/ct-admin/Documents/Langgraph/00_AudioProject/02_Call_Center_AI_Agent\n"
     ]
    }
   ],
   "source": [
    "import os, sys\n",
    "from dotenv import load_dotenv, find_dotenv\n",
    "\n",
    "current_dir = os.getcwd()\n",
    "parent_dir = os.path.dirname(current_dir)\n",
    "sys.path.append(parent_dir)\n",
    "\n",
    "\n",
    "_ = load_dotenv(find_dotenv())\n",
    "\n",
    "# print(os.environ.get('OPENAI_API_KEY'))\n",
    "print(parent_dir)"
   ]
  },
  {
   "cell_type": "code",
   "execution_count": 3,
   "id": "b675588e",
   "metadata": {},
   "outputs": [
    {
     "name": "stderr",
     "output_type": "stream",
     "text": [
      "2025-05-28 21:53:51,076 - INFO - PyTorch version 2.7.0+cu128 available.\n",
      "2025-05-28 21:53:53,526 - INFO - Database connection established successfully\n"
     ]
    },
    {
     "name": "stdout",
     "output_type": "stream",
     "text": [
      "============================================================\n",
      "ROUTER CLASSIFICATION TEST SUITE\n",
      "============================================================\n",
      "\n",
      "Testing: [name_verification] 'Yes, this is John'\n"
     ]
    },
    {
     "name": "stderr",
     "output_type": "stream",
     "text": [
      "2025-05-28 21:53:55,239 - INFO - HTTP Request: POST http://127.0.0.1:11434/api/chat \"HTTP/1.1 200 OK\"\n",
      "2025-05-28 21:53:55,319 - INFO - HTTP Request: POST http://127.0.0.1:11434/api/chat \"HTTP/1.1 200 OK\"\n",
      "2025-05-28 21:53:55,383 - INFO - HTTP Request: POST http://127.0.0.1:11434/api/chat \"HTTP/1.1 200 OK\"\n",
      "2025-05-28 21:53:55,445 - INFO - HTTP Request: POST http://127.0.0.1:11434/api/chat \"HTTP/1.1 200 OK\"\n"
     ]
    },
    {
     "name": "stdout",
     "output_type": "stream",
     "text": [
      "❌ FAIL: Expected STEP_RELATED, got AGREEMENT\n",
      "\n",
      "Testing: [name_verification] 'Who is this calling?'\n",
      "❌ FAIL: Expected STEP_RELATED, got OBJECTION\n",
      "\n",
      "Testing: [name_verification] 'What's my account balance?'\n",
      "❌ FAIL: Expected QUERY_UNRELATED, got OBJECTION\n",
      "\n",
      "Testing: [name_verification] 'I want to speak to supervisor'\n",
      "✅ PASS: ESCALATION\n",
      "\n",
      "Testing: [reason_for_call] 'I understand'\n"
     ]
    },
    {
     "name": "stderr",
     "output_type": "stream",
     "text": [
      "2025-05-28 21:53:55,510 - INFO - HTTP Request: POST http://127.0.0.1:11434/api/chat \"HTTP/1.1 200 OK\"\n",
      "2025-05-28 21:53:55,572 - INFO - HTTP Request: POST http://127.0.0.1:11434/api/chat \"HTTP/1.1 200 OK\"\n",
      "2025-05-28 21:53:55,635 - INFO - HTTP Request: POST http://127.0.0.1:11434/api/chat \"HTTP/1.1 200 OK\"\n",
      "2025-05-28 21:53:55,698 - INFO - HTTP Request: POST http://127.0.0.1:11434/api/chat \"HTTP/1.1 200 OK\"\n"
     ]
    },
    {
     "name": "stdout",
     "output_type": "stream",
     "text": [
      "✅ PASS: STEP_RELATED\n",
      "\n",
      "Testing: [reason_for_call] 'How much do I owe?'\n",
      "✅ PASS: STEP_RELATED\n",
      "\n",
      "Testing: [reason_for_call] 'Why wasn't my payment taken?'\n",
      "❌ FAIL: Expected QUERY_UNRELATED, got OBJECTION\n",
      "\n",
      "Testing: [reason_for_call] 'This is wrong, I paid already'\n",
      "✅ PASS: OBJECTION\n",
      "\n",
      "Testing: [negotiation] 'I can't afford that much'\n"
     ]
    },
    {
     "name": "stderr",
     "output_type": "stream",
     "text": [
      "2025-05-28 21:53:55,762 - INFO - HTTP Request: POST http://127.0.0.1:11434/api/chat \"HTTP/1.1 200 OK\"\n",
      "2025-05-28 21:53:55,824 - INFO - HTTP Request: POST http://127.0.0.1:11434/api/chat \"HTTP/1.1 200 OK\"\n",
      "2025-05-28 21:53:55,887 - INFO - HTTP Request: POST http://127.0.0.1:11434/api/chat \"HTTP/1.1 200 OK\"\n",
      "2025-05-28 21:53:55,951 - INFO - HTTP Request: POST http://127.0.0.1:11434/api/chat \"HTTP/1.1 200 OK\"\n"
     ]
    },
    {
     "name": "stdout",
     "output_type": "stream",
     "text": [
      "✅ PASS: OBJECTION\n",
      "\n",
      "Testing: [negotiation] 'What happens if I don't pay?'\n",
      "❌ FAIL: Expected QUERY_UNRELATED, got OBJECTION\n",
      "\n",
      "Testing: [negotiation] 'OK, I understand the consequences'\n",
      "✅ PASS: STEP_RELATED\n",
      "\n",
      "Testing: [negotiation] 'Cancel my account'\n",
      "❌ FAIL: Expected ESCALATION, got OBJECTION\n",
      "\n",
      "Testing: [promise_to_pay] 'Yes, you can debit my account'\n"
     ]
    },
    {
     "name": "stderr",
     "output_type": "stream",
     "text": [
      "2025-05-28 21:53:56,018 - INFO - HTTP Request: POST http://127.0.0.1:11434/api/chat \"HTTP/1.1 200 OK\"\n",
      "2025-05-28 21:53:56,080 - INFO - HTTP Request: POST http://127.0.0.1:11434/api/chat \"HTTP/1.1 200 OK\"\n",
      "2025-05-28 21:53:56,143 - INFO - HTTP Request: POST http://127.0.0.1:11434/api/chat \"HTTP/1.1 200 OK\"\n",
      "2025-05-28 21:53:56,206 - INFO - HTTP Request: POST http://127.0.0.1:11434/api/chat \"HTTP/1.1 200 OK\"\n"
     ]
    },
    {
     "name": "stdout",
     "output_type": "stream",
     "text": [
      "✅ PASS: AGREEMENT\n",
      "\n",
      "Testing: [promise_to_pay] 'I can't pay the full amount'\n",
      "✅ PASS: OBJECTION\n",
      "\n",
      "Testing: [promise_to_pay] 'How does DebiCheck work?'\n",
      "✅ PASS: QUERY_UNRELATED\n",
      "\n",
      "Testing: [promise_to_pay] 'I need to think about it'\n",
      "✅ PASS: OBJECTION\n",
      "\n",
      "Testing: [any_step] 'I want to speak to your manager'\n"
     ]
    },
    {
     "name": "stderr",
     "output_type": "stream",
     "text": [
      "2025-05-28 21:53:56,272 - INFO - HTTP Request: POST http://127.0.0.1:11434/api/chat \"HTTP/1.1 200 OK\"\n",
      "2025-05-28 21:53:56,333 - INFO - HTTP Request: POST http://127.0.0.1:11434/api/chat \"HTTP/1.1 200 OK\"\n",
      "2025-05-28 21:53:56,397 - INFO - HTTP Request: POST http://127.0.0.1:11434/api/chat \"HTTP/1.1 200 OK\"\n",
      "2025-05-28 21:53:56,460 - INFO - HTTP Request: POST http://127.0.0.1:11434/api/chat \"HTTP/1.1 200 OK\"\n"
     ]
    },
    {
     "name": "stdout",
     "output_type": "stream",
     "text": [
      "✅ PASS: ESCALATION\n",
      "\n",
      "Testing: [any_step] 'This is harassment'\n",
      "❌ FAIL: Expected ESCALATION, got OBJECTION\n",
      "\n",
      "Testing: [any_step] 'I'm cancelling my service'\n",
      "❌ FAIL: Expected ESCALATION, got OBJECTION\n",
      "\n",
      "Testing: [any_step] 'I want to file a complaint'\n",
      "❌ FAIL: Expected ESCALATION, got OBJECTION\n",
      "\n",
      "============================================================\n",
      "RESULTS: 11 passed, 9 failed\n",
      "Success rate: 55.0%\n",
      "============================================================\n",
      "\n",
      "============================================================\n",
      "CONVERSATION FLOW TEST\n",
      "============================================================\n"
     ]
    },
    {
     "name": "stderr",
     "output_type": "stream",
     "text": [
      "2025-05-28 21:53:56,525 - INFO - HTTP Request: POST http://127.0.0.1:11434/api/chat \"HTTP/1.1 200 OK\"\n",
      "2025-05-28 21:53:56,591 - INFO - HTTP Request: POST http://127.0.0.1:11434/api/chat \"HTTP/1.1 200 OK\"\n",
      "2025-05-28 21:53:56,661 - INFO - HTTP Request: POST http://127.0.0.1:11434/api/chat \"HTTP/1.1 200 OK\"\n",
      "2025-05-28 21:53:56,726 - INFO - HTTP Request: POST http://127.0.0.1:11434/api/chat \"HTTP/1.1 200 OK\"\n"
     ]
    },
    {
     "name": "stdout",
     "output_type": "stream",
     "text": [
      "[introduction] Client: 'Hello?'\n",
      "Expected: STEP_RELATED, Got: QUERY_UNRELATED ❌\n",
      "\n",
      "[name_verification] Client: 'Yes, this is John speaking'\n",
      "Expected: STEP_RELATED, Got: AGREEMENT ❌\n",
      "\n",
      "[details_verification] Client: 'My ID is 8312345678901'\n",
      "Expected: STEP_RELATED, Got: OBJECTION ❌\n",
      "\n"
     ]
    },
    {
     "name": "stderr",
     "output_type": "stream",
     "text": [
      "2025-05-28 21:53:56,792 - INFO - HTTP Request: POST http://127.0.0.1:11434/api/chat \"HTTP/1.1 200 OK\"\n",
      "2025-05-28 21:53:56,857 - INFO - HTTP Request: POST http://127.0.0.1:11434/api/chat \"HTTP/1.1 200 OK\"\n",
      "2025-05-28 21:53:56,920 - INFO - HTTP Request: POST http://127.0.0.1:11434/api/chat \"HTTP/1.1 200 OK\"\n"
     ]
    },
    {
     "name": "stdout",
     "output_type": "stream",
     "text": [
      "[reason_for_call] Client: 'What's this about?'\n",
      "Expected: QUERY_UNRELATED, Got: QUERY_UNRELATED ✅\n",
      "\n",
      "[reason_for_call] Client: 'I understand I owe money'\n",
      "Expected: STEP_RELATED, Got: STEP_RELATED ✅\n",
      "\n",
      "[negotiation] Client: 'I can't pay that much right now'\n",
      "Expected: OBJECTION, Got: OBJECTION ✅\n",
      "\n",
      "[negotiation] Client: 'What are my options?'\n",
      "Expected: QUERY_UNRELATED, Got: OBJECTION ❌\n",
      "\n"
     ]
    },
    {
     "name": "stderr",
     "output_type": "stream",
     "text": [
      "2025-05-28 21:53:56,984 - INFO - HTTP Request: POST http://127.0.0.1:11434/api/chat \"HTTP/1.1 200 OK\"\n",
      "2025-05-28 21:53:57,050 - INFO - HTTP Request: POST http://127.0.0.1:11434/api/chat \"HTTP/1.1 200 OK\"\n",
      "2025-05-28 21:53:57,112 - INFO - HTTP Request: POST http://127.0.0.1:11434/api/chat \"HTTP/1.1 200 OK\"\n",
      "2025-05-28 21:53:57,174 - INFO - HTTP Request: POST http://127.0.0.1:11434/api/chat \"HTTP/1.1 200 OK\"\n"
     ]
    },
    {
     "name": "stdout",
     "output_type": "stream",
     "text": [
      "[promise_to_pay] Client: 'Can I pay half today?'\n",
      "Expected: OBJECTION, Got: OBJECTION ✅\n",
      "\n",
      "[promise_to_pay] Client: 'Yes, debit R200 from my account'\n",
      "Expected: AGREEMENT, Got: AGREEMENT ✅\n",
      "\n",
      "\n",
      "============================================================\n",
      "EDGE CASE TESTING\n",
      "============================================================\n",
      "❌ [negotiation] 'OK' → OBJECTION (expected: STEP_RELATED)\n",
      "✅ [promise_to_pay] 'Maybe' → OBJECTION (expected: OBJECTION)\n"
     ]
    },
    {
     "name": "stderr",
     "output_type": "stream",
     "text": [
      "2025-05-28 21:53:57,235 - INFO - HTTP Request: POST http://127.0.0.1:11434/api/chat \"HTTP/1.1 200 OK\"\n",
      "2025-05-28 21:53:57,297 - INFO - HTTP Request: POST http://127.0.0.1:11434/api/chat \"HTTP/1.1 200 OK\"\n",
      "2025-05-28 21:53:57,361 - INFO - HTTP Request: POST http://127.0.0.1:11434/api/chat \"HTTP/1.1 200 OK\"\n",
      "2025-05-28 21:53:57,427 - INFO - HTTP Request: POST http://127.0.0.1:11434/api/chat \"HTTP/1.1 200 OK\"\n"
     ]
    },
    {
     "name": "stdout",
     "output_type": "stream",
     "text": [
      "❌ [any_step] 'Hmm' → OBJECTION (expected: STEP_RELATED)\n",
      "✅ [negotiation] 'I understand but can't pay' → OBJECTION (expected: OBJECTION)\n",
      "✅ [promise_to_pay] 'Yes but not the full amount' → OBJECTION (expected: OBJECTION)\n",
      "❌ [reason_for_call] 'I'm really confused about why you're calling me because I thought I paid my bill last month and I don't understand what's happening' → OBJECTION (expected: QUERY_UNRELATED)\n"
     ]
    },
    {
     "name": "stderr",
     "output_type": "stream",
     "text": [
      "2025-05-28 21:53:57,490 - INFO - HTTP Request: POST http://127.0.0.1:11434/api/chat \"HTTP/1.1 200 OK\"\n",
      "2025-05-28 21:53:57,551 - INFO - HTTP Request: POST http://127.0.0.1:11434/api/chat \"HTTP/1.1 200 OK\"\n"
     ]
    },
    {
     "name": "stdout",
     "output_type": "stream",
     "text": [
      "❌ [any_step] '' → OBJECTION (expected: STEP_RELATED)\n",
      "❌ [any_step] 'What?' → OBJECTION (expected: STEP_RELATED)\n"
     ]
    }
   ],
   "source": [
    "# ./src/Agents/call_center_agent/test_router.py\n",
    "\"\"\"\n",
    "Dedicated Router Testing - Test LLM router classification decisions.\n",
    "\"\"\"\n",
    "import logging\n",
    "from typing import Dict, Any, List, Tuple\n",
    "from langchain_ollama import ChatOllama\n",
    "from langchain_core.messages import SystemMessage, HumanMessage, AIMessage\n",
    "\n",
    "from src.Agents.call_center_agent.prompts import get_router_prompt, parse_router_decision\n",
    "from src.Agents.call_center_agent.state import CallStep\n",
    "\n",
    "# Configure logging\n",
    "logging.basicConfig(level=logging.INFO)\n",
    "logger = logging.getLogger(__name__)\n",
    "\n",
    "\n",
    "class RouterTester:\n",
    "    \"\"\"Test the LLM router classification system.\"\"\"\n",
    "    \n",
    "    def __init__(self):\n",
    "        self.router_llm = ChatOllama(model=\"qwen2.5:3b-instruct\", temperature=0)\n",
    "    \n",
    "    def test_router_decision(self, current_step: str, client_message: str, context_messages: List = None) -> str:\n",
    "        \"\"\"Test a single router decision.\"\"\"\n",
    "        \n",
    "        # Build test state\n",
    "        state = {\n",
    "            \"current_step\": current_step,\n",
    "            \"client_name\": \"John Smith\",\n",
    "            \"messages\": context_messages or [\n",
    "                AIMessage(content=\"Good day, this is Agent from Cartrack.\"),\n",
    "                HumanMessage(content=client_message)\n",
    "            ]\n",
    "        }\n",
    "        \n",
    "        # Get router prompt\n",
    "        prompt_content = get_router_prompt(state)\n",
    "        prompt = [SystemMessage(content=prompt_content)]\n",
    "        \n",
    "        # Get LLM decision\n",
    "        try:\n",
    "            response = self.router_llm.invoke(prompt)\n",
    "            classification = parse_router_decision(response, state)\n",
    "            return classification\n",
    "        except Exception as e:\n",
    "            logger.error(f\"Router test failed: {e}\")\n",
    "            return \"ERROR\"\n",
    "    \n",
    "    def run_test_suite(self):\n",
    "        \"\"\"Run comprehensive test suite for router.\"\"\"\n",
    "        \n",
    "        print(\"=\" * 60)\n",
    "        print(\"ROUTER CLASSIFICATION TEST SUITE\")\n",
    "        print(\"=\" * 60)\n",
    "        \n",
    "        # Test cases: (current_step, client_message, expected_classification)\n",
    "        test_cases = [\n",
    "            # NAME VERIFICATION TESTS\n",
    "            (\"name_verification\", \"Yes, this is John\", \"STEP_RELATED\"),\n",
    "            (\"name_verification\", \"Who is this calling?\", \"STEP_RELATED\"),\n",
    "            (\"name_verification\", \"What's my account balance?\", \"QUERY_UNRELATED\"),\n",
    "            (\"name_verification\", \"I want to speak to supervisor\", \"ESCALATION\"),\n",
    "            \n",
    "            # REASON FOR CALL TESTS\n",
    "            (\"reason_for_call\", \"I understand\", \"STEP_RELATED\"),\n",
    "            (\"reason_for_call\", \"How much do I owe?\", \"STEP_RELATED\"),\n",
    "            (\"reason_for_call\", \"Why wasn't my payment taken?\", \"QUERY_UNRELATED\"),\n",
    "            (\"reason_for_call\", \"This is wrong, I paid already\", \"OBJECTION\"),\n",
    "            \n",
    "            # NEGOTIATION TESTS\n",
    "            (\"negotiation\", \"I can't afford that much\", \"OBJECTION\"),\n",
    "            (\"negotiation\", \"What happens if I don't pay?\", \"QUERY_UNRELATED\"),\n",
    "            (\"negotiation\", \"OK, I understand the consequences\", \"STEP_RELATED\"),\n",
    "            (\"negotiation\", \"Cancel my account\", \"ESCALATION\"),\n",
    "            \n",
    "            # PROMISE TO PAY TESTS\n",
    "            (\"promise_to_pay\", \"Yes, you can debit my account\", \"AGREEMENT\"),\n",
    "            (\"promise_to_pay\", \"I can't pay the full amount\", \"OBJECTION\"),\n",
    "            (\"promise_to_pay\", \"How does DebiCheck work?\", \"QUERY_UNRELATED\"),\n",
    "            (\"promise_to_pay\", \"I need to think about it\", \"OBJECTION\"),\n",
    "            \n",
    "            # GENERAL ESCALATION TESTS\n",
    "            (\"any_step\", \"I want to speak to your manager\", \"ESCALATION\"),\n",
    "            (\"any_step\", \"This is harassment\", \"ESCALATION\"),\n",
    "            (\"any_step\", \"I'm cancelling my service\", \"ESCALATION\"),\n",
    "            (\"any_step\", \"I want to file a complaint\", \"ESCALATION\"),\n",
    "        ]\n",
    "        \n",
    "        passed = 0\n",
    "        failed = 0\n",
    "        \n",
    "        for step, message, expected in test_cases:\n",
    "            print(f\"\\nTesting: [{step}] '{message}'\")\n",
    "            result = self.test_router_decision(step, message)\n",
    "            \n",
    "            if result == expected:\n",
    "                print(f\"✅ PASS: {result}\")\n",
    "                passed += 1\n",
    "            else:\n",
    "                print(f\"❌ FAIL: Expected {expected}, got {result}\")\n",
    "                failed += 1\n",
    "        \n",
    "        print(\"\\n\" + \"=\" * 60)\n",
    "        print(f\"RESULTS: {passed} passed, {failed} failed\")\n",
    "        print(f\"Success rate: {passed/(passed+failed)*100:.1f}%\")\n",
    "        print(\"=\" * 60)\n",
    "        \n",
    "        return passed, failed\n",
    "    \n",
    "    def test_conversation_flow(self):\n",
    "        \"\"\"Test router in a realistic conversation flow.\"\"\"\n",
    "        \n",
    "        print(\"\\n\" + \"=\" * 60)\n",
    "        print(\"CONVERSATION FLOW TEST\")\n",
    "        print(\"=\" * 60)\n",
    "        \n",
    "        # Simulate a realistic conversation\n",
    "        conversation = [\n",
    "            (\"introduction\", \"Hello?\", \"STEP_RELATED\"),\n",
    "            (\"name_verification\", \"Yes, this is John speaking\", \"STEP_RELATED\"),\n",
    "            (\"details_verification\", \"My ID is 8312345678901\", \"STEP_RELATED\"),\n",
    "            (\"reason_for_call\", \"What's this about?\", \"QUERY_UNRELATED\"),\n",
    "            (\"reason_for_call\", \"I understand I owe money\", \"STEP_RELATED\"),\n",
    "            (\"negotiation\", \"I can't pay that much right now\", \"OBJECTION\"),\n",
    "            (\"negotiation\", \"What are my options?\", \"QUERY_UNRELATED\"),\n",
    "            (\"promise_to_pay\", \"Can I pay half today?\", \"OBJECTION\"),\n",
    "            (\"promise_to_pay\", \"Yes, debit R200 from my account\", \"AGREEMENT\"),\n",
    "        ]\n",
    "        \n",
    "        # Build progressive message history\n",
    "        messages = [AIMessage(content=\"Good day, this is Agent from Cartrack.\")]\n",
    "        \n",
    "        for step, client_msg, expected in conversation:\n",
    "            # Add client message\n",
    "            messages.append(HumanMessage(content=client_msg))\n",
    "            \n",
    "            # Test router decision\n",
    "            state = {\n",
    "                \"current_step\": step,\n",
    "                \"client_name\": \"John Smith\", \n",
    "                \"messages\": messages.copy()\n",
    "            }\n",
    "            \n",
    "            result = self.test_router_decision(step, client_msg, messages.copy())\n",
    "            \n",
    "            print(f\"[{step}] Client: '{client_msg}'\")\n",
    "            print(f\"Expected: {expected}, Got: {result} {'✅' if result == expected else '❌'}\")\n",
    "            \n",
    "            # Add simulated agent response\n",
    "            if result == \"QUERY_UNRELATED\":\n",
    "                messages.append(AIMessage(content=\"I'll explain briefly. Now, regarding your payment...\"))\n",
    "            elif result == \"ESCALATION\":\n",
    "                messages.append(AIMessage(content=\"I understand your concern. Let me help resolve this.\"))\n",
    "            else:\n",
    "                messages.append(AIMessage(content=\"Thank you for that information.\"))\n",
    "            \n",
    "            print()\n",
    "    \n",
    "    def test_edge_cases(self):\n",
    "        \"\"\"Test edge cases and difficult scenarios.\"\"\"\n",
    "        \n",
    "        print(\"\\n\" + \"=\" * 60)\n",
    "        print(\"EDGE CASE TESTING\")\n",
    "        print(\"=\" * 60)\n",
    "        \n",
    "        edge_cases = [\n",
    "            # Ambiguous messages\n",
    "            (\"negotiation\", \"OK\", \"STEP_RELATED\"),\n",
    "            (\"promise_to_pay\", \"Maybe\", \"OBJECTION\"),\n",
    "            (\"any_step\", \"Hmm\", \"STEP_RELATED\"),\n",
    "            \n",
    "            # Mixed intent\n",
    "            (\"negotiation\", \"I understand but can't pay\", \"OBJECTION\"),\n",
    "            (\"promise_to_pay\", \"Yes but not the full amount\", \"OBJECTION\"),\n",
    "            \n",
    "            # Long messages\n",
    "            (\"reason_for_call\", \"I'm really confused about why you're calling me because I thought I paid my bill last month and I don't understand what's happening\", \"QUERY_UNRELATED\"),\n",
    "            \n",
    "            # Empty/short messages\n",
    "            (\"any_step\", \"\", \"STEP_RELATED\"),\n",
    "            (\"any_step\", \"What?\", \"STEP_RELATED\"),\n",
    "        ]\n",
    "        \n",
    "        for step, message, expected in edge_cases:\n",
    "            result = self.test_router_decision(step, message)\n",
    "            status = \"✅\" if result == expected else \"❌\"\n",
    "            print(f\"{status} [{step}] '{message}' → {result} (expected: {expected})\")\n",
    "\n",
    "\n",
    "def run_all_tests():\n",
    "    \"\"\"Run all router tests.\"\"\"\n",
    "    tester = RouterTester()\n",
    "    \n",
    "    # Run test suite\n",
    "    passed, failed = tester.run_test_suite()\n",
    "    \n",
    "    # Run conversation flow test\n",
    "    tester.test_conversation_flow()\n",
    "    \n",
    "    # Run edge case tests\n",
    "    tester.test_edge_cases()\n",
    "    \n",
    "    return passed, failed\n",
    "\n",
    "\n",
    "if __name__ == \"__main__\":\n",
    "    run_all_tests()"
   ]
  }
 ],
 "metadata": {
  "kernelspec": {
   "display_name": "llm_cv",
   "language": "python",
   "name": "python3"
  },
  "language_info": {
   "codemirror_mode": {
    "name": "ipython",
    "version": 3
   },
   "file_extension": ".py",
   "mimetype": "text/x-python",
   "name": "python",
   "nbconvert_exporter": "python",
   "pygments_lexer": "ipython3",
   "version": "3.11.11"
  }
 },
 "nbformat": 4,
 "nbformat_minor": 5
}
