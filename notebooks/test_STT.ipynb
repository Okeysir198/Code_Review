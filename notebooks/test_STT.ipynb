{
 "cells": [
  {
   "cell_type": "code",
   "execution_count": 1,
   "id": "f5f820a9",
   "metadata": {},
   "outputs": [],
   "source": [
    "%load_ext autoreload\n",
    "%autoreload 2"
   ]
  },
  {
   "cell_type": "code",
   "execution_count": 2,
   "id": "0940713f",
   "metadata": {},
   "outputs": [],
   "source": [
    "import os, sys\n",
    "from dotenv import load_dotenv, find_dotenv\n",
    "\n",
    "current_dir = os.getcwd()\n",
    "parent_dir = os.path.dirname(current_dir)\n",
    "sys.path.append(parent_dir)\n",
    "\n",
    "\n",
    "_ = load_dotenv(find_dotenv())\n",
    "\n",
    "# print(os.environ.get('OPENAI_API_KEY'))"
   ]
  },
  {
   "cell_type": "code",
   "execution_count": 3,
   "id": "8fffbc8a",
   "metadata": {},
   "outputs": [
    {
     "data": {
      "text/plain": [
       "['testcases',\n",
       " 'langgraph.json',\n",
       " 'notebooks',\n",
       " 'readme.md',\n",
       " '=0.9.2',\n",
       " '.gradio',\n",
       " '.env',\n",
       " '.langgraph_api',\n",
       " 'src',\n",
       " 'llm_app.py',\n",
       " 'app.log',\n",
       " 'audio_samples',\n",
       " 'asset',\n",
       " 'app_config.py',\n",
       " '__pycache__',\n",
       " 'docs',\n",
       " 'langgraph copy.json',\n",
       " '__init__.py']"
      ]
     },
     "execution_count": 3,
     "metadata": {},
     "output_type": "execute_result"
    }
   ],
   "source": [
    "import os\n",
    "os.listdir(\"../../../HF_models\")\n",
    "os.listdir(\"../\")"
   ]
  },
  {
   "cell_type": "code",
   "execution_count": null,
   "id": "2e34c6cb",
   "metadata": {},
   "outputs": [
    {
     "name": "stderr",
     "output_type": "stream",
     "text": [
      "Device set to use cuda:0\n"
     ]
    },
    {
     "name": "stdout",
     "output_type": "stream",
     "text": [
      " Good day, how are you? Good day. Good, my name is Priti, calling from Card Track Accounts Department. Can I please speak to Phineas Mthongo? Yes, you must begin. Can that call to be recorded for quality and security purposes? Can you please confirm my ID number, sir? 740-225-385-03. Thank you very much. Sir, there is an accolge says because of the outstanding amount of 288,30 cents. Sorry, 288,30, yes, and 30 cents. And we need an immediate payment to be done today. Do you maybe have enough funds so that you can do the deduction? Come on, sir. Sorry? What are you saying? The account is behind with an amount of 288,30, 30 cents, sir. Yes. Yes. We need an immediate payment to be done today. Okay. Yes. Do you have enough funds that you can do the deduction? No fund. Sorry? No money. When can you be able to make the payment? Next month. next month on which day? on the fourth on the fourth so a double deduction? yeah on the fourth no problem I'll make a debit order then for the fourth and then you're gonna get an SMS from the bank asking you to authorize the mandate listen so that you authorize it and also there's gonna be a send run for submission fee Okay. Yes. And then your salary date is on which day sir? On that machine. Okay. And then is there any information that you like to update on the account? No. Alright. And then what is your email address Mr. Ms. Mthongo? Mahalamstongo. Mahalamstongo. Mahalamstongo. Small letters, right? Yes. Oh okay. No problem then sir. So do you have an alternative number? No. All right. So please ensure that you do make the payment to avoid contract suspending the services you're casing, including having access to the F and positioning of your VHS through control room. Okay. All right. Do you have any questions? No. No problem. So we'll do the deduction then of the amount of 288,310 on the 4th of next month and your monthly subscription is going to be deducted on the same day also. Okay. No problem then sir. Thank you very much and for your time. No. Alright. Okay, thank you. Alright, bye. Thank you.\n"
     ]
    }
   ],
   "source": [
    "from transformers import pipeline, AutoModelForSpeechSeq2Seq, AutoProcessor\n",
    "from transformers import BitsAndBytesConfig\n",
    "import torch\n",
    "# Load model components separately\n",
    "torch_dtype = torch.float16\n",
    "# MODEL_NAME = \"../../../HF_models/whisper-large-v3-turbo\"\n",
    "MODEL_NAME =\"openai/whisper-large-v3-turbo\"\n",
    "\n",
    "quantization_config = BitsAndBytesConfig(\n",
    "                load_in_4bit=True,\n",
    "                bnb_4bit_compute_dtype=torch.float16\n",
    "            )\n",
    "\n",
    "processor = AutoProcessor.from_pretrained(MODEL_NAME)\n",
    "model = AutoModelForSpeechSeq2Seq.from_pretrained(\n",
    "    MODEL_NAME,\n",
    "    torch_dtype=torch_dtype, \n",
    "    low_cpu_mem_usage=True,\n",
    "    quantization_config=quantization_config\n",
    "    )\n",
    "\n",
    "# Create pipeline\n",
    "pipe = pipeline(\n",
    "    \"automatic-speech-recognition\",\n",
    "    model=model,\n",
    "    tokenizer=processor.tokenizer,\n",
    "    feature_extractor=processor.feature_extractor\n",
    ")\n",
    "\n",
    "# Use the proper parameter structure\n",
    "audio_path = \"../audio_samples/20250210-181617_8783_27728204887-all.mp3\"\n",
    "result = pipe(\n",
    "    audio_path,\n",
    "    decoder_kwargs={\"language\": \"en\"},\n",
    "    generate_kwargs={\"task\": \"transcribe\"},\n",
    "    return_timestamps=True\n",
    "    \n",
    ")\n",
    "\n",
    "print(result[\"text\"])"
   ]
  },
  {
   "cell_type": "code",
   "execution_count": null,
   "id": "814b12d6",
   "metadata": {},
   "outputs": [
    {
     "data": {
      "text/plain": [
       "[]"
      ]
     },
     "execution_count": 3,
     "metadata": {},
     "output_type": "execute_result"
    }
   ],
   "source": [
    "# MODEL_NAME = \"../../../HF_models/whisper-large-v3-turbo\"\n",
    "# # model.save_pretrained(MODEL_NAME)\n",
    "# processor.save_pretrained(MODEL_NAME)"
   ]
  },
  {
   "cell_type": "markdown",
   "id": "37f9ec1f",
   "metadata": {},
   "source": [
    "### Whisper"
   ]
  },
  {
   "cell_type": "code",
   "execution_count": 3,
   "id": "75632375",
   "metadata": {},
   "outputs": [
    {
     "data": {
      "text/plain": [
       "['20250218-172808_8562_27727903218-all.mp3',\n",
       " '20250218-172457_8788_27832667859-all.mp3',\n",
       " '20250219-093730_8688_27786753396-all.mp3',\n",
       " '20250210-181617_8783_27728204887-all.mp3',\n",
       " '20250220-083952_8689_27648301967-all.mp3']"
      ]
     },
     "execution_count": 3,
     "metadata": {},
     "output_type": "execute_result"
    }
   ],
   "source": [
    "import os\n",
    "os.listdir(\"../audio_samples\")"
   ]
  },
  {
   "cell_type": "code",
   "execution_count": 10,
   "id": "61a5819d",
   "metadata": {},
   "outputs": [
    {
     "name": "stderr",
     "output_type": "stream",
     "text": [
      "2025-05-22 11:25:05,893 - WARNING - Unsupported STT model: openai/whisper-large-v3-turbo. Falling back to 'whisper-large-v3-turbo'. Supported models: whisper-large-v3-turbo, nvidia/parakeet-tdt-0.6b-v2\n",
      "2025-05-22 11:25:05,894 - INFO - Creating whisper-large-v3-turbo STT model with config: {'checkpoint': 'whisper-large-v3-turbo', 'model_folder_path': '/home/ct-admin/Documents/Langgraph/HF_models/', 'batch_size': 8, 'cuda_device_id': 1, 'chunk_length_s': 30, 'compute_type': 'float16', 'beam_size': 3, 'show_logs': True}\n",
      "2025-05-22 11:25:05,895 - INFO - Loading STT model from /home/ct-admin/Documents/Langgraph/HF_models/whisper-large-v3-turbo on cuda:1\n"
     ]
    },
    {
     "name": "stdout",
     "output_type": "stream",
     "text": [
      "{'model_name': 'whisper-large-v3-turbo', 'whisper-large-v3-turbo': {'checkpoint': 'whisper-large-v3-turbo', 'model_folder_path': '/home/ct-admin/Documents/Langgraph/HF_models/', 'batch_size': 8, 'cuda_device_id': 1, 'chunk_length_s': 30, 'compute_type': 'float16', 'beam_size': 3}, 'nvidia/parakeet-tdt-0.6b-v2': {'timestamp_prediction': True, 'decoding_type': 'tdt'}}\n",
      "Device set to use cuda:1\n"
     ]
    },
    {
     "name": "stderr",
     "output_type": "stream",
     "text": [
      "Device set to use cuda:1\n",
      "2025-05-22 11:25:06,526 - INFO - STT model whisper-large-v3-turbo loaded successfully\n",
      "2025-05-22 11:25:06,529 - INFO - Creating nvidia/parakeet-tdt-0.6b-v2 STT model with config: {'timestamp_prediction': True, 'decoding_type': 'tdt', 'show_logs': True}\n",
      "2025-05-22 11:25:06,530 - INFO - Device set to use cuda:0\n",
      "2025-05-22 11:25:06,530 - INFO - Using checkpoint name directly: nvidia/parakeet-tdt-0.6b-v2\n"
     ]
    },
    {
     "name": "stdout",
     "output_type": "stream",
     "text": [
      "[NeMo I 2025-05-22 11:25:07 nemo_logging:393] Tokenizer SentencePieceTokenizer initialized with 1024 tokens\n"
     ]
    },
    {
     "name": "stderr",
     "output_type": "stream",
     "text": [
      "[NeMo W 2025-05-22 11:25:07 nemo_logging:405] If you intend to do training or fine-tuning, please call the ModelPT.setup_training_data() method and provide a valid configuration file to setup the train data loader.\n",
      "    Train config : \n",
      "    use_lhotse: true\n",
      "    skip_missing_manifest_entries: true\n",
      "    input_cfg: null\n",
      "    tarred_audio_filepaths: null\n",
      "    manifest_filepath: null\n",
      "    sample_rate: 16000\n",
      "    shuffle: true\n",
      "    num_workers: 2\n",
      "    pin_memory: true\n",
      "    max_duration: 40.0\n",
      "    min_duration: 0.1\n",
      "    text_field: answer\n",
      "    batch_duration: null\n",
      "    use_bucketing: true\n",
      "    bucket_duration_bins: null\n",
      "    bucket_batch_size: null\n",
      "    num_buckets: 30\n",
      "    bucket_buffer_size: 20000\n",
      "    shuffle_buffer_size: 10000\n",
      "    \n",
      "[NeMo W 2025-05-22 11:25:07 nemo_logging:405] If you intend to do validation, please call the ModelPT.setup_validation_data() or ModelPT.setup_multiple_validation_data() method and provide a valid configuration file to setup the validation data loader(s). \n",
      "    Validation config : \n",
      "    use_lhotse: true\n",
      "    manifest_filepath: null\n",
      "    sample_rate: 16000\n",
      "    batch_size: 16\n",
      "    shuffle: false\n",
      "    max_duration: 40.0\n",
      "    min_duration: 0.1\n",
      "    num_workers: 2\n",
      "    pin_memory: true\n",
      "    text_field: answer\n",
      "    \n"
     ]
    },
    {
     "name": "stdout",
     "output_type": "stream",
     "text": [
      "[NeMo I 2025-05-22 11:25:07 nemo_logging:393] PADDING: 0\n",
      "[NeMo I 2025-05-22 11:25:09 nemo_logging:393] Using RNNT Loss : tdt\n",
      "    Loss tdt_kwargs: {'fastemit_lambda': 0.0, 'clamp': -1.0, 'durations': [0, 1, 2, 3, 4], 'sigma': 0.02, 'omega': 0.1}\n",
      "[NeMo I 2025-05-22 11:25:09 nemo_logging:393] Using RNNT Loss : tdt\n",
      "    Loss tdt_kwargs: {'fastemit_lambda': 0.0, 'clamp': -1.0, 'durations': [0, 1, 2, 3, 4], 'sigma': 0.02, 'omega': 0.1}\n",
      "[NeMo I 2025-05-22 11:25:09 nemo_logging:393] Using RNNT Loss : tdt\n",
      "    Loss tdt_kwargs: {'fastemit_lambda': 0.0, 'clamp': -1.0, 'durations': [0, 1, 2, 3, 4], 'sigma': 0.02, 'omega': 0.1}\n",
      "[NeMo I 2025-05-22 11:25:10 nemo_logging:393] Model EncDecRNNTBPEModel was successfully restored from /home/ct-admin/.cache/huggingface/hub/models--nvidia--parakeet-tdt-0.6b-v2/snapshots/50aec6a056e85b9f95b612df08a2bddc55b58714/parakeet-tdt-0.6b-v2.nemo.\n"
     ]
    },
    {
     "name": "stderr",
     "output_type": "stream",
     "text": [
      "2025-05-22 11:25:10,300 - INFO - NVIDIA Parakeet-TDT model loaded successfully\n"
     ]
    }
   ],
   "source": [
    "from src.STT import create_stt_model\n",
    "from app_config import CONFIG\n",
    "print(CONFIG['stt'])\n",
    "# Configure the model\n",
    "config1 = CONFIG['stt'].copy()\n",
    "config1[\"model_name\"] = \"openai/whisper-large-v3-turbo\"\n",
    "\n",
    "config2 = CONFIG['stt'].copy()\n",
    "config2[\"model_name\"] = \"nvidia/parakeet-tdt-0.6b-v2\"\n",
    "\n",
    "# Create the model\n",
    "model1 = create_stt_model(config1)\n",
    "model2 = create_stt_model(config2)\n"
   ]
  },
  {
   "cell_type": "code",
   "execution_count": 11,
   "id": "8924fc13",
   "metadata": {},
   "outputs": [
    {
     "name": "stderr",
     "output_type": "stream",
     "text": [
      "`generation_config` default values have been modified to match model-specific defaults: {'num_beams': 3}. If this is not desired, please set these values explicitly.\n"
     ]
    },
    {
     "name": "stdout",
     "output_type": "stream",
     "text": [
      "Transcription1:  Good day, how are you? Good day. Good, my name is Priti, calling from Card Track Accounts Department. Can I please speak to Phineas Mthongo? Yes, you must begin. Can you please confirm your ID number, sir? Thank you very much. So that is in our calls, you alcohol justice because of the outstanding amount of 288 ran in 30 cents and we need an immediate payment to be done today. Do you maybe have enough fun so that you can do the deduction? Come on back. Sorry? What are you saying? Yes. We need an immediate payment to be done today. Okay. Yes. Do you have enough funds so that you can do the deduction? No fund. Sorry? No money. When can you be able to make the payment? Next month. Next month on which day? On the 4th. On the 4th. On the 4th. So a double deduction. Yeah, on the 4th. No problem. I'll make it a bit older than for the 4th and then you're going to get an SMS from the bank asking you to authorize the mandate. Listen so that you authorize it and also there's going to be a send run for submission fee. Okay. Yes. And then your salary takes us on which day, sir? On that machine. Okay. And then is there any information that you'd like to have days on the account? No. All right. And then what is your email addressmail address? Mahalamsungohgmail.com Yes. Oh, okay. No problem then, sir. So, do you have an alternative number? No. All right. So, please ensure that you do make the payments to avoid car track suspending the services you're casing, including having access to the app and positioning of your VHS through control room. Okay. All right. Do you have any questions? No. No problem, sir. So, we'll do the deduction then of the amount of 288 running 10 cents on the 40th of next month and your monthly subscription is going to be deducted on the same day also. Okay. No problem then sir. Thank you very much and for your time. No. Alright. Okay. Thank you. Alright. Bye. Thank you.\n",
      "[NeMo I 2025-05-22 11:25:14 nemo_logging:393] Timestamps requested, setting decoding timestamps to True. Capture them in Hypothesis object,                         with output[0][idx].timestep['word'/'segment'/'char']\n",
      "[NeMo I 2025-05-22 11:25:14 nemo_logging:393] Using RNNT Loss : tdt\n",
      "    Loss tdt_kwargs: {'fastemit_lambda': 0.0, 'clamp': -1.0, 'durations': [0, 1, 2, 3, 4], 'sigma': 0.02, 'omega': 0.1}\n"
     ]
    },
    {
     "name": "stderr",
     "output_type": "stream",
     "text": [
      "Transcribing: 100%|██████████| 1/1 [00:00<00:00,  1.68it/s]"
     ]
    },
    {
     "name": "stdout",
     "output_type": "stream",
     "text": [
      "==================================================\n",
      "Transcription2: Good day, how are you? Good day. I'm good. My name is Prithi Colling from Catrak Accounts Department. Can I please speak to Vineyard Sumtongo? Can not that call to be recorded for quality and security purposes? Can you please confirm your IT number, sir? 742263843. Thank you very much. So there is an accordion because of the outstanding amount of 288 run in Delicent and 288 run yes and this is and we need an immediate payment to be done today. Do you maybe have enough funds so that you can do the deduction? Come on. Sorry? What are you saying? The account is behind with an amount of two hundred and eighty eight run in this end sir. Yes. Yes, we need an immediate payment to be done today. Okay. Yes. Do you have enough funds so that you can do the deduction? No found. Sorry? No. No money. When can you be able to make the payment? Next month. Next month on which day? On the fourth. On the fourth. On the fourth, so a double deduction. Yeah, on the fourth. No problem. I'll make it a bit older than for the fourth and then you're going to get an SMS from the bank asking you to authorize the mandate. Please ensure that you authorize it and also there's going to be a 10-run for submission fee. Okay. Yes, and then your salary data on which day, sir? On networking. Okay, and then is there any information that you like to update on the account? No. Alright, and then what is your email address, Mr. Mtongo? Mahalam Songho Agin.com. Mahalam Song Agent Method Com Small Letters, right? Yes. Oh, okay. No problem then, sir. So do you have an alternative number? No. Alright, so please ensure then that you do make the payments to avoid cut track suspending the services you're getting, including having access to the app and positioning of your VICL through control room. Okay. Alright, do you have any question? No. No problem, sir. So we'll do the deduction then of the amount of 288 running 37 on the fourth of next month and your monthly subscription is going to be deducted on the same day also. Okay. No problem then sir. Thank you very much then for your time. No. Alright. Thank you. Alright, bye. Thank you.\n"
     ]
    },
    {
     "name": "stderr",
     "output_type": "stream",
     "text": [
      "\n"
     ]
    }
   ],
   "source": [
    "# Transcribe an audio file\n",
    "audio_path = \"../audio_samples/20250210-181617_8783_27728204887-all.mp3\"\n",
    "\n",
    "result1 = model1.transcribe(audio_path)\n",
    "print(f\"Transcription1: {result1['text']}\")\n",
    "\n",
    "result2 = model2.transcribe(audio_path)\n",
    "print(\"=\"*50)\n",
    "print(f\"Transcription2: {result2['text']}\")\n",
    "\n",
    "# # Print timestamps if available\n",
    "# if \"timestamps\" in result:\n",
    "#     for word, start, end in result[\"timestamps\"]:\n",
    "#         print(f\"'{word}': {start:.2f}s - {end:.2f}s\")"
   ]
  },
  {
   "cell_type": "markdown",
   "id": "729fbae5",
   "metadata": {},
   "source": [
    "### NVIDIA Parakeet-TDT"
   ]
  },
  {
   "cell_type": "code",
   "execution_count": 2,
   "id": "b74c94c5",
   "metadata": {},
   "outputs": [
    {
     "name": "stderr",
     "output_type": "stream",
     "text": [
      "/home/ct-admin/anaconda3/envs/llm_cv/lib/python3.11/site-packages/tqdm/auto.py:21: TqdmWarning: IProgress not found. Please update jupyter and ipywidgets. See https://ipywidgets.readthedocs.io/en/stable/user_install.html\n",
      "  from .autonotebook import tqdm as notebook_tqdm\n"
     ]
    },
    {
     "name": "stdout",
     "output_type": "stream",
     "text": [
      "[NeMo I 2025-05-06 13:28:43 nemo_logging:393] Tokenizer SentencePieceTokenizer initialized with 1024 tokens\n"
     ]
    },
    {
     "name": "stderr",
     "output_type": "stream",
     "text": [
      "[NeMo W 2025-05-06 13:28:43 nemo_logging:405] If you intend to do training or fine-tuning, please call the ModelPT.setup_training_data() method and provide a valid configuration file to setup the train data loader.\n",
      "    Train config : \n",
      "    use_lhotse: true\n",
      "    skip_missing_manifest_entries: true\n",
      "    input_cfg: null\n",
      "    tarred_audio_filepaths: null\n",
      "    manifest_filepath: null\n",
      "    sample_rate: 16000\n",
      "    shuffle: true\n",
      "    num_workers: 2\n",
      "    pin_memory: true\n",
      "    max_duration: 40.0\n",
      "    min_duration: 0.1\n",
      "    text_field: answer\n",
      "    batch_duration: null\n",
      "    use_bucketing: true\n",
      "    bucket_duration_bins: null\n",
      "    bucket_batch_size: null\n",
      "    num_buckets: 30\n",
      "    bucket_buffer_size: 20000\n",
      "    shuffle_buffer_size: 10000\n",
      "    \n",
      "[NeMo W 2025-05-06 13:28:43 nemo_logging:405] If you intend to do validation, please call the ModelPT.setup_validation_data() or ModelPT.setup_multiple_validation_data() method and provide a valid configuration file to setup the validation data loader(s). \n",
      "    Validation config : \n",
      "    use_lhotse: true\n",
      "    manifest_filepath: null\n",
      "    sample_rate: 16000\n",
      "    batch_size: 16\n",
      "    shuffle: false\n",
      "    max_duration: 40.0\n",
      "    min_duration: 0.1\n",
      "    num_workers: 2\n",
      "    pin_memory: true\n",
      "    text_field: answer\n",
      "    \n"
     ]
    },
    {
     "name": "stdout",
     "output_type": "stream",
     "text": [
      "[NeMo I 2025-05-06 13:28:43 nemo_logging:393] PADDING: 0\n",
      "[NeMo I 2025-05-06 13:28:45 nemo_logging:393] Using RNNT Loss : tdt\n",
      "    Loss tdt_kwargs: {'fastemit_lambda': 0.0, 'clamp': -1.0, 'durations': [0, 1, 2, 3, 4], 'sigma': 0.02, 'omega': 0.1}\n",
      "[NeMo I 2025-05-06 13:28:45 nemo_logging:393] Using RNNT Loss : tdt\n",
      "    Loss tdt_kwargs: {'fastemit_lambda': 0.0, 'clamp': -1.0, 'durations': [0, 1, 2, 3, 4], 'sigma': 0.02, 'omega': 0.1}\n",
      "[NeMo I 2025-05-06 13:28:45 nemo_logging:393] Using RNNT Loss : tdt\n",
      "    Loss tdt_kwargs: {'fastemit_lambda': 0.0, 'clamp': -1.0, 'durations': [0, 1, 2, 3, 4], 'sigma': 0.02, 'omega': 0.1}\n",
      "[NeMo I 2025-05-06 13:28:46 nemo_logging:393] Model EncDecRNNTBPEModel was successfully restored from /home/ct-admin/.cache/huggingface/hub/models--nvidia--parakeet-tdt-0.6b-v2/snapshots/50aec6a056e85b9f95b612df08a2bddc55b58714/parakeet-tdt-0.6b-v2.nemo.\n"
     ]
    },
    {
     "name": "stderr",
     "output_type": "stream",
     "text": [
      "Transcribing: 100%|██████████| 1/1 [00:01<00:00,  1.13s/it]"
     ]
    },
    {
     "name": "stdout",
     "output_type": "stream",
     "text": [
      "Good day, how are you? Good day. I'm good. My name is Prithi Colling from Catrak Accounts Department. Can I please speak to Vineyard Sumtongo? Can not that call to be recorded for quality and security purposes? Can you please confirm your IT number, sir? 742263843. Thank you very much. So there is an accordion because of the outstanding amount of 288 run in Delicent and 288 run yes and this is and we need an immediate payment to be done today. Do you maybe have enough funds so that you can do the deduction? Come on. Sorry? What are you saying? The account is behind with an amount of two hundred and eighty eight run in this end sir. Yes. Yes, we need an immediate payment to be done today. Okay. Yes. Do you have enough funds so that you can do the deduction? No found. Sorry? No. No money. When can you be able to make the payment? Next month. Next month on which day? On the fourth. On the fourth. On the fourth, so a double deduction. Yeah, on the fourth. No problem. I'll make it a bit older than for the fourth and then you're going to get an SMS from the bank asking you to authorize the mandate. Please ensure that you authorize it and also there's going to be a 10-run for submission fee. Okay. Yes, and then your salary data on which day, sir? On networking. Okay, and then is there any information that you like to update on the account? No. Alright, and then what is your email address, Mr. Mtongo? Mahalam Songho Agin.com. Mahalam Song Agent Method Com Small Letters, right? Yes. Oh, okay. No problem then, sir. So do you have an alternative number? No. Alright, so please ensure then that you do make the payments to avoid cut track suspending the services you're getting, including having access to the app and positioning of your VICL through control room. Okay. Alright, do you have any question? No. No problem, sir. So we'll do the deduction then of the amount of 288 running 37 on the fourth of next month and your monthly subscription is going to be deducted on the same day also. Okay. No problem then sir. Thank you very much then for your time. No. Alright. Thank you. Alright, bye. Thank you.\n"
     ]
    },
    {
     "name": "stderr",
     "output_type": "stream",
     "text": [
      "\n"
     ]
    }
   ],
   "source": [
    "import nemo.collections.asr as nemo_asr\n",
    "asr_model = nemo_asr.models.ASRModel.from_pretrained(model_name=\"nvidia/parakeet-tdt-0.6b-v2\")\n",
    "\n",
    "audio_path = \"../audio_samples/20250210-181617_8783_27728204887-all.mp3\"\n",
    "\n",
    "output = asr_model.transcribe(audio_path)\n",
    "print(output[0].text)"
   ]
  },
  {
   "cell_type": "code",
   "execution_count": 15,
   "id": "7343ee40",
   "metadata": {},
   "outputs": [
    {
     "name": "stderr",
     "output_type": "stream",
     "text": [
      "Transcribing:   0%|          | 0/1 [00:00<?, ?it/s]"
     ]
    },
    {
     "name": "stderr",
     "output_type": "stream",
     "text": [
      "Transcribing: 100%|██████████| 1/1 [00:00<00:00,  1.83it/s]"
     ]
    },
    {
     "name": "stdout",
     "output_type": "stream",
     "text": [
      "====================================================================================================\n",
      "Good day, how are you? Good day. I'm good. My name is Prithi Colling from Catrak Accounts Department. Can I please speak to Vineyard Sumtongo? Can not that call to be recorded for quality and security purposes? Can you please confirm your IT number, sir? 742263843. Thank you very much. So there is an accordion because of the outstanding amount of 288 run in Delicent and 288 run yes and this is and we need an immediate payment to be done today. Do you maybe have enough funds so that you can do the deduction? Come on. Sorry? What are you saying? The account is behind with an amount of two hundred and eighty eight run in this end sir. Yes. Yes, we need an immediate payment to be done today. Okay. Yes. Do you have enough funds so that you can do the deduction? No found. Sorry? No. No money. When can you be able to make the payment? Next month. Next month on which day? On the fourth. On the fourth. On the fourth, so a double deduction. Yeah, on the fourth. No problem. I'll make it a bit older than for the fourth and then you're going to get an SMS from the bank asking you to authorize the mandate. Please ensure that you authorize it and also there's going to be a 10-run for submission fee. Okay. Yes, and then your salary data on which day, sir? On networking. Okay, and then is there any information that you like to update on the account? No. Alright, and then what is your email address, Mr. Mtongo? Mahalam Songho Agin.com. Mahalam Song Agent Method Com Small Letters, right? Yes. Oh, okay. No problem then, sir. So do you have an alternative number? No. Alright, so please ensure then that you do make the payments to avoid cut track suspending the services you're getting, including having access to the app and positioning of your VICL through control room. Okay. Alright, do you have any question? No. No problem, sir. So we'll do the deduction then of the amount of 288 running 37 on the fourth of next month and your monthly subscription is going to be deducted on the same day also. Okay. No problem then sir. Thank you very much then for your time. No. Alright. Thank you. Alright, bye. Thank you.\n",
      "====================================================================================================\n",
      "0.48s - 1.60s : Good day, how are you?\n",
      "2.48s - 2.96s : Good day.\n",
      "3.52s - 4.00s : I'm good.\n",
      "4.08s - 6.56s : My name is Prithi Colling from Catrak Accounts Department.\n",
      "6.72s - 8.48s : Can I please speak to Vineyard Sumtongo?\n",
      "12.16s - 15.52s : Can not that call to be recorded for quality and security purposes?\n",
      "15.60s - 17.36s : Can you please confirm your IT number, sir?\n",
      "18.64s - 22.24s : 742263843.\n",
      "23.68s - 24.40s : Thank you very much.\n",
      "24.48s - 36.16s : So there is an accordion because of the outstanding amount of 288 run in Delicent and 288 run yes and this is and we need an immediate payment to be done today.\n",
      "36.32s - 39.20s : Do you maybe have enough funds so that you can do the deduction?\n",
      "41.60s - 42.08s : Come on.\n",
      "43.28s - 44.00s : Sorry?\n",
      "48.08s - 49.04s : What are you saying?\n",
      "49.68s - 54.16s : The account is behind with an amount of two hundred and eighty eight run in this end sir.\n",
      "55.60s - 56.00s : Yes.\n",
      "56.64s - 59.44s : Yes, we need an immediate payment to be done today.\n",
      "63.44s - 63.68s : Okay.\n",
      "64.64s - 65.04s : Yes.\n",
      "65.20s - 68.00s : Do you have enough funds so that you can do the deduction?\n",
      "70.56s - 71.28s : No found.\n",
      "72.40s - 73.12s : Sorry?\n",
      "74.72s - 74.96s : No.\n",
      "75.36s - 76.16s : No money.\n",
      "77.04s - 79.52s : When can you be able to make the payment?\n",
      "81.12s - 82.16s : Next month.\n",
      "83.12s - 84.56s : Next month on which day?\n",
      "86.08s - 86.88s : On the fourth.\n",
      "88.00s - 90.16s : On the fourth.\n",
      "90.96s - 93.28s : On the fourth, so a double deduction.\n",
      "94.24s - 95.44s : Yeah, on the fourth.\n",
      "96.64s - 97.20s : No problem.\n",
      "97.36s - 102.72s : I'll make it a bit older than for the fourth and then you're going to get an SMS from the bank asking you to authorize the mandate.\n",
      "103.04s - 107.44s : Please ensure that you authorize it and also there's going to be a 10-run for submission fee.\n",
      "108.64s - 108.96s : Okay.\n",
      "109.60s - 112.24s : Yes, and then your salary data on which day, sir?\n",
      "113.52s - 114.64s : On networking.\n",
      "115.44s - 119.68s : Okay, and then is there any information that you like to update on the account?\n",
      "120.64s - 120.88s : No.\n",
      "122.00s - 123.84s : Alright, and then what is your email address, Mr.\n",
      "124.00s - 124.72s : Mtongo?\n",
      "125.60s - 128.00s : Mahalam Songho Agin.com.\n",
      "129.52s - 132.56s : Mahalam Song Agent Method Com Small Letters, right?\n",
      "133.52s - 133.92s : Yes.\n",
      "134.48s - 134.96s : Oh, okay.\n",
      "135.12s - 136.32s : No problem then, sir.\n",
      "136.96s - 139.12s : So do you have an alternative number?\n",
      "140.40s - 140.64s : No.\n",
      "141.52s - 151.36s : Alright, so please ensure then that you do make the payments to avoid cut track suspending the services you're getting, including having access to the app and positioning of your VICL through control room.\n",
      "152.32s - 152.64s : Okay.\n",
      "153.28s - 155.12s : Alright, do you have any question?\n",
      "156.00s - 156.32s : No.\n",
      "156.96s - 157.84s : No problem, sir.\n",
      "157.92s - 166.80s : So we'll do the deduction then of the amount of 288 running 37 on the fourth of next month and your monthly subscription is going to be deducted on the same day also.\n",
      "167.76s - 168.08s : Okay.\n",
      "168.72s - 170.00s : No problem then sir.\n",
      "170.16s - 171.84s : Thank you very much then for your time.\n",
      "172.72s - 172.96s : No.\n",
      "173.52s - 173.84s : Alright.\n",
      "174.56s - 175.04s : Thank you.\n",
      "175.36s - 175.92s : Alright, bye.\n",
      "176.24s - 176.64s : Thank you.\n"
     ]
    },
    {
     "name": "stderr",
     "output_type": "stream",
     "text": [
      "\n"
     ]
    }
   ],
   "source": [
    "audio_path = \"../audio_samples/20250210-181617_8783_27728204887-all.mp3\"\n",
    "\n",
    "output = asr_model.transcribe([audio_path], timestamps=True)\n",
    "# by default, timestamps are enabled for char, word and segment level\n",
    "word_timestamps = output[0].timestamp['word'] # word level timestamps for first sample\n",
    "segment_timestamps = output[0].timestamp['segment'] # segment level timestamps\n",
    "char_timestamps = output[0].timestamp['char'] # char level timestamps\n",
    "\n",
    "print(\"=\"*100)\n",
    "print(output[0].text)\n",
    "print(\"=\"*100)\n",
    "\n",
    "\n",
    "for stamp in segment_timestamps:\n",
    "    print(f\"{stamp['start']:.02f}s - {stamp['end']:.02f}s : {stamp['segment']}\")\n"
   ]
  },
  {
   "cell_type": "code",
   "execution_count": 7,
   "id": "a6ed054c",
   "metadata": {},
   "outputs": [
    {
     "name": "stderr",
     "output_type": "stream",
     "text": [
      "[NeMo W 2025-05-22 11:06:08 nemo_logging:405] If you intend to do training or fine-tuning, please call the ModelPT.setup_training_data() method and provide a valid configuration file to setup the train data loader.\n",
      "    Train config : \n",
      "    use_lhotse: true\n",
      "    skip_missing_manifest_entries: true\n",
      "    input_cfg: null\n",
      "    tarred_audio_filepaths: null\n",
      "    manifest_filepath: null\n",
      "    sample_rate: 16000\n",
      "    shuffle: true\n",
      "    num_workers: 2\n",
      "    pin_memory: true\n",
      "    max_duration: 40.0\n",
      "    min_duration: 0.1\n",
      "    text_field: answer\n",
      "    batch_duration: null\n",
      "    use_bucketing: true\n",
      "    bucket_duration_bins: null\n",
      "    bucket_batch_size: null\n",
      "    num_buckets: 30\n",
      "    bucket_buffer_size: 20000\n",
      "    shuffle_buffer_size: 10000\n",
      "    \n",
      "[NeMo W 2025-05-22 11:06:08 nemo_logging:405] If you intend to do validation, please call the ModelPT.setup_validation_data() or ModelPT.setup_multiple_validation_data() method and provide a valid configuration file to setup the validation data loader(s). \n",
      "    Validation config : \n",
      "    use_lhotse: true\n",
      "    manifest_filepath: null\n",
      "    sample_rate: 16000\n",
      "    batch_size: 16\n",
      "    shuffle: false\n",
      "    max_duration: 40.0\n",
      "    min_duration: 0.1\n",
      "    num_workers: 2\n",
      "    pin_memory: true\n",
      "    text_field: answer\n",
      "    \n",
      "Transcribing: 100%|██████████| 1/1 [00:01<00:00,  1.09s/it]"
     ]
    },
    {
     "name": "stdout",
     "output_type": "stream",
     "text": [
      "Transcription: Good day, how are you? Good day. I'm good. My name is Prithi Colling from Catrak Accounts Department. Can I please speak to Vineyard Sumtongo? Can not that call to be recorded for quality and security purposes? Can you please confirm your IT number, sir? 742263843. Thank you very much. So there is an accordion because of the outstanding amount of 288 run in Delicent and 288 run yes and this is and we need an immediate payment to be done today. Do you maybe have enough funds so that you can do the deduction? Come on. Sorry? What are you saying? The account is behind with an amount of two hundred and eighty eight run in this end sir. Yes. Yes, we need an immediate payment to be done today. Okay. Yes. Do you have enough funds so that you can do the deduction? No found. Sorry? No. No money. When can you be able to make the payment? Next month. Next month on which day? On the fourth. On the fourth. On the fourth, so a double deduction. Yeah, on the fourth. No problem. I'll make it a bit older than for the fourth and then you're going to get an SMS from the bank asking you to authorize the mandate. Please ensure that you authorize it and also there's going to be a 10-run for submission fee. Okay. Yes, and then your salary data on which day, sir? On networking. Okay, and then is there any information that you like to update on the account? No. Alright, and then what is your email address, Mr. Mtongo? Mahalam Songho Agin.com. Mahalam Song Agent Method Com Small Letters, right? Yes. Oh, okay. No problem then, sir. So do you have an alternative number? No. Alright, so please ensure then that you do make the payments to avoid cut track suspending the services you're getting, including having access to the app and positioning of your VICL through control room. Okay. Alright, do you have any question? No. No problem, sir. So we'll do the deduction then of the amount of 288 running 37 on the fourth of next month and your monthly subscription is going to be deducted on the same day also. Okay. No problem then sir. Thank you very much then for your time. No. Alright. Thank you. Alright, bye. Thank you.\n"
     ]
    },
    {
     "name": "stderr",
     "output_type": "stream",
     "text": [
      "\n"
     ]
    }
   ],
   "source": [
    "from src.STT import create_stt_model\n",
    "\n",
    "config = {\n",
    "    \"model_name\": \"nvidia/parakeet-tdt-0.6b-v2\",\n",
    "    \"show_logs\": False,\n",
    "}\n",
    "\n",
    "# Create the model\n",
    "model = create_stt_model(config)\n",
    "\n",
    "# Transcribe an audio file\n",
    "audio_path = \"../audio_samples/20250210-181617_8783_27728204887-all.mp3\"\n",
    "\n",
    "\n",
    "result = model.transcribe(audio_path)\n",
    "\n",
    "\n",
    "# Print the result\n",
    "print(f\"Transcription: {result['text']}\")\n",
    "\n",
    "# # # Print timestamps if available\n",
    "# # if \"timestamps\" in result:\n",
    "# #     for word, start, end in result[\"timestamps\"]:\n",
    "# #         print(f\"'{word}': {start:.2f}s - {end:.2f}s\")"
   ]
  },
  {
   "cell_type": "code",
   "execution_count": 9,
   "id": "86a19c98",
   "metadata": {},
   "outputs": [
    {
     "name": "stderr",
     "output_type": "stream",
     "text": [
      "Transcribing:   0%|          | 0/1 [00:00<?, ?it/s]"
     ]
    },
    {
     "name": "stderr",
     "output_type": "stream",
     "text": [
      "Transcribing: 100%|██████████| 1/1 [00:00<00:00,  1.94it/s]"
     ]
    },
    {
     "name": "stdout",
     "output_type": "stream",
     "text": [
      "Transcription: Good day, how are you? Good day. I'm good. My name is Prithi Colling from Catrak Accounts Department. Can I please speak to Vineyard Sumtongo? Can not that call to be recorded for quality and security purposes? Can you please confirm your IT number, sir? 742263843. Thank you very much. So there is an accordion because of the outstanding amount of 288 run in Delicent and 288 run yes and this is and we need an immediate payment to be done today. Do you maybe have enough funds so that you can do the deduction? Come on. Sorry? What are you saying? The account is behind with an amount of two hundred and eighty eight run in this end sir. Yes. Yes, we need an immediate payment to be done today. Okay. Yes. Do you have enough funds so that you can do the deduction? No found. Sorry? No. No money. When can you be able to make the payment? Next month. Next month on which day? On the fourth. On the fourth. On the fourth, so a double deduction. Yeah, on the fourth. No problem. I'll make it a bit older than for the fourth and then you're going to get an SMS from the bank asking you to authorize the mandate. Please ensure that you authorize it and also there's going to be a 10-run for submission fee. Okay. Yes, and then your salary data on which day, sir? On networking. Okay, and then is there any information that you like to update on the account? No. Alright, and then what is your email address, Mr. Mtongo? Mahalam Songho Agin.com. Mahalam Song Agent Method Com Small Letters, right? Yes. Oh, okay. No problem then, sir. So do you have an alternative number? No. Alright, so please ensure then that you do make the payments to avoid cut track suspending the services you're getting, including having access to the app and positioning of your VICL through control room. Okay. Alright, do you have any question? No. No problem, sir. So we'll do the deduction then of the amount of 288 running 37 on the fourth of next month and your monthly subscription is going to be deducted on the same day also. Okay. No problem then sir. Thank you very much then for your time. No. Alright. Thank you. Alright, bye. Thank you.\n"
     ]
    },
    {
     "name": "stderr",
     "output_type": "stream",
     "text": [
      "\n"
     ]
    }
   ],
   "source": [
    "result = model.transcribe(audio_path)\n",
    "# Print the result\n",
    "print(f\"Transcription: {result['text']}\")"
   ]
  }
 ],
 "metadata": {
  "kernelspec": {
   "display_name": "llm_cv",
   "language": "python",
   "name": "python3"
  },
  "language_info": {
   "codemirror_mode": {
    "name": "ipython",
    "version": 3
   },
   "file_extension": ".py",
   "mimetype": "text/x-python",
   "name": "python",
   "nbconvert_exporter": "python",
   "pygments_lexer": "ipython3",
   "version": "3.11.11"
  }
 },
 "nbformat": 4,
 "nbformat_minor": 5
}
