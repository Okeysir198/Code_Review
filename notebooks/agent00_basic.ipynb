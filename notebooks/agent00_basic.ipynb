{
 "cells": [
  {
   "cell_type": "markdown",
   "metadata": {},
   "source": [
    "## Agent with and Memory \n"
   ]
  },
  {
   "cell_type": "markdown",
   "metadata": {},
   "source": [
    "https://github.com/langchain-ai/langchain-academy"
   ]
  },
  {
   "cell_type": "markdown",
   "metadata": {},
   "source": [
    "### Module Import and Auto-Reload"
   ]
  },
  {
   "cell_type": "code",
   "execution_count": 1,
   "metadata": {},
   "outputs": [],
   "source": [
    "# Make sure autoreload is properly set up for auto reload the module if changes\n",
    "%load_ext autoreload\n",
    "%autoreload 2"
   ]
  },
  {
   "cell_type": "code",
   "execution_count": 2,
   "metadata": {},
   "outputs": [],
   "source": [
    "import os, sys\n",
    "from dotenv import load_dotenv, find_dotenv\n",
    "\n",
    "current_dir = os.getcwd()\n",
    "parent_dir = os.path.dirname(current_dir)\n",
    "sys.path.append(parent_dir)\n",
    "\n",
    "\n",
    "_ = load_dotenv(find_dotenv())\n",
    "\n",
    "# print(os.environ.get('OPENAI_API_KEY'))"
   ]
  },
  {
   "cell_type": "markdown",
   "metadata": {},
   "source": [
    "### Phoenix for tracing LLM"
   ]
  },
  {
   "cell_type": "code",
   "execution_count": null,
   "metadata": {},
   "outputs": [],
   "source": [
    "# from phoenix.otel import register\n",
    "\n",
    "# os.environ['PHOENIX_COLLECTOR_ENDPOINT'] = \"http://localhost:6006\"\n",
    "\n",
    "# trace_provider =  register(\n",
    "#     project_name=\"AgentWithToolsAndMemory\",\n",
    "#     auto_instrument=True\n",
    "\n",
    "# )"
   ]
  },
  {
   "cell_type": "markdown",
   "metadata": {},
   "source": [
    "<!-- Username\n",
    "Vehicle registration\n",
    "Vehicle Make\n",
    "Vehicle Model\n",
    "Vehicle colour\n",
    "Email address\n",
    "Full ID/Passport number (Can be confirmed on its own)\n",
    "\n",
    "--Date of birth\n",
    "--VIN Number\n",
    "--Residential Address\n",
    "--Contact Number -->\n"
   ]
  },
  {
   "cell_type": "markdown",
   "metadata": {},
   "source": [
    "### Agent Loading"
   ]
  },
  {
   "cell_type": "markdown",
   "metadata": {},
   "source": [
    "When we use memory, we need to specify a `thread_id`.\n",
    "\n",
    "This `thread_id` will store our collection of graph states.\n",
    "\n",
    "Here is a cartoon:\n",
    "\n",
    "* The checkpointer write the state at every step of the graph\n",
    "* These checkpoints are saved in a thread \n",
    "* We can access that thread in the future using the `thread_id`\n",
    "\n",
    "![state.jpg](https://cdn.prod.website-files.com/65b8cd72835ceeacd4449a53/66e0e9f526b41a4ed9e2d28b_agent-memory2.png)\n"
   ]
  },
  {
   "cell_type": "code",
   "execution_count": 3,
   "metadata": {},
   "outputs": [
    {
     "name": "stderr",
     "output_type": "stream",
     "text": [
      "2025-04-18 22:57:01,066 - INFO - Workflow graph built successfully\n",
      "2025-04-18 22:57:01,066 - INFO - Initializing EnhancedToolAgent:\n",
      "2025-04-18 22:57:01,067 - INFO -   - Tools: 5\n",
      "2025-04-18 22:57:01,067 - INFO -   - Context window size: 8\n",
      "2025-04-18 22:57:01,067 - INFO -   - Memory persistence: InMemorySaver\n",
      "2025-04-18 22:57:01,067 - INFO -   - Pre-processing: pre_processing_node\n",
      "2025-04-18 22:57:01,068 - INFO -   - Post-processing: post_processing_node\n",
      "2025-04-18 22:57:01,068 - INFO -   - System prompt: 'You are AI helpful assistant'\n"
     ]
    }
   ],
   "source": [
    "from app_config import CONFIG\n",
    "from src.Agents.agent00_basic_agent import BasicAgent, BasicAgentState\n",
    "from src.Agents import DEFAULT_TOOLS\n",
    "from langchain_ollama import ChatOllama\n",
    "\n",
    "# Create a new instance with with thread for persist memmory\n",
    "config = CONFIG.copy()\n",
    "config[\"configurable\"]={\"thread_id\": 1}\n",
    "config['configurable']['use_memory'] = True\n",
    "config['configurable']['enable_stt_model'] = False\n",
    "config['configurable']['enable_tts_model'] = False\n",
    "\n",
    "system_prompt = \"You are AI helpful assistant\"\n",
    "def pre_processing_node(state:BasicAgentState):\n",
    "    messages = state.get('messages',[]) # + [SystemMessage(\"Please reponse in Vietnamese only\")]\n",
    "    return {\"messages\":messages}\n",
    "\n",
    "\n",
    "def post_processing_node(state:BasicAgentState):\n",
    "    messages = state.get('messages',[])\n",
    "    return {\"messages\":messages}\n",
    "llm = ChatOllama(model=\"qwen2.5:7b-instruct\", temperature=0, num_ctx=8192)\n",
    "agent = BasicAgent(\n",
    "                model=llm, \n",
    "                system_prompt=system_prompt,\n",
    "                tools = DEFAULT_TOOLS,\n",
    "                pre_processing_node=pre_processing_node,\n",
    "                post_processing_node=post_processing_node,\n",
    "                config=config,\n",
    "                )\n",
    "graph = agent.workflow\n"
   ]
  },
  {
   "cell_type": "code",
   "execution_count": 4,
   "metadata": {},
   "outputs": [
    {
     "data": {
      "image/png": "[encoded data removed]",
      "text/plain": [
       "<IPython.core.display.Image object>"
      ]
     },
     "metadata": {},
     "output_type": "display_data"
    }
   ],
   "source": [
    "from IPython.display import Image, display\n",
    "from langchain_core.runnables.graph import CurveStyle, MermaidDrawMethod, NodeStyles\n",
    "\n",
    "\n",
    "# display(Image(agent.workflow.get_graph().draw_mermaid_png()))\n",
    "# print(agent.workflow.get_graph().draw_mermaid())\n",
    "display(\n",
    "\n",
    "    Image(\n",
    "        agent.workflow.get_graph().draw_mermaid_png(\n",
    "            draw_method=MermaidDrawMethod.API,\n",
    "        )\n",
    "    )\n",
    "    \n",
    ")"
   ]
  },
  {
   "cell_type": "code",
   "execution_count": 14,
   "metadata": {},
   "outputs": [
    {
     "name": "stderr",
     "output_type": "stream",
     "text": [
      "2025-04-18 22:59:55,346 - INFO - HTTP Request: POST http://127.0.0.1:11434/api/chat \"HTTP/1.1 200 OK\"\n"
     ]
    },
    {
     "name": "stdout",
     "output_type": "stream",
     "text": [
      "================================\u001b[1m Human Message \u001b[0m=================================\n",
      "\n",
      "hello\n",
      "==================================\u001b[1m Ai Message \u001b[0m==================================\n",
      "\n",
      "Hello! How can I assist you today?\n",
      "================================\u001b[1m Human Message \u001b[0m=================================\n",
      "\n",
      "hello\n",
      "==================================\u001b[1m Ai Message \u001b[0m==================================\n",
      "\n",
      "Hello! Is there a specific question or task you need help with?\n"
     ]
    }
   ],
   "source": [
    "# agent.set_logging(False)\n",
    "# agent.set_debug_mode(True)\n",
    "\n",
    "\n",
    "# config[\"configurable\"]= {\"thread_id\": 2}\n",
    "# agent.config = config\n",
    "\n",
    "# agent.process_message(\"what is temperature of hochiminh city\")\n",
    "\n",
    "response = agent.invoke(\"hello\",thread_id=\"2\")[\"messages\"]\n",
    "\n",
    "for msg in response:\n",
    "    msg.pretty_print()\n",
    "\n"
   ]
  },
  {
   "cell_type": "code",
   "execution_count": 15,
   "metadata": {},
   "outputs": [
    {
     "name": "stderr",
     "output_type": "stream",
     "text": [
      "2025-04-18 23:00:50,013 - INFO - HTTP Request: POST http://127.0.0.1:11434/api/chat \"HTTP/1.1 200 OK\"\n"
     ]
    },
    {
     "name": "stdout",
     "output_type": "stream",
     "text": [
      "Nice to meet you, Trung! How can I assist you today? Do you have a question or need help with something specific?\n"
     ]
    },
    {
     "name": "stderr",
     "output_type": "stream",
     "text": [
      "2025-04-18 23:00:50,241 - INFO - HTTP Request: POST http://127.0.0.1:11434/api/chat \"HTTP/1.1 200 OK\"\n"
     ]
    },
    {
     "name": "stdout",
     "output_type": "stream",
     "text": [
      "Your name is Trung. Is there anything else you would like to know or discuss?\n"
     ]
    }
   ],
   "source": [
    "config[\"configurable\"]= {\"thread_id\": 1}\n",
    "\n",
    "agent.config = config\n",
    "print(agent.invoke(\"I am Trung\", thread_id='5')['messages'][-1].content)\n",
    "\n",
    "print(agent.invoke(\"what is my name\", thread_id='5')['messages'][-1].content)\n",
    "\n"
   ]
  },
  {
   "cell_type": "code",
   "execution_count": null,
   "metadata": {},
   "outputs": [],
   "source": []
  },
  {
   "cell_type": "code",
   "execution_count": 16,
   "metadata": {},
   "outputs": [
    {
     "name": "stderr",
     "output_type": "stream",
     "text": [
      "2025-04-18 23:23:37,230 - INFO - HTTP Request: POST http://127.0.0.1:11434/api/chat \"HTTP/1.1 200 OK\"\n"
     ]
    },
    {
     "name": "stdout",
     "output_type": "stream",
     "text": [
      "Nice to meet you, Trung! How can I assist you today? Do you have a question or need help with something specific?\n"
     ]
    },
    {
     "name": "stderr",
     "output_type": "stream",
     "text": [
      "2025-04-18 23:23:37,636 - INFO - HTTP Request: POST http://127.0.0.1:11434/api/chat \"HTTP/1.1 200 OK\"\n"
     ]
    },
    {
     "name": "stdout",
     "output_type": "stream",
     "text": [
      "Sure! Could you please provide more details about what you'd like to know about New York? Are you looking for information on attractions, weather, events, or perhaps something else?\n",
      "1:tell me 2^2\n",
      "2:tell me 2^2\n"
     ]
    },
    {
     "name": "stderr",
     "output_type": "stream",
     "text": [
      "2025-04-18 23:23:37,871 - INFO - HTTP Request: POST http://127.0.0.1:11434/api/chat \"HTTP/1.1 200 OK\"\n",
      "2025-04-18 23:23:38,061 - INFO - HTTP Request: POST http://127.0.0.1:11434/api/chat \"HTTP/1.1 200 OK\"\n"
     ]
    },
    {
     "name": "stdout",
     "output_type": "stream",
     "text": [
      "3:\n",
      "4:4\n",
      "5:The result of \\(2^2\\) is 4.\n",
      "6:The result of \\(2^2\\) is 4.\n"
     ]
    }
   ],
   "source": [
    "# Use your agent with persistence\n",
    "response = agent.invoke(\"I am Trung\", thread_id=\"weather-thread-1\")\n",
    "print(response[\"messages\"][-1].content)\n",
    "\n",
    "# Continue the conversation in the same thread\n",
    "follow_up = agent.invoke(\"How about in New York?\", thread_id=\"weather-thread-1\")\n",
    "print(follow_up[\"messages\"][-1].content)\n",
    "\n",
    "# Stream responses\n",
    "i=0\n",
    "for step in agent.stream(\"tell me 2^2\", thread_id=\"weather-thread-2\"):\n",
    "    i += 1\n",
    "    print(f\"{i}:{step['messages'][-1].content}\")"
   ]
  },
  {
   "cell_type": "code",
   "execution_count": 10,
   "metadata": {},
   "outputs": [
    {
     "name": "stdout",
     "output_type": "stream",
     "text": [
      "what is my name\n"
     ]
    }
   ],
   "source": [
    "print(agent.workflow.get_state(agent.config).values['messages'][-6].content)"
   ]
  },
  {
   "cell_type": "markdown",
   "metadata": {},
   "source": [
    "https://langchain-ai.github.io/langgraph/cloud/how-tos/background_run/"
   ]
  },
  {
   "cell_type": "code",
   "execution_count": null,
   "metadata": {},
   "outputs": [
    {
     "name": "stderr",
     "output_type": "stream",
     "text": [
      "2025-04-18 23:27:30,760 - INFO - HTTP Request: POST http://127.0.0.1:2024/threads \"HTTP/1.1 200 OK\"\n"
     ]
    },
    {
     "name": "stdout",
     "output_type": "stream",
     "text": [
      "{'thread_id': 'd7a36ee3-1919-4f79-9ebb-5a400a7dc754', 'created_at': '2025-04-18T15:27:30.760500+00:00', 'updated_at': '2025-04-18T15:27:30.760503+00:00', 'metadata': {}, 'status': 'idle', 'config': {}, 'values': None}\n"
     ]
    }
   ],
   "source": [
    "from langgraph_sdk import get_client\n",
    "client = get_client(url=\"http://127.0.0.1:2024\")\n",
    "# Using the graph deployed with the name \"agent\"\n",
    "assistant_id = \"agent_basic_1\"\n",
    "\n",
    "# create thread\n",
    "thread = await client.threads.create()\n",
    "print(thread)"
   ]
  },
  {
   "cell_type": "code",
   "execution_count": 18,
   "metadata": {},
   "outputs": [
    {
     "name": "stderr",
     "output_type": "stream",
     "text": [
      "2025-04-18 23:26:52,207 - INFO - HTTP Request: GET http://127.0.0.1:2024/threads/fd604a96-92da-46f2-a5d6-67cc4709d6ea/runs?limit=10&offset=0 \"HTTP/1.1 200 OK\"\n"
     ]
    },
    {
     "name": "stdout",
     "output_type": "stream",
     "text": [
      "[]\n"
     ]
    }
   ],
   "source": [
    "runs = await client.runs.list(thread[\"thread_id\"])\n",
    "print(runs)\n"
   ]
  },
  {
   "cell_type": "code",
   "execution_count": 19,
   "metadata": {},
   "outputs": [
    {
     "name": "stderr",
     "output_type": "stream",
     "text": [
      "2025-04-18 23:27:04,378 - INFO - HTTP Request: POST http://127.0.0.1:2024/threads/fd604a96-92da-46f2-a5d6-67cc4709d6ea/runs \"HTTP/1.1 200 OK\"\n"
     ]
    }
   ],
   "source": [
    "input = {\"messages\": [{\"role\": \"user\", \"content\": \"what's the weather in sf\"}]}\n",
    "run = await client.runs.create(thread[\"thread_id\"], assistant_id, input=input)"
   ]
  }
 ],
 "metadata": {
  "kernelspec": {
   "display_name": "llm_cv2",
   "language": "python",
   "name": "python3"
  },
  "language_info": {
   "codemirror_mode": {
    "name": "ipython",
    "version": 3
   },
   "file_extension": ".py",
   "mimetype": "text/x-python",
   "name": "python",
   "nbconvert_exporter": "python",
   "pygments_lexer": "ipython3",
   "version": "3.11.11"
  }
 },
 "nbformat": 4,
 "nbformat_minor": 2
}
