{
 "cells": [
  {
   "cell_type": "code",
   "execution_count": 3,
   "id": "9aacab5f",
   "metadata": {},
   "outputs": [],
   "source": [
    "%load_ext autoreload\n",
    "%autoreload 2\n",
    "import os\n",
    "import sys\n",
    "from dotenv import find_dotenv, load_dotenv\n",
    "_ = load_dotenv(find_dotenv())\n",
    "\n",
    "current_dir = os.getcwd()\n",
    "parent_dir = os.path.dirname(current_dir)\n",
    "sys.path.append(parent_dir)\n"
   ]
  },
  {
   "cell_type": "code",
   "execution_count": null,
   "id": "7409ab87",
   "metadata": {},
   "outputs": [],
   "source": []
  },
  {
   "cell_type": "code",
   "execution_count": 12,
   "id": "e9015072",
   "metadata": {},
   "outputs": [
    {
     "data": {
      "text/plain": [
       "[HumanMessage(content='hello', additional_kwargs={}, response_metadata={}, id='7a951583-6c4f-42a4-a005-1161236e3f0a'),\n",
       " AIMessage(content='Good day, you are speaking to AI Agent from the Cartrack Accounts Department. May I speak to John Smith, please?', additional_kwargs={}, response_metadata={}, id='1d32ada7-e5c2-4086-9941-7171ef8189ae'),\n",
       " HumanMessage(content='yes, I am John Smith', additional_kwargs={}, response_metadata={}, id='ee505610-cc74-45d6-a58a-dd2ed24ee3d6'),\n",
       " AIMessage(content=\"Please note that this call is recorded for quality and security purposes. To ensure I'm speaking with the right person, could you please confirm your ID number?\", additional_kwargs={}, response_metadata={}, id='5121747b-d509-460a-b9fd-fc6f092589ee'),\n",
       " HumanMessage(content='can you say again', additional_kwargs={}, response_metadata={}, id='1d1e598e-74b5-4171-b231-5aac940d0e01'),\n",
       " AIMessage(content='Sure thing. Could you please confirm your ID number?', additional_kwargs={}, response_metadata={}, id='c22f35a3-2cf3-4364-90d2-96a13bcbfc2c')]"
      ]
     },
     "execution_count": 12,
     "metadata": {},
     "output_type": "execute_result"
    }
   ],
   "source": [
    "from src.Agents.agent00_debtor_call_center import CallCenterAgent\n",
    "from src.Agents.agent00_callcenter_simulation import AGENT_CONFIG, run_simulation\n",
    "\n",
    "agent = CallCenterAgent(AGENT_CONFIG)\n",
    "config = {\"configurable\": {\"thread_id\": \"simulation-main1\"}}\n",
    "\n",
    "agent.workflow.invoke({\"messages\": \"hello\"},config=config)\n",
    "agent.workflow.invoke({\"messages\": \"yes, I am John Smith\"},config=config)\n",
    "result = agent.workflow.invoke({\"messages\": \"can you say again\"},config=config)\n",
    "\n",
    "\n",
    "agent.workflow.get_state(config).values['messages']"
   ]
  },
  {
   "cell_type": "code",
   "execution_count": null,
   "id": "69386762",
   "metadata": {},
   "outputs": [],
   "source": [
    "agent.workflow.invoke({\"message\": \"can you say again\"},config=config)\n",
    "\n",
    "agent.workflow.invoke({\"message\": \"yes, I am\"},config=config)\n"
   ]
  },
  {
   "cell_type": "code",
   "execution_count": 17,
   "id": "15d75951",
   "metadata": {},
   "outputs": [
    {
     "name": "stderr",
     "output_type": "stream",
     "text": [
      "2025-04-28 16:25:41,128 - ERROR - Error running simulation: '05_promise_to_pay'\n"
     ]
    },
    {
     "name": "stdout",
     "output_type": "stream",
     "text": [
      "Starting simulation with a cooperative debtor...\n",
      "\n",
      "--- SIMULATION RESULTS ---\n",
      "\n",
      "Simulation failed with error: '05_promise_to_pay'\n"
     ]
    }
   ],
   "source": [
    "from src.Agents.agent00_debtor_call_center import CallCenterAgent\n",
    "from src.Agents.agent00_callcenter_simulation import AGENT_CONFIG, run_simulation, create_simulation, call_center_agent_instance\n",
    "call_center_agent_instance=None\n",
    "personality = \"cooperative\"\n",
    "print(f\"Starting simulation with a {personality} debtor...\")\n",
    "\n",
    "conversation = run_simulation(personality)\n",
    "print(\"\\n--- SIMULATION RESULTS ---\\n\")\n",
    "print(conversation)"
   ]
  },
  {
   "cell_type": "code",
   "execution_count": null,
   "id": "29b13860",
   "metadata": {},
   "outputs": [
    {
     "ename": "ModuleNotFoundError",
     "evalue": "No module named 'src'",
     "output_type": "error",
     "traceback": [
      "\u001b[31m---------------------------------------------------------------------------\u001b[39m",
      "\u001b[31mModuleNotFoundError\u001b[39m                       Traceback (most recent call last)",
      "\u001b[36mCell\u001b[39m\u001b[36m \u001b[39m\u001b[32mIn[1]\u001b[39m\u001b[32m, line 1\u001b[39m\n\u001b[32m----> \u001b[39m\u001b[32m1\u001b[39m \u001b[38;5;28;01mfrom\u001b[39;00m\u001b[38;5;250m \u001b[39m\u001b[34;01msrc\u001b[39;00m\u001b[34;01m.\u001b[39;00m\u001b[34;01mAgents\u001b[39;00m\u001b[34;01m.\u001b[39;00m\u001b[34;01magent00_debtor_call_center\u001b[39;00m\u001b[38;5;250m \u001b[39m\u001b[38;5;28;01mimport\u001b[39;00m CallCenterAgent\n\u001b[32m      2\u001b[39m \u001b[38;5;28;01mimport\u001b[39;00m\u001b[38;5;250m \u001b[39m\u001b[34;01mlogging\u001b[39;00m\n\u001b[32m      3\u001b[39m \u001b[38;5;28;01mfrom\u001b[39;00m\u001b[38;5;250m \u001b[39m\u001b[34;01mtyping\u001b[39;00m\u001b[38;5;250m \u001b[39m\u001b[38;5;28;01mimport\u001b[39;00m Dict, Any, List, Optional, Union\n",
      "\u001b[31mModuleNotFoundError\u001b[39m: No module named 'src'"
     ]
    }
   ],
   "source": []
  }
 ],
 "metadata": {
  "kernelspec": {
   "display_name": "llm_cv",
   "language": "python",
   "name": "python3"
  },
  "language_info": {
   "codemirror_mode": {
    "name": "ipython",
    "version": 3
   },
   "file_extension": ".py",
   "mimetype": "text/x-python",
   "name": "python",
   "nbconvert_exporter": "python",
   "pygments_lexer": "ipython3",
   "version": "3.11.11"
  }
 },
 "nbformat": 4,
 "nbformat_minor": 5
}
