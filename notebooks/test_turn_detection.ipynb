{
 "cells": [
  {
   "cell_type": "markdown",
   "id": "c5692e30",
   "metadata": {},
   "source": [
    "## Load env"
   ]
  },
  {
   "cell_type": "code",
   "execution_count": 1,
   "id": "4367555e",
   "metadata": {},
   "outputs": [],
   "source": [
    "%load_ext autoreload\n",
    "%autoreload 2"
   ]
  },
  {
   "cell_type": "code",
   "execution_count": 2,
   "id": "44f5c3c8",
   "metadata": {},
   "outputs": [
    {
     "name": "stdout",
     "output_type": "stream",
     "text": [
      "/home/ct-admin/Documents/Langgraph/00_AudioProject/02_Call_Center_AI_Agent\n"
     ]
    }
   ],
   "source": [
    "import os, sys\n",
    "from dotenv import load_dotenv, find_dotenv\n",
    "\n",
    "current_dir = os.getcwd()\n",
    "parent_dir = os.path.dirname(current_dir)\n",
    "sys.path.append(parent_dir)\n",
    "\n",
    "\n",
    "_ = load_dotenv(find_dotenv())\n",
    "\n",
    "# print(os.environ.get('OPENAI_API_KEY'))\n",
    "print(parent_dir)"
   ]
  },
  {
   "cell_type": "markdown",
   "id": "4eb59d91",
   "metadata": {},
   "source": [
    "## Test Livekit Turn Detection"
   ]
  },
  {
   "cell_type": "code",
   "execution_count": null,
   "id": "48ec846e",
   "metadata": {},
   "outputs": [
    {
     "name": "stderr",
     "output_type": "stream",
     "text": [
      "/home/ct-admin/anaconda3/envs/llm_cv2/lib/python3.12/site-packages/tqdm/auto.py:21: TqdmWarning: IProgress not found. Please update jupyter and ipywidgets. See https://ipywidgets.readthedocs.io/en/stable/user_install.html\n",
      "  from .autonotebook import tqdm as notebook_tqdm\n",
      "2025-06-16 15:54:06,026 - INFO - Connection pool keep-alive thread started (interval: 300s)\n"
     ]
    },
    {
     "name": "stdout",
     "output_type": "stream",
     "text": [
      "✓ LiveKit model loaded (multilingual)\n"
     ]
    },
    {
     "name": "stderr",
     "output_type": "stream",
     "text": [
      "2025-06-16 16:24:16,413 - INFO - Closing idle connection (idle for 1816s)\n",
      "2025-06-16 16:24:16,415 - INFO - Closing idle connection (idle for 1815s)\n",
      "2025-06-16 16:24:16,416 - INFO - Closing idle connection (idle for 1813s)\n",
      "2025-06-16 16:24:16,417 - INFO - Closing idle connection (idle for 1812s)\n",
      "2025-06-16 16:24:16,418 - INFO - Closing idle connection (idle for 1810s)\n",
      "2025-06-16 16:54:33,748 - INFO - Closing idle connection (idle for 1816s)\n",
      "2025-06-16 16:54:33,748 - INFO - Closing idle connection (idle for 1815s)\n",
      "2025-06-16 16:54:33,748 - INFO - Closing idle connection (idle for 1813s)\n",
      "2025-06-16 16:54:33,749 - INFO - Closing idle connection (idle for 1812s)\n",
      "2025-06-16 16:54:33,749 - INFO - Closing idle connection (idle for 1810s)\n"
     ]
    }
   ],
   "source": [
    "from src.VAD_TurnDectection.turn_detector import LiveKitTurnDetector, TENTurnDetector\n",
    "\n",
    "detector1 = LiveKitTurnDetector(\"multilingual\")\n",
    "\n"
   ]
  },
  {
   "cell_type": "code",
   "execution_count": 4,
   "id": "9e5f1708",
   "metadata": {},
   "outputs": [
    {
     "data": {
      "text/plain": [
       "{'should_end': False,\n",
       " 'type': 'livekit',\n",
       " 'eou_probability': 0.00720433983951807,\n",
       " 'state': 'unfinished',\n",
       " 'duration_ms': 22.3}"
      ]
     },
     "execution_count": 4,
     "metadata": {},
     "output_type": "execute_result"
    }
   ],
   "source": [
    "messages = [\n",
    "    {\"role\": \"assistant\", \"content\": \"How can I help you today?\"},\n",
    "    {\"role\": \"user\", \"content\": \"Tell me about yourself. ah, let me think, please say something\"},\n",
    "    {\"role\": \"assistant\", \"content\": \"What specifically do you need help with?\"},\n",
    "    {\"role\": \"user\", \"content\": \"Actually, never mind. Thanks\"}\n",
    "]\n",
    "messages= [\n",
    "    {\"role\": \"assistant\", \"content\": \"I didn't call you. You contacted me here about Cartrack matters.\"},\n",
    "    {\"role\": \"user\", \"content\": \"You call me. let me check again.\"},\n",
    "    {\"role\": \"assistant\", \"content\": \"No, I didn't call you. This is just a text chat.\"},\n",
    "    {\"role\": \"user\", \"content\": \"Colas.\"},\n",
    "    {\"role\": \"assistant\", \"content\": \"I don't understand. Please clarify what you need help with.\"},\n",
    "    {\"role\": \"user\", \"content\": \"Damn. It's so good. let me check\"}\n",
    "]\n",
    "result = detector1.predict(messages)\n",
    "\n",
    "result = detector1.should_end_turn(messages)\n",
    "result\n",
    "\n",
    "# print(f\"Should end turn: {result['should_end']}\")\n",
    "# print(f\"Probability: {result['probability']:.3f}\")\n",
    "# print(f\"Duration: {result['duration_ms']}ms\")"
   ]
  },
  {
   "cell_type": "markdown",
   "id": "2d52cdd8",
   "metadata": {},
   "source": [
    "## Test Ten Turn detection\n"
   ]
  },
  {
   "cell_type": "code",
   "execution_count": 5,
   "id": "8faa46b2",
   "metadata": {},
   "outputs": [
    {
     "name": "stdout",
     "output_type": "stream",
     "text": [
      "✓ TEN model loaded: hf.co/Mungert/TEN_Turn_Detection-GGUF:Q4_K_M\n"
     ]
    }
   ],
   "source": [
    "detector2 = TENTurnDetector(model_name=\"hf.co/Mungert/TEN_Turn_Detection-GGUF:Q4_K_M\")\n"
   ]
  },
  {
   "cell_type": "code",
   "execution_count": 6,
   "id": "171378ac",
   "metadata": {},
   "outputs": [
    {
     "name": "stderr",
     "output_type": "stream",
     "text": [
      "2025-06-16 15:54:23,440 - INFO - HTTP Request: POST http://127.0.0.1:11434/api/chat \"HTTP/1.1 200 OK\"\n"
     ]
    },
    {
     "data": {
      "text/plain": [
       "{'should_end': False,\n",
       " 'type': 'ten',\n",
       " 'state': 'wait',\n",
       " 'eou_probability': 0.1,\n",
       " 'raw_result': 'wait',\n",
       " 'duration_ms': 1646.79}"
      ]
     },
     "execution_count": 6,
     "metadata": {},
     "output_type": "execute_result"
    }
   ],
   "source": [
    "result = detector2.should_end_turn(messages)\n",
    "result"
   ]
  },
  {
   "cell_type": "code",
   "execution_count": null,
   "id": "c9e7d67e",
   "metadata": {},
   "outputs": [],
   "source": []
  },
  {
   "cell_type": "code",
   "execution_count": 8,
   "id": "29953b99",
   "metadata": {},
   "outputs": [
    {
     "name": "stdout",
     "output_type": "stream",
     "text": [
      "LiveKit Turn Detection Model Manager\n",
      "============================================================\n",
      "\n",
      "==================== MULTILINGUAL MODEL ====================\n",
      "Checking multilingual model status...\n",
      "--------------------------------------------------\n",
      "Model: livekit/turn-detector\n",
      "Revision: v0.2.0-intl\n",
      "Cache directory: /home/ct-admin/.cache/huggingface/hub\n",
      "Model cache path: /home/ct-admin/.cache/huggingface/hub/models--livekit--turn-detector\n",
      "✅ Found 3 snapshot(s):\n",
      "\n",
      "  Snapshot 1: ebcab0c09c2b62d926e92180d364df3aaae68a09\n",
      "  Path: /home/ct-admin/.cache/huggingface/hub/models--livekit--turn-detector/snapshots/ebcab0c09c2b62d926e92180d364df3aaae68a09\n",
      "  Files: 8 total\n",
      "    ✅ Tokenizer: 3.4 MB\n",
      "    ❌ Model config: Missing\n",
      "    ✅ ONNX model: 62.7 MB\n",
      "\n",
      "  Snapshot 2: 06ee2e61e008682c36b29f41ec7d2f3db0850b63\n",
      "  Path: /home/ct-admin/.cache/huggingface/hub/models--livekit--turn-detector/snapshots/06ee2e61e008682c36b29f41ec7d2f3db0850b63\n",
      "  Files: 10 total\n",
      "    ✅ Tokenizer: 3.4 MB\n",
      "    ✅ Model config: 0.0 MB\n",
      "    ❌ ONNX model: Missing\n",
      "\n",
      "  Snapshot 3: 4d5ca07ab21f41a78ae3a1240b8c53ce3658b58a\n",
      "  Path: /home/ct-admin/.cache/huggingface/hub/models--livekit--turn-detector/snapshots/4d5ca07ab21f41a78ae3a1240b8c53ce3658b58a\n",
      "  Files: 8 total\n",
      "    ✅ Tokenizer: 10.9 MB\n",
      "    ❌ Model config: Missing\n",
      "    ✅ ONNX model: 373.4 MB\n",
      "\n",
      "==================== EN MODEL ====================\n",
      "Checking en model status...\n",
      "--------------------------------------------------\n",
      "Model: livekit/turn-detector\n",
      "Revision: v1.2.2-en\n",
      "Cache directory: /home/ct-admin/.cache/huggingface/hub\n",
      "Model cache path: /home/ct-admin/.cache/huggingface/hub/models--livekit--turn-detector\n",
      "✅ Found 3 snapshot(s):\n",
      "\n",
      "  Snapshot 1: ebcab0c09c2b62d926e92180d364df3aaae68a09\n",
      "  Path: /home/ct-admin/.cache/huggingface/hub/models--livekit--turn-detector/snapshots/ebcab0c09c2b62d926e92180d364df3aaae68a09\n",
      "  Files: 8 total\n",
      "    ✅ Tokenizer: 3.4 MB\n",
      "    ❌ Model config: Missing\n",
      "    ✅ ONNX model: 62.7 MB\n",
      "\n",
      "  Snapshot 2: 06ee2e61e008682c36b29f41ec7d2f3db0850b63\n",
      "  Path: /home/ct-admin/.cache/huggingface/hub/models--livekit--turn-detector/snapshots/06ee2e61e008682c36b29f41ec7d2f3db0850b63\n",
      "  Files: 10 total\n",
      "    ✅ Tokenizer: 3.4 MB\n",
      "    ✅ Model config: 0.0 MB\n",
      "    ❌ ONNX model: Missing\n",
      "\n",
      "  Snapshot 3: 4d5ca07ab21f41a78ae3a1240b8c53ce3658b58a\n",
      "  Path: /home/ct-admin/.cache/huggingface/hub/models--livekit--turn-detector/snapshots/4d5ca07ab21f41a78ae3a1240b8c53ce3658b58a\n",
      "  Files: 8 total\n",
      "    ✅ Tokenizer: 10.9 MB\n",
      "    ❌ Model config: Missing\n",
      "    ✅ ONNX model: 373.4 MB\n",
      "\n",
      "============================================================\n",
      "📂 All cached HuggingFace models:\n",
      "--------------------------------------------------\n",
      "  📦 Alibaba-NLP/gte-modernbert-base: 575.4 MB\n",
      "  📦 BAAI/bge-m3: 8705.9 MB\n",
      "  📦 CuriousMonkey7/HumAware-VAD: 4.3 MB\n",
      "  📦 HuggingFaceTB/SmolLM2-135M: 513.2 MB\n",
      "  📦 HuggingFaceTB/SmolVLM-256M-Instruct: 6374.4 MB\n",
      "  📦 HuggingFaceTB/SmolVLM-Instruct: 8578.2 MB\n",
      "  📦 HuggingFaceTB/cosmo2-tokenizer: 6.4 MB\n",
      "  📦 PekingU/rtdetr_v2_r18vd: 154.3 MB\n",
      "  📦 Qwen/Qwen2-VL-7B-Instruct: 31651.3 MB\n",
      "  📦 Qwen/Qwen2.5-1.5B-Instruct: 21.9 MB\n",
      "  📦 Qwen/Qwen2.5-Omni-3B: 30.3 MB\n",
      "  📦 Qwen/Qwen3-235B-A22B: 30.3 MB\n",
      "  📦 UsefulSensors/moonshine: 471.2 MB\n",
      "  📦 canopylabs/orpheus-3b-0.1-ft: 6403.9 MB\n",
      "  📦 ds4sd/SmolDocling-256M-preview: 6382.0 MB\n",
      "  📦 ds4sd/docling-models: 1719.0 MB\n",
      "  📦 echo840/MonkeyOCR: 0.0 MB\n",
      "  📦 freddyaboulton/silero-vad: 3.4 MB\n",
      "  📦 google/siglip-base-patch16-224: 1550.1 MB\n",
      "  📦 hexgrad/Kokoro-82M: 626.1 MB\n",
      "  📦 ibm-granite/granite-embedding-125m-english: 482.0 MB\n",
      "  📦 ibm-granite/granite-embedding-278m-multilingual: 1088.9 MB\n",
      "  📦 ibm-granite/granite-embedding-30m-english: 121.5 MB\n",
      "  📦 livekit/turn-detector: 2260.7 MB\n",
      "  📦 lusxvr/nanoVLM-222M: 1694.7 MB\n",
      "  📦 nari-labs/Dia-1.6B: 12292.5 MB\n",
      "  📦 nomic-ai/nomic-bert-2048: 0.2 MB\n",
      "  📦 nomic-ai/nomic-embed-text-v1: 1045.2 MB\n",
      "  📦 nomic-ai/nomic-embed-text-v2-moe: 3668.5 MB\n",
      "  📦 nvidia/parakeet-tdt-0.6b-v2: 7073.1 MB\n",
      "  📦 openai/whisper-large-v3: 5896.6 MB\n",
      "  📦 openai/whisper-large-v3-turbo: 3094.6 MB\n",
      "  📦 sentence-transformers/all-MiniLM-L12-v2: 255.9 MB\n",
      "  📦 sentence-transformers/all-MiniLM-L6-v2: 1819.5 MB\n",
      "  📦 thenlper/gte-small: 129.2 MB\n",
      "  📦 unsloth/Qwen2.5-VL-7B-Instruct-GGUF: 0.0 MB\n",
      "  📦 unstructuredio/yolo_x_layout: 413.2 MB\n",
      "  📦 ustc-community/dfine-medium-obj2coco: 150.1 MB\n",
      "  📦 ustc-community/dfine-small-obj2coco: 79.2 MB\n",
      "  📦 vidore/colpali-v1.2: 184.3 MB\n",
      "  📦 vidore/colpaligemma-3b-pt-448-base: 11156.8 MB\n",
      "  📦 vidore/colqwen2-base: 25282.5 MB\n",
      "  📦 vidore/colqwen2-v1.0: 257.2 MB\n",
      "  📦 vidore/colqwen2.5-base: 14324.1 MB\n",
      "  📦 vidore/colqwen2.5-v0.2: 0.0 MB\n",
      "\n",
      "Total cache size: 166571.9 MB\n",
      "\n",
      "============================================================\n",
      "Model management complete!\n",
      "\n",
      "Useful commands:\n",
      "  - Check status: manager.check_model_status('multilingual')\n",
      "  - Download: manager.download_model('multilingual')\n",
      "  - Force re-download: manager.download_model('multilingual', force=True)\n",
      "  - Clean cache: manager.clean_cache()\n"
     ]
    }
   ],
   "source": [
    "# from turn_detection.livekit_turn_detector import  test_exact_livekit\n",
    "from src.utils.hugging_face_model_cache_check import check_model\n",
    "check_model()"
   ]
  },
  {
   "cell_type": "code",
   "execution_count": null,
   "id": "5d093f35",
   "metadata": {},
   "outputs": [],
   "source": []
  }
 ],
 "metadata": {
  "kernelspec": {
   "display_name": "llm_cv2",
   "language": "python",
   "name": "python3"
  },
  "language_info": {
   "codemirror_mode": {
    "name": "ipython",
    "version": 3
   },
   "file_extension": ".py",
   "mimetype": "text/x-python",
   "name": "python",
   "nbconvert_exporter": "python",
   "pygments_lexer": "ipython3",
   "version": "3.12.11"
  }
 },
 "nbformat": 4,
 "nbformat_minor": 5
}
