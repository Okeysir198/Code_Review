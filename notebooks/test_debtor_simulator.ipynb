{
 "cells": [
  {
   "cell_type": "code",
   "execution_count": 1,
   "id": "91241499",
   "metadata": {},
   "outputs": [],
   "source": [
    "# Make sure autoreload is properly set up for auto reload the module if changes\n",
    "%load_ext autoreload\n",
    "%autoreload 2"
   ]
  },
  {
   "cell_type": "code",
   "execution_count": 2,
   "id": "7fd42f0b",
   "metadata": {},
   "outputs": [
    {
     "name": "stdout",
     "output_type": "stream",
     "text": [
      "/home/ct-admin/Documents/Langgraph/00_AudioProject/02_Call_Center_AI_Agent\n"
     ]
    }
   ],
   "source": [
    "import os, sys\n",
    "from dotenv import load_dotenv, find_dotenv\n",
    "\n",
    "current_dir = os.getcwd()\n",
    "parent_dir = os.path.dirname(current_dir)\n",
    "sys.path.append(parent_dir)\n",
    "\n",
    "\n",
    "_ = load_dotenv(find_dotenv())\n",
    "\n",
    "# print(os.environ.get('OPENAI_API_KEY'))\n",
    "print(parent_dir)"
   ]
  },
  {
   "cell_type": "code",
   "execution_count": 8,
   "id": "d97fc19f",
   "metadata": {},
   "outputs": [
    {
     "name": "stderr",
     "output_type": "stream",
     "text": [
      "2025-05-28 09:17:10,467 - INFO - Using cached data for user_id: 83906\n"
     ]
    },
    {
     "name": "stdout",
     "output_type": "stream",
     "text": [
      "🎯 Select test type:\n",
      "1. quick - Essential tests only\n",
      "2. comprehensive - All scenarios\n",
      "3. scenarios - Specific challenging scenarios\n",
      "4. edge - Edge cases and unusual situations\n",
      "5. validation - Personality consistency checks\n",
      "6. all - Everything\n",
      "7. examples - Show notebook examples\n"
     ]
    },
    {
     "name": "stderr",
     "output_type": "stream",
     "text": [
      "2025-05-28 09:17:15,262 - INFO - HTTP Request: POST http://127.0.0.1:11434/api/chat \"HTTP/1.1 200 OK\"\n"
     ]
    },
    {
     "name": "stdout",
     "output_type": "stream",
     "text": [
      "🎭 DEBTOR SIMULATOR TEST SUITE\n",
      "================================================================================\n",
      "🤖 Using model: qwen2.5:7b-instruct\n",
      "👤 Testing with: Linda Oelofse\n",
      "================================================================================\n",
      "⚡ QUICK TEST SUITE\n",
      "==================================================\n",
      "\n",
      "📞 TESTING: COOPERATIVE\n",
      "👤 Agent says: Good day, may I speak to Mrs Linda Oelofse please?\n",
      "🎭 Debtor responds: Yes, this is Linda Oelofse speaking. How can I assist you today?\n",
      "------------------------------------------------------------\n",
      "\n",
      "📞 TESTING: WRONG_PERSON\n",
      "👤 Agent says: Good day, may I speak to Mrs Linda Oelofse please?\n"
     ]
    },
    {
     "name": "stderr",
     "output_type": "stream",
     "text": [
      "2025-05-28 09:17:15,407 - INFO - HTTP Request: POST http://127.0.0.1:11434/api/chat \"HTTP/1.1 200 OK\"\n",
      "2025-05-28 09:17:15,583 - INFO - HTTP Request: POST http://127.0.0.1:11434/api/chat \"HTTP/1.1 200 OK\"\n"
     ]
    },
    {
     "name": "stdout",
     "output_type": "stream",
     "text": [
      "🎭 Debtor responds: I think you have the wrong number. There's no one here by that name. Can I help with anything else?\n",
      "------------------------------------------------------------\n",
      "\n",
      "📞 TESTING: SPOUSE\n",
      "👤 Agent says: Good day, may I speak to Mrs Linda Oelofse please?\n",
      "🎭 Debtor responds: I'm sorry, she's not home right now. Can I take a message for her?\n",
      "------------------------------------------------------------\n",
      "\n",
      "📞 TESTING: COOPERATIVE\n",
      "👤 Agent says: Could you please confirm your ID number for security?\n"
     ]
    },
    {
     "name": "stderr",
     "output_type": "stream",
     "text": [
      "2025-05-28 09:17:15,749 - INFO - HTTP Request: POST http://127.0.0.1:11434/api/chat \"HTTP/1.1 200 OK\"\n",
      "2025-05-28 09:17:15,923 - INFO - HTTP Request: POST http://127.0.0.1:11434/api/chat \"HTTP/1.1 200 OK\"\n",
      "2025-05-28 09:17:16,060 - INFO - HTTP Request: POST http://127.0.0.1:11434/api/chat \"HTTP/1.1 200 OK\"\n"
     ]
    },
    {
     "name": "stdout",
     "output_type": "stream",
     "text": [
      "🎭 Debtor responds: Of course, my ID number is 83906. How can I assist you further with this information?\n",
      "------------------------------------------------------------\n",
      "\n",
      "📞 TESTING: WRONG_PERSON\n",
      "👤 Agent says: Are you sure you're not Linda Oelofse?\n",
      "🎭 Debtor responds: I think you have the wrong number. There's no one here by that name.\n",
      "------------------------------------------------------------\n",
      "\n",
      "📞 TESTING: SPOUSE\n",
      "👤 Agent says: Could you ask Linda Oelofse to call us back?\n"
     ]
    },
    {
     "name": "stderr",
     "output_type": "stream",
     "text": [
      "2025-05-28 09:17:16,365 - INFO - HTTP Request: POST http://127.0.0.1:11434/api/chat \"HTTP/1.1 200 OK\"\n"
     ]
    },
    {
     "name": "stdout",
     "output_type": "stream",
     "text": [
      "🎭 Debtor responds: I'll let her know you called, but she might not be able to get back to you right away since she’s at work today. Is there something I can take down for her or pass along when she's free?\n",
      "------------------------------------------------------------\n",
      "🎯 CREATING ALL DEBTOR TYPES...\n",
      "✅ Created 10 debtor simulators\n",
      "🎯 Testing with client: Mrs Linda Oelofse\n",
      "================================================================================\n",
      "\n",
      "🧪 TEST SCENARIO 1: Initial Contact\n",
      "================================================================================\n",
      "\n",
      "📞 TESTING: COOPERATIVE\n",
      "👤 Agent says: Good day, may I speak to Mrs Linda Oelofse please?\n",
      "🎭 Debtor responds: Yes, this is Linda Oelofse speaking. How can I assist you today?\n",
      "------------------------------------------------------------\n"
     ]
    },
    {
     "name": "stderr",
     "output_type": "stream",
     "text": [
      "2025-05-28 09:17:17,030 - INFO - HTTP Request: POST http://127.0.0.1:11434/api/chat \"HTTP/1.1 200 OK\"\n"
     ]
    },
    {
     "name": "stdout",
     "output_type": "stream",
     "text": [
      "\n",
      "📞 TESTING: DIFFICULT\n",
      "👤 Agent says: Good day, may I speak to Mrs Linda Oelofse please?\n",
      "🎭 Debtor responds: (scrição) Who's this asking for? Why do you need to talk to me?\n",
      "------------------------------------------------------------\n"
     ]
    },
    {
     "name": "stderr",
     "output_type": "stream",
     "text": [
      "2025-05-28 09:17:17,696 - INFO - HTTP Request: POST http://127.0.0.1:11434/api/chat \"HTTP/1.1 200 OK\"\n"
     ]
    },
    {
     "name": "stdout",
     "output_type": "stream",
     "text": [
      "\n",
      "📞 TESTING: SUSPICIOUS\n",
      "👤 Agent says: Good day, may I speak to Mrs Linda Oelofse please?\n",
      "🎭 Debtor responds: Who's asking? Why do you need to know? This is quite unusual. May I ask who this is and why you're calling?\n",
      "------------------------------------------------------------\n"
     ]
    },
    {
     "name": "stderr",
     "output_type": "stream",
     "text": [
      "2025-05-28 09:17:18,403 - INFO - HTTP Request: POST http://127.0.0.1:11434/api/chat \"HTTP/1.1 200 OK\"\n"
     ]
    },
    {
     "name": "stdout",
     "output_type": "stream",
     "text": [
      "\n",
      "📞 TESTING: WRONG_PERSON\n",
      "👤 Agent says: Good day, may I speak to Mrs Linda Oelofse please?\n",
      "🎭 Debtor responds: I think you have the wrong number. There's no one here by that name. Can I help you with anything else?\n",
      "------------------------------------------------------------\n"
     ]
    },
    {
     "name": "stderr",
     "output_type": "stream",
     "text": [
      "2025-05-28 09:17:19,097 - INFO - HTTP Request: POST http://127.0.0.1:11434/api/chat \"HTTP/1.1 200 OK\"\n"
     ]
    },
    {
     "name": "stdout",
     "output_type": "stream",
     "text": [
      "\n",
      "📞 TESTING: SPOUSE\n",
      "👤 Agent says: Good day, may I speak to Mrs Linda Oelofse please?\n",
      "🎭 Debtor responds: I'm sorry, she's not here right now. Can I take a message for you?\n",
      "------------------------------------------------------------\n"
     ]
    },
    {
     "name": "stderr",
     "output_type": "stream",
     "text": [
      "2025-05-28 09:17:19,760 - INFO - HTTP Request: POST http://127.0.0.1:11434/api/chat \"HTTP/1.1 200 OK\"\n"
     ]
    },
    {
     "name": "stdout",
     "output_type": "stream",
     "text": [
      "\n",
      "📞 TESTING: PARENT\n",
      "👤 Agent says: Good day, may I speak to Mrs Linda Oelofse please?\n",
      "🎭 Debtor responds: I'm sorry, she's not available right now. Can I take a message for her?\n",
      "------------------------------------------------------------\n"
     ]
    },
    {
     "name": "stderr",
     "output_type": "stream",
     "text": [
      "2025-05-28 09:17:20,442 - INFO - HTTP Request: POST http://127.0.0.1:11434/api/chat \"HTTP/1.1 200 OK\"\n"
     ]
    },
    {
     "name": "stdout",
     "output_type": "stream",
     "text": [
      "\n",
      "🔄🔄🔄🔄🔄🔄🔄🔄🔄🔄🔄🔄🔄🔄🔄🔄🔄🔄🔄🔄🔄🔄🔄🔄🔄🔄🔄🔄🔄🔄🔄🔄🔄🔄🔄🔄🔄🔄🔄🔄 SCENARIO COMPLETE 🔄🔄🔄🔄🔄🔄🔄🔄🔄🔄🔄🔄🔄🔄🔄🔄🔄🔄🔄🔄🔄🔄🔄🔄🔄🔄🔄🔄🔄🔄🔄🔄🔄🔄🔄🔄🔄🔄🔄🔄\n",
      "\n",
      "🧪 TEST SCENARIO 2: Identity Verification\n",
      "================================================================================\n",
      "\n",
      "📞 TESTING: COOPERATIVE\n",
      "👤 Agent says: This is John from Cartrack Accounts Department. For security purposes, could you please confirm your ID number?\n",
      "🎭 Debtor responds: Yes, this is Linda speaking. Can I just confirm, is there a specific reason they need my ID number? It's R 83906 by the way.\n",
      "------------------------------------------------------------\n"
     ]
    },
    {
     "name": "stderr",
     "output_type": "stream",
     "text": [
      "2025-05-28 09:17:21,204 - INFO - HTTP Request: POST http://127.0.0.1:11434/api/chat \"HTTP/1.1 200 OK\"\n"
     ]
    },
    {
     "name": "stdout",
     "output_type": "stream",
     "text": [
      "\n",
      "📞 TESTING: DIFFICULT\n",
      "👤 Agent says: This is John from Cartrack Accounts Department. For security purposes, could you please confirm your ID number?\n",
      "🎭 Debtor responds: Ugh, why do I have to pay again? Can't you just check my account or something? What's the deal? Look, I don't owe anything, right? Just checking.\n",
      "------------------------------------------------------------\n"
     ]
    },
    {
     "name": "stderr",
     "output_type": "stream",
     "text": [
      "2025-05-28 09:17:21,977 - INFO - HTTP Request: POST http://127.0.0.1:11434/api/chat \"HTTP/1.1 200 OK\"\n"
     ]
    },
    {
     "name": "stdout",
     "output_type": "stream",
     "text": [
      "\n",
      "📞 TESTING: SUSPICIOUS\n",
      "👤 Agent says: This is John from Cartrack Accounts Department. For security purposes, could you please confirm your ID number?\n",
      "🎭 Debtor responds: Who's asking? Why do you need to know my ID number? Can't this wait?\n",
      "------------------------------------------------------------\n"
     ]
    },
    {
     "name": "stderr",
     "output_type": "stream",
     "text": [
      "2025-05-28 09:17:22,645 - INFO - HTTP Request: POST http://127.0.0.1:11434/api/chat \"HTTP/1.1 200 OK\"\n"
     ]
    },
    {
     "name": "stdout",
     "output_type": "stream",
     "text": [
      "\n",
      "🔄🔄🔄🔄🔄🔄🔄🔄🔄🔄🔄🔄🔄🔄🔄🔄🔄🔄🔄🔄🔄🔄🔄🔄🔄🔄🔄🔄🔄🔄🔄🔄🔄🔄🔄🔄🔄🔄🔄🔄 SCENARIO COMPLETE 🔄🔄🔄🔄🔄🔄🔄🔄🔄🔄🔄🔄🔄🔄🔄🔄🔄🔄🔄🔄🔄🔄🔄🔄🔄🔄🔄🔄🔄🔄🔄🔄🔄🔄🔄🔄🔄🔄🔄🔄\n",
      "\n",
      "🧪 TEST SCENARIO 3: Payment Discussion\n",
      "================================================================================\n",
      "\n",
      "📞 TESTING: COOPERATIVE\n",
      "👤 Agent says: Mrs Linda Oelofse, you have an outstanding balance of R4030.0000 on your account. Can we arrange payment today?\n",
      "🎭 Debtor responds: Yes, this is Linda speaking. I understand we need to clear this up. When would be a good time for me to make the payment?\n",
      "------------------------------------------------------------\n"
     ]
    },
    {
     "name": "stderr",
     "output_type": "stream",
     "text": [
      "2025-05-28 09:17:23,365 - INFO - HTTP Request: POST http://127.0.0.1:11434/api/chat \"HTTP/1.1 200 OK\"\n"
     ]
    },
    {
     "name": "stdout",
     "output_type": "stream",
     "text": [
      "\n",
      "📞 TESTING: DIFFICULT\n",
      "👤 Agent says: Mrs Linda Oelofse, you have an outstanding balance of R4030.0000 on your account. Can we arrange payment today?\n",
      "🎭 Debtor responds: Yeah, that's me. What do you want? Look, I'm not sure why I need to pay this. Can you explain?\n",
      "------------------------------------------------------------\n"
     ]
    },
    {
     "name": "stderr",
     "output_type": "stream",
     "text": [
      "2025-05-28 09:17:24,087 - INFO - HTTP Request: POST http://127.0.0.1:11434/api/chat \"HTTP/1.1 200 OK\"\n"
     ]
    },
    {
     "name": "stdout",
     "output_type": "stream",
     "text": [
      "\n",
      "📞 TESTING: BUSY\n",
      "👤 Agent says: Mrs Linda Oelofse, you have an outstanding balance of R4030.0000 on your account. Can we arrange payment today?\n",
      "🎭 Debtor responds: Yes, that's me. I'm busy, what do you need? Can we set up a quick debit order or something similar?\n",
      "------------------------------------------------------------\n"
     ]
    },
    {
     "name": "stderr",
     "output_type": "stream",
     "text": [
      "2025-05-28 09:17:24,791 - INFO - HTTP Request: POST http://127.0.0.1:11434/api/chat \"HTTP/1.1 200 OK\"\n"
     ]
    },
    {
     "name": "stdout",
     "output_type": "stream",
     "text": [
      "\n",
      "🔄🔄🔄🔄🔄🔄🔄🔄🔄🔄🔄🔄🔄🔄🔄🔄🔄🔄🔄🔄🔄🔄🔄🔄🔄🔄🔄🔄🔄🔄🔄🔄🔄🔄🔄🔄🔄🔄🔄🔄 SCENARIO COMPLETE 🔄🔄🔄🔄🔄🔄🔄🔄🔄🔄🔄🔄🔄🔄🔄🔄🔄🔄🔄🔄🔄🔄🔄🔄🔄🔄🔄🔄🔄🔄🔄🔄🔄🔄🔄🔄🔄🔄🔄🔄\n",
      "\n",
      "🧪 TEST SCENARIO 4: Wrong Person Persistence\n",
      "================================================================================\n",
      "\n",
      "📞 TESTING: WRONG_PERSON\n",
      "👤 Agent says: Are you sure you're not Linda Oelofse? This is regarding a Cartrack account.\n",
      "🎭 Debtor responds: I think you have the wrong number. There's no one here by that name, and I don't know anything about a Cartrack account. Please check your records and try again with the correct number.\n",
      "------------------------------------------------------------\n"
     ]
    },
    {
     "name": "stderr",
     "output_type": "stream",
     "text": [
      "2025-05-28 09:17:25,564 - INFO - HTTP Request: POST http://127.0.0.1:11434/api/chat \"HTTP/1.1 200 OK\"\n"
     ]
    },
    {
     "name": "stdout",
     "output_type": "stream",
     "text": [
      "\n",
      "🔄🔄🔄🔄🔄🔄🔄🔄🔄🔄🔄🔄🔄🔄🔄🔄🔄🔄🔄🔄🔄🔄🔄🔄🔄🔄🔄🔄🔄🔄🔄🔄🔄🔄🔄🔄🔄🔄🔄🔄 SCENARIO COMPLETE 🔄🔄🔄🔄🔄🔄🔄🔄🔄🔄🔄🔄🔄🔄🔄🔄🔄🔄🔄🔄🔄🔄🔄🔄🔄🔄🔄🔄🔄🔄🔄🔄🔄🔄🔄🔄🔄🔄🔄🔄\n",
      "\n",
      "🧪 TEST SCENARIO 5: Third Party Message Taking\n",
      "================================================================================\n",
      "\n",
      "📞 TESTING: SPOUSE\n",
      "👤 Agent says: Could you please ask Linda Oelofse to call Cartrack urgently at 011 250 3000?\n",
      "🎭 Debtor responds: I'll let her know you called, but I can't guarantee when she'll be able to contact Cartrack as they might not be available right now. Is there something specific you need help with or should I just leave a message for her?\n",
      "------------------------------------------------------------\n"
     ]
    },
    {
     "name": "stderr",
     "output_type": "stream",
     "text": [
      "2025-05-28 09:17:26,403 - INFO - HTTP Request: POST http://127.0.0.1:11434/api/chat \"HTTP/1.1 200 OK\"\n"
     ]
    },
    {
     "name": "stdout",
     "output_type": "stream",
     "text": [
      "\n",
      "📞 TESTING: PARENT\n",
      "👤 Agent says: Could you please ask Linda Oelofse to call Cartrack urgently at 011 250 3000?\n",
      "🎭 Debtor responds: I'll let her know you called, but I'm not sure when she'll be able to get back to you since she's out right now. Is there a specific reason this is urgent? Maybe leave a message for her if it's important.\n",
      "------------------------------------------------------------\n"
     ]
    },
    {
     "name": "stderr",
     "output_type": "stream",
     "text": [
      "2025-05-28 09:17:27,221 - INFO - HTTP Request: POST http://127.0.0.1:11434/api/chat \"HTTP/1.1 200 OK\"\n"
     ]
    },
    {
     "name": "stdout",
     "output_type": "stream",
     "text": [
      "\n",
      "📞 TESTING: ASSISTANT\n",
      "👤 Agent says: Could you please ask Linda Oelofse to call Cartrack urgently at 011 250 3000?\n",
      "🎭 Debtor responds: Of course, I'll let Linda know to give Cartrack a call as soon as she can. Is there anything specific you'd like her to mention when she speaks with them?\n",
      "------------------------------------------------------------\n"
     ]
    },
    {
     "name": "stderr",
     "output_type": "stream",
     "text": [
      "2025-05-28 09:17:27,977 - INFO - HTTP Request: POST http://127.0.0.1:11434/api/chat \"HTTP/1.1 200 OK\"\n"
     ]
    },
    {
     "name": "stdout",
     "output_type": "stream",
     "text": [
      "\n",
      "📞 TESTING: EMPLOYEE\n",
      "👤 Agent says: Could you please ask Linda Oelofse to call Cartrack urgently at 011 250 3000?\n",
      "🎭 Debtor responds: I'll see if I can reach Linda, but she might be busy. Would you like to leave a message or should I transfer your call to their line?\n",
      "------------------------------------------------------------\n"
     ]
    },
    {
     "name": "stderr",
     "output_type": "stream",
     "text": [
      "2025-05-28 09:17:28,728 - INFO - HTTP Request: POST http://127.0.0.1:11434/api/chat \"HTTP/1.1 200 OK\"\n"
     ]
    },
    {
     "name": "stdout",
     "output_type": "stream",
     "text": [
      "\n",
      "🔄🔄🔄🔄🔄🔄🔄🔄🔄🔄🔄🔄🔄🔄🔄🔄🔄🔄🔄🔄🔄🔄🔄🔄🔄🔄🔄🔄🔄🔄🔄🔄🔄🔄🔄🔄🔄🔄🔄🔄 SCENARIO COMPLETE 🔄🔄🔄🔄🔄🔄🔄🔄🔄🔄🔄🔄🔄🔄🔄🔄🔄🔄🔄🔄🔄🔄🔄🔄🔄🔄🔄🔄🔄🔄🔄🔄🔄🔄🔄🔄🔄🔄🔄🔄\n",
      "\n",
      "🧪 TEST SCENARIO 6: Account Information Request\n",
      "================================================================================\n",
      "\n",
      "📞 TESTING: COOPERATIVE\n",
      "👤 Agent says: Can you tell me about the vehicle registration and make of the car?\n",
      "🎭 Debtor responds: Yes, this is Linda Oelofse speaking. The vehicle is registered as JY96NMGP, a Toyota Hilux, and it's white.\n",
      "------------------------------------------------------------\n"
     ]
    },
    {
     "name": "stderr",
     "output_type": "stream",
     "text": [
      "2025-05-28 09:17:29,473 - INFO - HTTP Request: POST http://127.0.0.1:11434/api/chat \"HTTP/1.1 200 OK\"\n"
     ]
    },
    {
     "name": "stdout",
     "output_type": "stream",
     "text": [
      "\n",
      "📞 TESTING: SUSPICIOUS\n",
      "👤 Agent says: Can you tell me about the vehicle registration and make of the car?\n",
      "🎭 Debtor responds: Um, can you please clarify who's asking? Why do you need this information? I'm a bit hesitant about sharing details.\n",
      "------------------------------------------------------------\n"
     ]
    },
    {
     "name": "stderr",
     "output_type": "stream",
     "text": [
      "2025-05-28 09:17:30,188 - INFO - HTTP Request: POST http://127.0.0.1:11434/api/chat \"HTTP/1.1 200 OK\"\n"
     ]
    },
    {
     "name": "stdout",
     "output_type": "stream",
     "text": [
      "\n",
      "📞 TESTING: CONFUSED\n",
      "👤 Agent says: Can you tell me about the vehicle registration and make of the car?\n",
      "🎭 Debtor responds: Um, yes... I think so? What is this about? The vehicle is a Toyota Hilux, right? And the registration is JY96NMGP. White one. Um, are you sure you have the right person?\n",
      "------------------------------------------------------------\n"
     ]
    },
    {
     "name": "stderr",
     "output_type": "stream",
     "text": [
      "2025-05-28 09:17:31,007 - INFO - HTTP Request: POST http://127.0.0.1:11434/api/chat \"HTTP/1.1 200 OK\"\n"
     ]
    },
    {
     "name": "stdout",
     "output_type": "stream",
     "text": [
      "\n",
      "🔄🔄🔄🔄🔄🔄🔄🔄🔄🔄🔄🔄🔄🔄🔄🔄🔄🔄🔄🔄🔄🔄🔄🔄🔄🔄🔄🔄🔄🔄🔄🔄🔄🔄🔄🔄🔄🔄🔄🔄 SCENARIO COMPLETE 🔄🔄🔄🔄🔄🔄🔄🔄🔄🔄🔄🔄🔄🔄🔄🔄🔄🔄🔄🔄🔄🔄🔄🔄🔄🔄🔄🔄🔄🔄🔄🔄🔄🔄🔄🔄🔄🔄🔄🔄\n",
      "\n",
      "🧪 TEST SCENARIO 7: Payment Urgency\n",
      "================================================================================\n",
      "\n",
      "📞 TESTING: COOPERATIVE\n",
      "👤 Agent says: If we don't receive payment today, the account will be handed to our legal department.\n",
      "🎭 Debtor responds: I understand that, but I'm really trying to sort this out. Could we maybe set up a repayment plan? I have some financial commitments right now and need a bit of time to arrange something.\n",
      "------------------------------------------------------------\n"
     ]
    },
    {
     "name": "stderr",
     "output_type": "stream",
     "text": [
      "2025-05-28 09:17:31,780 - INFO - HTTP Request: POST http://127.0.0.1:11434/api/chat \"HTTP/1.1 200 OK\"\n"
     ]
    },
    {
     "name": "stdout",
     "output_type": "stream",
     "text": [
      "\n",
      "📞 TESTING: DIFFICULT\n",
      "👤 Agent says: If we don't receive payment today, the account will be handed to our legal department.\n",
      "🎭 Debtor responds: Yeah, that's me. What do you want? Look, I've been busy and haven't had the cash flow like I expected. Can't you just wait a bit? My business is struggling right now.\n",
      "------------------------------------------------------------\n"
     ]
    },
    {
     "name": "stderr",
     "output_type": "stream",
     "text": [
      "2025-05-28 09:17:32,567 - INFO - HTTP Request: POST http://127.0.0.1:11434/api/chat \"HTTP/1.1 200 OK\"\n"
     ]
    },
    {
     "name": "stdout",
     "output_type": "stream",
     "text": [
      "\n",
      "📞 TESTING: BUSY\n",
      "👤 Agent says: If we don't receive payment today, the account will be handed to our legal department.\n",
      "🎭 Debtor responds: Yes, that's me. I'm busy, what do you need? Can we set up a quick payment plan or something?\n",
      "------------------------------------------------------------\n"
     ]
    },
    {
     "name": "stderr",
     "output_type": "stream",
     "text": [
      "2025-05-28 09:17:33,270 - INFO - HTTP Request: POST http://127.0.0.1:11434/api/chat \"HTTP/1.1 200 OK\"\n"
     ]
    },
    {
     "name": "stdout",
     "output_type": "stream",
     "text": [
      "\n",
      "🔄🔄🔄🔄🔄🔄🔄🔄🔄🔄🔄🔄🔄🔄🔄🔄🔄🔄🔄🔄🔄🔄🔄🔄🔄🔄🔄🔄🔄🔄🔄🔄🔄🔄🔄🔄🔄🔄🔄🔄 SCENARIO COMPLETE 🔄🔄🔄🔄🔄🔄🔄🔄🔄🔄🔄🔄🔄🔄🔄🔄🔄🔄🔄🔄🔄🔄🔄🔄🔄🔄🔄🔄🔄🔄🔄🔄🔄🔄🔄🔄🔄🔄🔄🔄\n",
      "\n",
      "🧪 TEST SCENARIO 8: Caller Verification\n",
      "================================================================================\n",
      "\n",
      "📞 TESTING: SUSPICIOUS\n",
      "👤 Agent says: Who is this? What company are you calling from?\n",
      "🎭 Debtor responds: Um, who's asking? Why do you need to know? This is a bit unusual. Can you tell me which company this is first?\n",
      "------------------------------------------------------------\n"
     ]
    },
    {
     "name": "stderr",
     "output_type": "stream",
     "text": [
      "2025-05-28 09:17:33,980 - INFO - HTTP Request: POST http://127.0.0.1:11434/api/chat \"HTTP/1.1 200 OK\"\n"
     ]
    },
    {
     "name": "stdout",
     "output_type": "stream",
     "text": [
      "\n",
      "📞 TESTING: WRONG_PERSON\n",
      "👤 Agent says: Who is this? What company are you calling from?\n",
      "🎭 Debtor responds: I think you have the wrong number. Who am I speaking to, and what company are you from?\n",
      "------------------------------------------------------------\n"
     ]
    },
    {
     "name": "stderr",
     "output_type": "stream",
     "text": [
      "2025-05-28 09:17:34,651 - INFO - HTTP Request: POST http://127.0.0.1:11434/api/chat \"HTTP/1.1 200 OK\"\n"
     ]
    },
    {
     "name": "stdout",
     "output_type": "stream",
     "text": [
      "\n",
      "📞 TESTING: SPOUSE\n",
      "👤 Agent says: Who is this? What company are you calling from?\n",
      "🎭 Debtor responds: I’m Sarah Oelofse, Linda’s spouse. I can’t discuss her personal matters or those of our account. Is there something I can help with instead?\n",
      "------------------------------------------------------------\n"
     ]
    },
    {
     "name": "stderr",
     "output_type": "stream",
     "text": [
      "2025-05-28 09:17:35,393 - INFO - HTTP Request: POST http://127.0.0.1:11434/api/chat \"HTTP/1.1 200 OK\"\n"
     ]
    },
    {
     "name": "stdout",
     "output_type": "stream",
     "text": [
      "\n",
      "🔄🔄🔄🔄🔄🔄🔄🔄🔄🔄🔄🔄🔄🔄🔄🔄🔄🔄🔄🔄🔄🔄🔄🔄🔄🔄🔄🔄🔄🔄🔄🔄🔄🔄🔄🔄🔄🔄🔄🔄 SCENARIO COMPLETE 🔄🔄🔄🔄🔄🔄🔄🔄🔄🔄🔄🔄🔄🔄🔄🔄🔄🔄🔄🔄🔄🔄🔄🔄🔄🔄🔄🔄🔄🔄🔄🔄🔄🔄🔄🔄🔄🔄🔄🔄\n",
      "🎯 SPECIFIC SCENARIO TESTS\n",
      "==================================================\n",
      "\n",
      "🎬 SCENARIO: Persistent Wrong Person\n",
      "------------------------------------------------------------\n",
      "\n",
      "📞 Turn 1\n",
      "\n",
      "📞 TESTING: PERSISTENT_WRONG_PERSON\n",
      "👤 Agent says: May I speak to Mrs Linda Oelofse?\n",
      "🎭 Debtor responds: I think you have the wrong number. There's no one here by that name. Please check your records and try again.\n",
      "------------------------------------------------------------\n",
      "\n",
      "📞 Turn 2\n",
      "\n",
      "📞 TESTING: PERSISTENT_WRONG_PERSON\n",
      "👤 Agent says: This is regarding Linda Oelofse's Cartrack account.\n"
     ]
    },
    {
     "name": "stderr",
     "output_type": "stream",
     "text": [
      "2025-05-28 09:17:35,554 - INFO - HTTP Request: POST http://127.0.0.1:11434/api/chat \"HTTP/1.1 200 OK\"\n",
      "2025-05-28 09:17:35,710 - INFO - HTTP Request: POST http://127.0.0.1:11434/api/chat \"HTTP/1.1 200 OK\"\n"
     ]
    },
    {
     "name": "stdout",
     "output_type": "stream",
     "text": [
      "🎭 Debtor responds: I think you have the wrong number. There's no one here by that name. Please check your records and try again.\n",
      "------------------------------------------------------------\n",
      "\n",
      "📞 Turn 3\n",
      "\n",
      "📞 TESTING: PERSISTENT_WRONG_PERSON\n",
      "👤 Agent says: Are you sure you don't know Linda Oelofse?\n",
      "🎭 Debtor responds: I'm really sorry, but I think you have the wrong number. There's no one here by that name. Can you please check your records again?\n",
      "------------------------------------------------------------\n",
      "\n",
      "📞 Turn 4\n",
      "\n",
      "📞 TESTING: PERSISTENT_WRONG_PERSON\n",
      "👤 Agent says: This number is listed for this account.\n"
     ]
    },
    {
     "name": "stderr",
     "output_type": "stream",
     "text": [
      "2025-05-28 09:17:35,893 - INFO - HTTP Request: POST http://127.0.0.1:11434/api/chat \"HTTP/1.1 200 OK\"\n",
      "2025-05-28 09:17:36,076 - INFO - HTTP Request: POST http://127.0.0.1:11434/api/chat \"HTTP/1.1 200 OK\"\n"
     ]
    },
    {
     "name": "stdout",
     "output_type": "stream",
     "text": [
      "🎭 Debtor responds: I think you have the wrong number. This is not Linda Oelofse's line. Could you please check your records?\n",
      "------------------------------------------------------------\n",
      "\n",
      "🎬 SCENARIO: Protective Spouse\n",
      "------------------------------------------------------------\n",
      "\n",
      "📞 Turn 1\n",
      "\n",
      "📞 TESTING: PROTECTIVE_SPOUSE\n",
      "👤 Agent says: Is Linda Oelofse available?\n",
      "🎭 Debtor responds: She’s at work today, but I can take a message if you’d like. Is there something specific you need?\n",
      "------------------------------------------------------------\n",
      "\n",
      "📞 Turn 2\n",
      "\n",
      "📞 TESTING: PROTECTIVE_SPOUSE\n",
      "👤 Agent says: This is regarding their account with Cartrack.\n"
     ]
    },
    {
     "name": "stderr",
     "output_type": "stream",
     "text": [
      "2025-05-28 09:17:36,231 - INFO - HTTP Request: POST http://127.0.0.1:11434/api/chat \"HTTP/1.1 200 OK\"\n",
      "2025-05-28 09:17:36,404 - INFO - HTTP Request: POST http://127.0.0.1:11434/api/chat \"HTTP/1.1 200 OK\"\n",
      "2025-05-28 09:17:36,496 - INFO - HTTP Request: POST http://127.0.0.1:11434/api/chat \"HTTP/1.1 200 OK\"\n"
     ]
    },
    {
     "name": "stdout",
     "output_type": "stream",
     "text": [
      "🎭 Debtor responds: I see. He's not here right now, can I take a message? Is there something specific you need help with related to their account?\n",
      "------------------------------------------------------------\n",
      "\n",
      "📞 Turn 3\n",
      "\n",
      "📞 TESTING: PROTECTIVE_SPOUSE\n",
      "👤 Agent says: When would be a good time to reach them?\n",
      "🎭 Debtor responds: He's not here right now, can I take a message?\n",
      "------------------------------------------------------------\n",
      "\n",
      "📞 Turn 4\n",
      "\n",
      "📞 TESTING: PROTECTIVE_SPOUSE\n",
      "👤 Agent says: Is everything okay with the account?\n"
     ]
    },
    {
     "name": "stderr",
     "output_type": "stream",
     "text": [
      "2025-05-28 09:17:36,714 - INFO - HTTP Request: POST http://127.0.0.1:11434/api/chat \"HTTP/1.1 200 OK\"\n"
     ]
    },
    {
     "name": "stdout",
     "output_type": "stream",
     "text": [
      "🎭 Debtor responds: I’ll let them know you called about the account. Is there something specific you need to know, or can I take a message for them?\n",
      "------------------------------------------------------------\n",
      "\n",
      "🎬 SCENARIO: Suspicious Verification\n",
      "------------------------------------------------------------\n",
      "\n",
      "📞 Turn 1\n",
      "\n",
      "📞 TESTING: SUSPICIOUS_VERIFICATION\n",
      "👤 Agent says: Good day Mrs Linda Oelofse.\n",
      "🎭 Debtor responds: Who's asking? Why do you need to know? This is a bit unusual. Can I help you with something specific?\n",
      "------------------------------------------------------------\n",
      "\n",
      "📞 Turn 2\n",
      "\n",
      "📞 TESTING: SUSPICIOUS_VERIFICATION\n",
      "👤 Agent says: This is John from Cartrack Accounts.\n"
     ]
    },
    {
     "name": "stderr",
     "output_type": "stream",
     "text": [
      "2025-05-28 09:17:36,866 - INFO - HTTP Request: POST http://127.0.0.1:11434/api/chat \"HTTP/1.1 200 OK\"\n",
      "2025-05-28 09:17:36,984 - INFO - HTTP Request: POST http://127.0.0.1:11434/api/chat \"HTTP/1.1 200 OK\"\n",
      "2025-05-28 09:17:37,141 - INFO - HTTP Request: POST http://127.0.0.1:11434/api/chat \"HTTP/1.1 200 OK\"\n"
     ]
    },
    {
     "name": "stdout",
     "output_type": "stream",
     "text": [
      "🎭 Debtor responds: Who's asking? Why do you need to know? Can I help with something specific?\n",
      "------------------------------------------------------------\n",
      "\n",
      "📞 Turn 3\n",
      "\n",
      "📞 TESTING: SUSPICIOUS_VERIFICATION\n",
      "👤 Agent says: I need to verify your identity first.\n",
      "🎭 Debtor responds: Who's asking? Why do you need to know? Can I ask who this is and why you're calling about my account?\n",
      "------------------------------------------------------------\n",
      "\n",
      "📞 Turn 4\n",
      "\n",
      "📞 TESTING: SUSPICIOUS_VERIFICATION\n",
      "👤 Agent says: Could you confirm your ID number?\n"
     ]
    },
    {
     "name": "stderr",
     "output_type": "stream",
     "text": [
      "2025-05-28 09:17:37,305 - INFO - HTTP Request: POST http://127.0.0.1:11434/api/chat \"HTTP/1.1 200 OK\"\n",
      "2025-05-28 09:17:37,405 - INFO - HTTP Request: POST http://127.0.0.1:11434/api/chat \"HTTP/1.1 200 OK\"\n"
     ]
    },
    {
     "name": "stdout",
     "output_type": "stream",
     "text": [
      "🎭 Debtor responds: Who's asking? Why do you need to know? Can I get some more details on this, please?\n",
      "------------------------------------------------------------\n",
      "\n",
      "🎬 SCENARIO: Busy Professional\n",
      "------------------------------------------------------------\n",
      "\n",
      "📞 Turn 1\n",
      "\n",
      "📞 TESTING: BUSY_PROFESSIONAL\n",
      "👤 Agent says: Hello Mrs Linda Oelofse.\n",
      "🎭 Debtor responds: Yes, that's me. I'm busy, what do you need?\n",
      "------------------------------------------------------------\n",
      "\n",
      "📞 Turn 2\n",
      "\n",
      "📞 TESTING: BUSY_PROFESSIONAL\n",
      "👤 Agent says: This is regarding your Cartrack account.\n"
     ]
    },
    {
     "name": "stderr",
     "output_type": "stream",
     "text": [
      "2025-05-28 09:17:37,505 - INFO - HTTP Request: POST http://127.0.0.1:11434/api/chat \"HTTP/1.1 200 OK\"\n",
      "2025-05-28 09:17:37,607 - INFO - HTTP Request: POST http://127.0.0.1:11434/api/chat \"HTTP/1.1 200 OK\"\n"
     ]
    },
    {
     "name": "stdout",
     "output_type": "stream",
     "text": [
      "🎭 Debtor responds: Yes, that's me. I'm busy, what do you need?\n",
      "------------------------------------------------------------\n",
      "\n",
      "📞 Turn 3\n",
      "\n",
      "📞 TESTING: BUSY_PROFESSIONAL\n",
      "👤 Agent says: You have an outstanding balance.\n",
      "🎭 Debtor responds: Yes, that's me. I'm busy, what do you need?\n",
      "------------------------------------------------------------\n",
      "\n",
      "📞 Turn 4\n",
      "\n",
      "📞 TESTING: BUSY_PROFESSIONAL\n",
      "👤 Agent says: Can we resolve this quickly?\n"
     ]
    },
    {
     "name": "stderr",
     "output_type": "stream",
     "text": [
      "2025-05-28 09:17:37,737 - INFO - HTTP Request: POST http://127.0.0.1:11434/api/chat \"HTTP/1.1 200 OK\"\n"
     ]
    },
    {
     "name": "stdout",
     "output_type": "stream",
     "text": [
      "🎭 Debtor responds: Yes, that's me. I'm busy, what do you need?\n",
      "------------------------------------------------------------\n",
      "🚨 EDGE CASE TESTS\n",
      "==================================================\n",
      "\n",
      "⚠️  EDGE CASE: Confused About Everything\n",
      "\n",
      "📞 TESTING: CONFUSED_ABOUT_EVERYTHING\n",
      "👤 Agent says: You owe R399 on your Cartrack account. Do you remember signing up?\n",
      "🎭 Debtor responds: Um, yes... I think so? What is this about? I don't quite recall. Could you maybe explain a bit more?\n",
      "------------------------------------------------------------\n",
      "\n",
      "⚠️  EDGE CASE: Aggressive Refusal\n",
      "\n",
      "📞 TESTING: AGGRESSIVE_REFUSAL\n",
      "👤 Agent says: If you don't pay today, we'll take legal action.\n"
     ]
    },
    {
     "name": "stderr",
     "output_type": "stream",
     "text": [
      "2025-05-28 09:17:37,927 - INFO - HTTP Request: POST http://127.0.0.1:11434/api/chat \"HTTP/1.1 200 OK\"\n",
      "2025-05-28 09:17:38,159 - INFO - HTTP Request: POST http://127.0.0.1:11434/api/chat \"HTTP/1.1 200 OK\"\n"
     ]
    },
    {
     "name": "stdout",
     "output_type": "stream",
     "text": [
      "🎭 Debtor responds: Yeah, that's me. What do you want? I already told you, I can't pay right now. Got any other options or are you just going to threaten me?\n",
      "------------------------------------------------------------\n",
      "\n",
      "⚠️  EDGE CASE: Professional Boundary\n",
      "\n",
      "📞 TESTING: PROFESSIONAL_BOUNDARY\n",
      "👤 Agent says: Can you tell Linda Oelofse their car will be repossessed?\n"
     ]
    },
    {
     "name": "stderr",
     "output_type": "stream",
     "text": [
      "2025-05-28 09:17:38,469 - INFO - HTTP Request: POST http://127.0.0.1:11434/api/chat \"HTTP/1.1 200 OK\"\n"
     ]
    },
    {
     "name": "stdout",
     "output_type": "stream",
     "text": [
      "🎭 Debtor responds: I understand your concern, but I can’t reach Ms. Oelofse right now. Would you like to leave a message for her? Alternatively, is there someone else I can contact who might have more information about the situation?\n",
      "------------------------------------------------------------\n",
      "\n",
      "⚠️  EDGE CASE: Information Fishing\n",
      "\n",
      "📞 TESTING: INFORMATION_FISHING\n",
      "👤 Agent says: What's your relationship to the account holder?\n",
      "🎭 Debtor responds: Um, yes... I think so? What is this about? I'm not really sure. Can you explain a bit more?\n",
      "------------------------------------------------------------\n",
      "\n",
      "⚠️  EDGE CASE: Payment Pressure\n",
      "\n",
      "📞 TESTING: PAYMENT_PRESSURE\n",
      "👤 Agent says: We need R399 immediately or your vehicle tracking will be suspended.\n"
     ]
    },
    {
     "name": "stderr",
     "output_type": "stream",
     "text": [
      "2025-05-28 09:17:38,656 - INFO - HTTP Request: POST http://127.0.0.1:11434/api/chat \"HTTP/1.1 200 OK\"\n",
      "2025-05-28 09:17:38,929 - INFO - HTTP Request: POST http://127.0.0.1:11434/api/chat \"HTTP/1.1 200 OK\"\n"
     ]
    },
    {
     "name": "stdout",
     "output_type": "stream",
     "text": [
      "🎭 Debtor responds: Yeah, that's me. What do you want? Look, I can't just hand over money like this. Why should I pay for something I didn’t even know about? Can you explain this to me?\n",
      "------------------------------------------------------------\n",
      "✅ VALIDATION TESTS\n",
      "==================================================\n",
      "\n",
      "🔍 VALIDATING: COOPERATIVE\n",
      "Expected: Should provide information readily\n",
      "\n",
      "📞 TESTING: COOPERATIVE\n",
      "👤 Agent says: Could you please confirm your full name and ID number?\n"
     ]
    },
    {
     "name": "stderr",
     "output_type": "stream",
     "text": [
      "2025-05-28 09:17:39,147 - INFO - HTTP Request: POST http://127.0.0.1:11434/api/chat \"HTTP/1.1 200 OK\"\n"
     ]
    },
    {
     "name": "stdout",
     "output_type": "stream",
     "text": [
      "🎭 Debtor responds: Yes, this is Linda Oelofse speaking. My ID number is 83906. How can I assist you today with my account?\n",
      "------------------------------------------------------------\n",
      "\n",
      "🔍 VALIDATING: DIFFICULT\n",
      "Expected: Should resist or question request\n",
      "\n",
      "📞 TESTING: DIFFICULT\n",
      "👤 Agent says: Could you please confirm your full name and ID number?\n"
     ]
    },
    {
     "name": "stderr",
     "output_type": "stream",
     "text": [
      "2025-05-28 09:17:39,508 - INFO - HTTP Request: POST http://127.0.0.1:11434/api/chat \"HTTP/1.1 200 OK\"\n"
     ]
    },
    {
     "name": "stdout",
     "output_type": "stream",
     "text": [
      "🎭 Debtor responds: Linda Oelofse here. Why do I need to pay anything? What's this about? Just spit it out.\n",
      "\n",
      "[If the caller persists, after a brief pause:]\n",
      "\n",
      "Yeah, that's me. What do you want? ID Number 83906 if you must know.\n",
      "------------------------------------------------------------\n",
      "\n",
      "🔍 VALIDATING: SUSPICIOUS\n",
      "Expected: Should ask why information is needed\n",
      "\n",
      "📞 TESTING: SUSPICIOUS\n",
      "👤 Agent says: Could you please confirm your full name and ID number?\n",
      "🎭 Debtor responds: Who's asking? Why do you need this information? Can't we just talk about the account?\n",
      "------------------------------------------------------------\n",
      "\n",
      "🔍 VALIDATING: WRONG_PERSON\n",
      "Expected: Should deny being the person\n",
      "\n",
      "📞 TESTING: WRONG_PERSON\n",
      "👤 Agent says: Could you please confirm your full name and ID number?\n"
     ]
    },
    {
     "name": "stderr",
     "output_type": "stream",
     "text": [
      "2025-05-28 09:17:39,659 - INFO - HTTP Request: POST http://127.0.0.1:11434/api/chat \"HTTP/1.1 200 OK\"\n",
      "2025-05-28 09:17:39,844 - INFO - HTTP Request: POST http://127.0.0.1:11434/api/chat \"HTTP/1.1 200 OK\"\n"
     ]
    },
    {
     "name": "stdout",
     "output_type": "stream",
     "text": [
      "🎭 Debtor responds: I think you have the wrong number. There's no one here by that name. Can you check your records again, please?\n",
      "------------------------------------------------------------\n",
      "\n",
      "🔍 VALIDATING: SPOUSE\n",
      "Expected: Should not provide debtor's information\n",
      "\n",
      "📞 TESTING: SPOUSE\n",
      "👤 Agent says: Could you please confirm your full name and ID number?\n"
     ]
    },
    {
     "name": "stderr",
     "output_type": "stream",
     "text": [
      "2025-05-28 09:17:40,110 - INFO - HTTP Request: POST http://127.0.0.1:11434/api/chat \"HTTP/1.1 200 OK\"\n"
     ]
    },
    {
     "name": "stdout",
     "output_type": "stream",
     "text": [
      "🎭 Debtor responds: I’m Sarah Oelofse, but I can’t share any personal details like an ID number. How about I take a message for Linda instead? Is there something specific you need to know or discuss?\n",
      "------------------------------------------------------------\n",
      "\n",
      "🔍 VALIDATING: PARENT\n",
      "Expected: Should not provide debtor's information\n",
      "\n",
      "📞 TESTING: PARENT\n",
      "👤 Agent says: Could you please confirm your full name and ID number?\n",
      "🎭 Debtor responds: I'm Margaret Oelofse, but I can't provide any personal identification details. Can I take a message for Linda instead?\n",
      "------------------------------------------------------------\n"
     ]
    }
   ],
   "source": [
    "# Debtor Simulator Test - Jupyter Notebook\n",
    "\n",
    "# Cell 1: Setup and Imports\n",
    "from os import wait\n",
    "from langchain_ollama import ChatOllama\n",
    "from src.Agents.graph_debtor_simulator import *\n",
    "from src.Agents.call_center_agent.data_parameter_builder import get_client_data_async\n",
    "from rich import print as rprint\n",
    "import time\n",
    "user_id = \"83906\"\n",
    "client_data = await get_client_data_async(user_id)\n",
    "\n",
    "\n",
    "def test_debtor_response(debtor_agent, message: str, personality_type: str = \"unknown\"):\n",
    "    \"\"\"Test a single debtor response and display results.\"\"\"\n",
    "    print(f\"\\n📞 TESTING: {personality_type.upper()}\")\n",
    "    print(f\"👤 Agent says: {message}\")\n",
    "    \n",
    "    try:\n",
    "        response = debtor_agent.invoke({\"messages\": [(\"user\", message)]})\n",
    "        debtor_response = response['messages'][-1].content\n",
    "        print(f\"🎭 Debtor responds: {debtor_response}\")\n",
    "    except Exception as e:\n",
    "        print(f\"❌ Error: {e}\")\n",
    "    \n",
    "    print(\"-\" * 60)\n",
    "\n",
    "\n",
    "def run_comprehensive_tests(llm, client_data):\n",
    "    \"\"\"Run all test scenarios systematically.\"\"\"\n",
    "    \n",
    "    print(\"🎯 CREATING ALL DEBTOR TYPES...\")\n",
    "    \n",
    "    # Create all debtor types\n",
    "    debtors = {\n",
    "        \"cooperative\": create_cooperative_debtor(llm, client_data),\n",
    "        \"difficult\": create_difficult_debtor(llm, client_data),\n",
    "        \"confused\": create_confused_debtor(llm, client_data),\n",
    "        \"busy\": create_busy_debtor(llm, client_data),\n",
    "        \"suspicious\": create_suspicious_debtor(llm, client_data),\n",
    "        \"wrong_person\": create_wrong_person(llm, client_data),\n",
    "        \"spouse\": create_third_party_spouse(llm, client_data),\n",
    "        \"parent\": create_third_party_parent(llm, client_data),\n",
    "        \"assistant\": create_third_party_assistant(llm, client_data),\n",
    "        \"employee\": create_third_party_employee(llm, client_data)\n",
    "    }\n",
    "    \n",
    "    # Extract client info\n",
    "    client_name = client_data['profile']['client_info']['client_full_name']\n",
    "    client_title = client_data['profile']['client_info']['title']\n",
    "    outstanding_amount = client_data.get('account_aging', {}).get('xbalance', '399.00')\n",
    "    \n",
    "    print(f\"✅ Created {len(debtors)} debtor simulators\")\n",
    "    print(f\"🎯 Testing with client: {client_title} {client_name}\")\n",
    "    print(\"=\" * 80)\n",
    "    \n",
    "    # Test scenarios\n",
    "    test_scenarios = [\n",
    "        {\n",
    "            \"name\": \"Initial Contact\",\n",
    "            \"message\": f\"Good day, may I speak to {client_title} {client_name} please?\",\n",
    "            \"test_types\": [\"cooperative\", \"difficult\", \"suspicious\", \"wrong_person\", \"spouse\", \"parent\"]\n",
    "        },\n",
    "        {\n",
    "            \"name\": \"Identity Verification\",\n",
    "            \"message\": \"This is John from Cartrack Accounts Department. For security purposes, could you please confirm your ID number?\",\n",
    "            \"test_types\": [\"cooperative\", \"difficult\", \"suspicious\"]\n",
    "        },\n",
    "        {\n",
    "            \"name\": \"Payment Discussion\",\n",
    "            \"message\": f\"{client_title} {client_name}, you have an outstanding balance of R{outstanding_amount} on your account. Can we arrange payment today?\",\n",
    "            \"test_types\": [\"cooperative\", \"difficult\", \"busy\"]\n",
    "        },\n",
    "        {\n",
    "            \"name\": \"Wrong Person Persistence\",\n",
    "            \"message\": f\"Are you sure you're not {client_name}? This is regarding a Cartrack account.\",\n",
    "            \"test_types\": [\"wrong_person\"]\n",
    "        },\n",
    "        {\n",
    "            \"name\": \"Third Party Message Taking\",\n",
    "            \"message\": f\"Could you please ask {client_name} to call Cartrack urgently at 011 250 3000?\",\n",
    "            \"test_types\": [\"spouse\", \"parent\", \"assistant\", \"employee\"]\n",
    "        },\n",
    "        {\n",
    "            \"name\": \"Account Information Request\",\n",
    "            \"message\": \"Can you tell me about the vehicle registration and make of the car?\",\n",
    "            \"test_types\": [\"cooperative\", \"suspicious\", \"confused\"]\n",
    "        },\n",
    "        {\n",
    "            \"name\": \"Payment Urgency\",\n",
    "            \"message\": \"If we don't receive payment today, the account will be handed to our legal department.\",\n",
    "            \"test_types\": [\"cooperative\", \"difficult\", \"busy\"]\n",
    "        },\n",
    "        {\n",
    "            \"name\": \"Caller Verification\",\n",
    "            \"message\": \"Who is this? What company are you calling from?\",\n",
    "            \"test_types\": [\"suspicious\", \"wrong_person\", \"spouse\"]\n",
    "        }\n",
    "    ]\n",
    "    \n",
    "    # Run all test scenarios\n",
    "    for i, scenario in enumerate(test_scenarios, 1):\n",
    "        print(f\"\\n🧪 TEST SCENARIO {i}: {scenario['name']}\")\n",
    "        print(\"=\" * 80)\n",
    "        \n",
    "        for debtor_type in scenario['test_types']:\n",
    "            if debtor_type in debtors:\n",
    "                test_debtor_response(debtors[debtor_type], scenario['message'], debtor_type)\n",
    "                time.sleep(0.5)  # Small delay between tests\n",
    "        \n",
    "        print(\"\\n\" + \"🔄\" * 40 + \" SCENARIO COMPLETE \" + \"🔄\" * 40)\n",
    "\n",
    "\n",
    "def run_quick_tests(llm, client_data):\n",
    "    \"\"\"Run essential tests quickly.\"\"\"\n",
    "    \n",
    "    print(\"⚡ QUICK TEST SUITE\")\n",
    "    print(\"=\" * 50)\n",
    "    \n",
    "    # Create key debtor types\n",
    "    cooperative = create_cooperative_debtor(llm, client_data)\n",
    "    wrong_person = create_wrong_person(llm, client_data)\n",
    "    spouse = create_third_party_spouse(llm, client_data)\n",
    "    \n",
    "    client_name = client_data['profile']['client_info']['client_full_name']\n",
    "    client_title = client_data['profile']['client_info']['title']\n",
    "    \n",
    "    # Essential tests\n",
    "    tests = [\n",
    "        (cooperative, f\"Good day, may I speak to {client_title} {client_name} please?\", \"cooperative\"),\n",
    "        (wrong_person, f\"Good day, may I speak to {client_title} {client_name} please?\", \"wrong_person\"),\n",
    "        (spouse, f\"Good day, may I speak to {client_title} {client_name} please?\", \"spouse\"),\n",
    "        (cooperative, \"Could you please confirm your ID number for security?\", \"cooperative\"),\n",
    "        (wrong_person, f\"Are you sure you're not {client_name}?\", \"wrong_person\"),\n",
    "        (spouse, f\"Could you ask {client_name} to call us back?\", \"spouse\")\n",
    "    ]\n",
    "    \n",
    "    for debtor, message, personality in tests:\n",
    "        test_debtor_response(debtor, message, personality)\n",
    "\n",
    "\n",
    "def run_specific_scenario_tests(llm, client_data):\n",
    "    \"\"\"Test specific challenging scenarios.\"\"\"\n",
    "    \n",
    "    print(\"🎯 SPECIFIC SCENARIO TESTS\")\n",
    "    print(\"=\" * 50)\n",
    "    \n",
    "    client_name = client_data['profile']['client_info']['client_full_name']\n",
    "    client_title = client_data['profile']['client_info']['title']\n",
    "    \n",
    "    # Create specific debtors for focused testing\n",
    "    scenarios = {\n",
    "        \"Persistent Wrong Person\": {\n",
    "            \"debtor\": create_wrong_person(llm, client_data),\n",
    "            \"messages\": [\n",
    "                f\"May I speak to {client_title} {client_name}?\",\n",
    "                f\"This is regarding {client_name}'s Cartrack account.\",\n",
    "                f\"Are you sure you don't know {client_name}?\",\n",
    "                \"This number is listed for this account.\"\n",
    "            ]\n",
    "        },\n",
    "        \"Protective Spouse\": {\n",
    "            \"debtor\": create_third_party_spouse(llm, client_data),\n",
    "            \"messages\": [\n",
    "                f\"Is {client_name} available?\",\n",
    "                \"This is regarding their account with Cartrack.\",\n",
    "                \"When would be a good time to reach them?\",\n",
    "                \"Is everything okay with the account?\"\n",
    "            ]\n",
    "        },\n",
    "        \"Suspicious Verification\": {\n",
    "            \"debtor\": create_suspicious_debtor(llm, client_data),\n",
    "            \"messages\": [\n",
    "                f\"Good day {client_title} {client_name}.\",\n",
    "                \"This is John from Cartrack Accounts.\",\n",
    "                \"I need to verify your identity first.\",\n",
    "                \"Could you confirm your ID number?\"\n",
    "            ]\n",
    "        },\n",
    "        \"Busy Professional\": {\n",
    "            \"debtor\": create_busy_debtor(llm, client_data),\n",
    "            \"messages\": [\n",
    "                f\"Hello {client_title} {client_name}.\",\n",
    "                \"This is regarding your Cartrack account.\",\n",
    "                \"You have an outstanding balance.\",\n",
    "                \"Can we resolve this quickly?\"\n",
    "            ]\n",
    "        }\n",
    "    }\n",
    "    \n",
    "    for scenario_name, scenario_data in scenarios.items():\n",
    "        print(f\"\\n🎬 SCENARIO: {scenario_name}\")\n",
    "        print(\"-\" * 60)\n",
    "        \n",
    "        for i, message in enumerate(scenario_data[\"messages\"], 1):\n",
    "            print(f\"\\n📞 Turn {i}\")\n",
    "            test_debtor_response(scenario_data[\"debtor\"], message, scenario_name.lower().replace(\" \", \"_\"))\n",
    "\n",
    "\n",
    "def test_edge_cases(llm, client_data):\n",
    "    \"\"\"Test edge cases and unusual scenarios.\"\"\"\n",
    "    \n",
    "    print(\"🚨 EDGE CASE TESTS\")\n",
    "    print(\"=\" * 50)\n",
    "    \n",
    "    # Create edge case debtors\n",
    "    confused = create_confused_debtor(llm, client_data)\n",
    "    difficult = create_difficult_debtor(llm, client_data)\n",
    "    employee = create_third_party_employee(llm, client_data)\n",
    "    \n",
    "    client_name = client_data['profile']['client_info']['client_full_name']\n",
    "    \n",
    "    edge_cases = [\n",
    "        {\n",
    "            \"name\": \"Confused About Everything\",\n",
    "            \"debtor\": confused,\n",
    "            \"message\": \"You owe R399 on your Cartrack account. Do you remember signing up?\"\n",
    "        },\n",
    "        {\n",
    "            \"name\": \"Aggressive Refusal\",\n",
    "            \"debtor\": difficult,\n",
    "            \"message\": \"If you don't pay today, we'll take legal action.\"\n",
    "        },\n",
    "        {\n",
    "            \"name\": \"Professional Boundary\",\n",
    "            \"debtor\": employee,\n",
    "            \"message\": f\"Can you tell {client_name} their car will be repossessed?\"\n",
    "        },\n",
    "        {\n",
    "            \"name\": \"Information Fishing\",\n",
    "            \"debtor\": confused,\n",
    "            \"message\": \"What's your relationship to the account holder?\"\n",
    "        },\n",
    "        {\n",
    "            \"name\": \"Payment Pressure\",\n",
    "            \"debtor\": difficult,\n",
    "            \"message\": \"We need R399 immediately or your vehicle tracking will be suspended.\"\n",
    "        }\n",
    "    ]\n",
    "    \n",
    "    for case in edge_cases:\n",
    "        print(f\"\\n⚠️  EDGE CASE: {case['name']}\")\n",
    "        test_debtor_response(case['debtor'], case['message'], case['name'].lower().replace(\" \", \"_\"))\n",
    "\n",
    "\n",
    "def run_validation_tests(llm, client_data):\n",
    "    \"\"\"Validate that debtors behave according to their personality.\"\"\"\n",
    "    \n",
    "    print(\"✅ VALIDATION TESTS\")\n",
    "    print(\"=\" * 50)\n",
    "    \n",
    "    # Test personality consistency\n",
    "    validation_message = \"Could you please confirm your full name and ID number?\"\n",
    "    \n",
    "    validators = [\n",
    "        (\"cooperative\", create_cooperative_debtor(llm, client_data), \"Should provide information readily\"),\n",
    "        (\"difficult\", create_difficult_debtor(llm, client_data), \"Should resist or question request\"),\n",
    "        (\"suspicious\", create_suspicious_debtor(llm, client_data), \"Should ask why information is needed\"),\n",
    "        (\"wrong_person\", create_wrong_person(llm, client_data), \"Should deny being the person\"),\n",
    "        (\"spouse\", create_third_party_spouse(llm, client_data), \"Should not provide debtor's information\"),\n",
    "        (\"parent\", create_third_party_parent(llm, client_data), \"Should not provide debtor's information\")\n",
    "    ]\n",
    "    \n",
    "    for personality, debtor, expected_behavior in validators:\n",
    "        print(f\"\\n🔍 VALIDATING: {personality.upper()}\")\n",
    "        print(f\"Expected: {expected_behavior}\")\n",
    "        test_debtor_response(debtor, validation_message, personality)\n",
    "\n",
    "\n",
    "# Main test execution function\n",
    "def execute_test_suite(test_type: str = \"comprehensive\"):\n",
    "    \"\"\"Execute the specified test suite.\"\"\"\n",
    "    \n",
    "    # Initialize LLM\n",
    "    llm = ChatOllama(model=\"qwen2.5:7b-instruct\", temperature=0.7)\n",
    "    \n",
    "    \n",
    "    print(\"🎭 DEBTOR SIMULATOR TEST SUITE\")\n",
    "    print(\"=\" * 80)\n",
    "    print(f\"🤖 Using model: qwen2.5:7b-instruct\")\n",
    "    print(f\"👤 Testing with: {client_data['profile']['client_info']['client_full_name']}\")\n",
    "    print(\"=\" * 80)\n",
    "    \n",
    "    # Run selected test type\n",
    "    if test_type == \"quick\":\n",
    "        run_quick_tests(llm, client_data)\n",
    "    elif test_type == \"comprehensive\":\n",
    "        run_comprehensive_tests(llm, client_data)\n",
    "    elif test_type == \"scenarios\":\n",
    "        run_specific_scenario_tests(llm, client_data)\n",
    "    elif test_type == \"edge\":\n",
    "        test_edge_cases(llm, client_data)\n",
    "    elif test_type == \"validation\":\n",
    "        run_validation_tests(llm, client_data)\n",
    "    elif test_type == \"all\":\n",
    "        run_quick_tests(llm, client_data)\n",
    "        run_comprehensive_tests(llm, client_data)\n",
    "        run_specific_scenario_tests(llm, client_data)\n",
    "        test_edge_cases(llm, client_data)\n",
    "        run_validation_tests(llm, client_data)\n",
    "    else:\n",
    "        print(\"❌ Invalid test type. Choose: quick, comprehensive, scenarios, edge, validation, or all\")\n",
    "\n",
    "\n",
    "# Simple usage examples for Jupyter notebooks\n",
    "def notebook_test_examples():\n",
    "    \"\"\"Simple examples for notebook testing.\"\"\"\n",
    "    \n",
    "    print(\"📝 NOTEBOOK TEST EXAMPLES\")\n",
    "    print(\"=\" * 50)\n",
    "    \n",
    "    examples = [\n",
    "        {\n",
    "            \"title\": \"Cell 1: Setup\",\n",
    "            \"code\": \"\"\"\n",
    "# Initialize\n",
    "from langchain_ollama import ChatOllama\n",
    "llm = ChatOllama(model=\"qwen2.5:7b-instruct\", temperature=0.7)\n",
    "\n",
    "# Your client data\n",
    "client_data = {...}  # Your actual client data\n",
    "\n",
    "# Create debtors\n",
    "cooperative_debtor = create_cooperative_debtor(llm, client_data)\n",
    "difficult_debtor = create_difficult_debtor(llm, client_data)\n",
    "suspicious_debtor = create_suspicious_debtor(llm, client_data)\n",
    "wrong_person = create_wrong_person(llm, client_data)\n",
    "spouse = create_third_party_spouse(llm, client_data)\n",
    "\"\"\"\n",
    "        },\n",
    "        {\n",
    "            \"title\": \"Cell 2: Initial Contact Test\",\n",
    "            \"code\": \"\"\"\n",
    "client_name = client_data['profile']['client_info']['client_full_name']\n",
    "client_title = client_data['profile']['client_info']['title']\n",
    "message1 = f\"Good day, may I speak to {client_title} {client_name} please?\"\n",
    "\n",
    "test_debtor_response(cooperative_debtor, message1, \"cooperative\")\n",
    "test_debtor_response(difficult_debtor, message1, \"difficult\") \n",
    "test_debtor_response(suspicious_debtor, message1, \"suspicious\")\n",
    "test_debtor_response(wrong_person, message1, \"wrong_person\")\n",
    "test_debtor_response(spouse, message1, \"spouse\")\n",
    "\"\"\"\n",
    "        },\n",
    "        {\n",
    "            \"title\": \"Cell 3: Identity Verification Test\",\n",
    "            \"code\": \"\"\"\n",
    "message2 = \"This is John from Cartrack Accounts Department. For security purposes, could you please confirm your ID number?\"\n",
    "\n",
    "test_debtor_response(cooperative_debtor, message2, \"cooperative\")\n",
    "test_debtor_response(difficult_debtor, message2, \"difficult\")\n",
    "test_debtor_response(suspicious_debtor, message2, \"suspicious\")\n",
    "\"\"\"\n",
    "        },\n",
    "        {\n",
    "            \"title\": \"Cell 4: Payment Discussion Test\",\n",
    "            \"code\": \"\"\"\n",
    "outstanding = client_data.get('account_aging', {}).get('xbalance', '399.00')\n",
    "message3 = f\"{client_title} {client_name}, you have an outstanding balance of R{outstanding} on your account. Can we arrange payment today?\"\n",
    "\n",
    "test_debtor_response(cooperative_debtor, message3, \"cooperative\")\n",
    "test_debtor_response(difficult_debtor, message3, \"difficult\")\n",
    "test_debtor_response(suspicious_debtor, message3, \"suspicious\")\n",
    "\"\"\"\n",
    "        },\n",
    "        {\n",
    "            \"title\": \"Cell 5: Wrong Person Persistence Test\",\n",
    "            \"code\": \"\"\"\n",
    "message4 = f\"Are you sure you're not {client_name}? This is regarding a Cartrack vehicle tracking account.\"\n",
    "\n",
    "test_debtor_response(wrong_person, message4, \"wrong_person\")\n",
    "\"\"\"\n",
    "        },\n",
    "        {\n",
    "            \"title\": \"Cell 6: Third Party Message Test\",\n",
    "            \"code\": \"\"\"\n",
    "message5 = f\"Could you please ask {client_name} to call Cartrack urgently at 011 250 3000 regarding their account?\"\n",
    "\n",
    "test_debtor_response(spouse, message5, \"spouse\")\n",
    "\"\"\"\n",
    "        },\n",
    "        {\n",
    "            \"title\": \"Cell 7: Quick Comprehensive Test\",\n",
    "            \"code\": \"\"\"\n",
    "# Run all essential tests quickly\n",
    "execute_test_suite(\"quick\")\n",
    "\"\"\"\n",
    "        }\n",
    "    ]\n",
    "    \n",
    "    for example in examples:\n",
    "        print(f\"\\n{example['title']}\")\n",
    "        print(\"-\" * 40)\n",
    "        print(example['code'])\n",
    "\n",
    "\n",
    "if __name__ == \"__main__\":\n",
    "    # Example usage\n",
    "    print(\"🎯 Select test type:\")\n",
    "    print(\"1. quick - Essential tests only\")\n",
    "    print(\"2. comprehensive - All scenarios\")\n",
    "    print(\"3. scenarios - Specific challenging scenarios\")\n",
    "    print(\"4. edge - Edge cases and unusual situations\")\n",
    "    print(\"5. validation - Personality consistency checks\")\n",
    "    print(\"6. all - Everything\")\n",
    "    print(\"7. examples - Show notebook examples\")\n",
    "    \n",
    "    choice = input(\"\\nEnter choice (1-7): \").strip()\n",
    "    \n",
    "    test_map = {\n",
    "        \"1\": \"quick\",\n",
    "        \"2\": \"comprehensive\", \n",
    "        \"3\": \"scenarios\",\n",
    "        \"4\": \"edge\",\n",
    "        \"5\": \"validation\",\n",
    "        \"6\": \"all\",\n",
    "        \"7\": \"examples\"\n",
    "    }\n",
    "    \n",
    "    if choice == \"7\":\n",
    "        notebook_test_examples()\n",
    "    elif choice in test_map:\n",
    "        execute_test_suite(test_map[choice])\n",
    "    else:\n",
    "        print(\"❌ Invalid choice\")\n",
    "        execute_test_suite(\"quick\")  # Default to quick tests\n",
    "\n"
   ]
  },
  {
   "cell_type": "code",
   "execution_count": 9,
   "id": "edf8c3c6",
   "metadata": {},
   "outputs": [
    {
     "name": "stderr",
     "output_type": "stream",
     "text": [
      "2025-05-28 09:19:34,031 - INFO - HTTP Request: POST http://127.0.0.1:11434/api/chat \"HTTP/1.1 200 OK\"\n"
     ]
    },
    {
     "name": "stdout",
     "output_type": "stream",
     "text": [
      "\n",
      "📞 TESTING: COOPERATIVE\n",
      "👤 Agent says: Good day, may I speak to Mrs Linda Oelofse please?\n",
      "🎭 Debtor responds: Yes, this is Linda speaking. How can I assist you today?\n",
      "------------------------------------------------------------\n",
      "\n",
      "📞 TESTING: WRONG_PERSON\n",
      "👤 Agent says: Good day, may I speak to Mrs Linda Oelofse please?\n"
     ]
    },
    {
     "name": "stderr",
     "output_type": "stream",
     "text": [
      "2025-05-28 09:19:34,155 - INFO - HTTP Request: POST http://127.0.0.1:11434/api/chat \"HTTP/1.1 200 OK\"\n",
      "2025-05-28 09:19:34,337 - INFO - HTTP Request: POST http://127.0.0.1:11434/api/chat \"HTTP/1.1 200 OK\"\n"
     ]
    },
    {
     "name": "stdout",
     "output_type": "stream",
     "text": [
      "🎭 Debtor responds: I think you have the wrong number. There's no one here by that name. Can I help you with anything else?\n",
      "------------------------------------------------------------\n",
      "\n",
      "📞 TESTING: SPOUSE\n",
      "👤 Agent says: Good day, may I speak to Mrs Linda Oelofse please?\n",
      "🎭 Debtor responds: I'm sorry, but she's not home right now. Can I take a message for her?\n",
      "------------------------------------------------------------\n",
      "\n",
      "📞 TESTING: COOPERATIVE\n",
      "👤 Agent says: For security, could you please confirm your ID number?\n"
     ]
    },
    {
     "name": "stderr",
     "output_type": "stream",
     "text": [
      "2025-05-28 09:19:34,509 - INFO - HTTP Request: POST http://127.0.0.1:11434/api/chat \"HTTP/1.1 200 OK\"\n",
      "2025-05-28 09:19:34,740 - INFO - HTTP Request: POST http://127.0.0.1:11434/api/chat \"HTTP/1.1 200 OK\"\n"
     ]
    },
    {
     "name": "stdout",
     "output_type": "stream",
     "text": [
      "🎭 Debtor responds: Yes, this is Linda Oelofse speaking. For security reasons, I can confirm my ID number is 83906. How can we assist you further with the payment?\n",
      "------------------------------------------------------------\n",
      "\n",
      "📞 TESTING: COOPERATIVE\n",
      "👤 Agent says: You have R399.00 outstanding. Can we arrange payment today?\n",
      "🎭 Debtor responds: Yes, this is Linda Oelofse speaking. We can certainly discuss the payment options today. How can I help you with that?\n",
      "------------------------------------------------------------\n"
     ]
    }
   ],
   "source": [
    "# Cell 1: Setup\n",
    "from langchain_ollama import ChatOllama\n",
    "llm = ChatOllama(model=\"qwen2.5:7b-instruct\", temperature=0.7)\n",
    "\n",
    "cooperative_debtor = create_cooperative_debtor(llm, client_data)\n",
    "wrong_person = create_wrong_person(llm, client_data)\n",
    "spouse = create_third_party_spouse(llm, client_data)\n",
    "\n",
    "# Cell 2: Test Initial Contact\n",
    "client_name = client_data['profile']['client_info']['client_full_name'] \n",
    "client_title = client_data['profile']['client_info']['title']\n",
    "message1 = f\"Good day, may I speak to {client_title} {client_name} please?\"\n",
    "\n",
    "test_debtor_response(cooperative_debtor, message1, \"cooperative\")\n",
    "test_debtor_response(wrong_person, message1, \"wrong_person\")\n",
    "test_debtor_response(spouse, message1, \"spouse\")\n",
    "\n",
    "# Cell 3: Test Identity Verification  \n",
    "message2 = \"For security, could you please confirm your ID number?\"\n",
    "test_debtor_response(cooperative_debtor, message2, \"cooperative\")\n",
    "\n",
    "# Cell 4: Test Payment Discussion\n",
    "message3 = f\"You have R399.00 outstanding. Can we arrange payment today?\"\n",
    "test_debtor_response(cooperative_debtor, message3, \"cooperative\")"
   ]
  }
 ],
 "metadata": {
  "kernelspec": {
   "display_name": "llm_cv",
   "language": "python",
   "name": "python3"
  },
  "language_info": {
   "codemirror_mode": {
    "name": "ipython",
    "version": 3
   },
   "file_extension": ".py",
   "mimetype": "text/x-python",
   "name": "python",
   "nbconvert_exporter": "python",
   "pygments_lexer": "ipython3",
   "version": "3.11.11"
  }
 },
 "nbformat": 4,
 "nbformat_minor": 5
}
